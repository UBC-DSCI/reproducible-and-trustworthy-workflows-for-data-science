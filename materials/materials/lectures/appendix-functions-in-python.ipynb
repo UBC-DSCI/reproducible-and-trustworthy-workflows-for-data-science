{
 "cells": [
  {
   "cell_type": "markdown",
   "id": "8d666414-56b6-4e00-accb-202e29b6de40",
   "metadata": {},
   "source": [
    "# Appendix - Defining functions in Python:"
   ]
  },
  {
   "cell_type": "markdown",
   "id": "be11dbb9-da7f-4458-b595-a07833d6a376",
   "metadata": {},
   "source": [
    "In this course, we will get to practice writing functions (and then testing them) in the Python programming language. We will only cover it here briefly. To learn more about functions in Python, we refer you to the [Module 6: Functions Fundamentals and Best Practices\n",
    "](https://prog-learn.mds.ubc.ca/en/module6) from the Programming in Python for Data Science course.\n",
    "\n",
    "Functions in Python are defined using the reserved word `def`. A colon follows the function arguments to indicate where the function body should starte. White space, in particular indentation, is used to indicate which code belongs in the function body and which does not (unindented code following the function is not part of the function body). A general form for fucntion definition is shown below:\n",
    "\n",
    "```\n",
    "def function_name(…function arguments…):\n",
    "    …function body…\n",
    "```\n",
    "\n",
    "Here's a working example:"
   ]
  },
  {
   "cell_type": "code",
   "execution_count": 2,
   "id": "1b89b936-629f-41ce-a850-b65bdd648484",
   "metadata": {
    "slideshow": {
     "slide_type": "fragment"
    }
   },
   "outputs": [
    {
     "data": {
      "text/plain": [
       "5"
      ]
     },
     "execution_count": 2,
     "metadata": {},
     "output_type": "execute_result"
    }
   ],
   "source": [
    "def add_two_numbers(x, y):\n",
    "    return x + y\n",
    "\n",
    "add_two_numbers(1, 4)"
   ]
  },
  {
   "cell_type": "markdown",
   "id": "e0afba65-6e27-46ea-835f-c81eaa67e210",
   "metadata": {
    "slideshow": {
     "slide_type": "fragment"
    }
   },
   "source": [
    "Note that functions in Python are objects."
   ]
  },
  {
   "cell_type": "code",
   "execution_count": null,
   "id": "09dad929-0ac3-473b-b76b-85fe720b0331",
   "metadata": {},
   "outputs": [],
   "source": []
  }
 ],
 "metadata": {
  "kernelspec": {
   "display_name": "Python 3 (ipykernel)",
   "language": "python",
   "name": "python3"
  },
  "language_info": {
   "codemirror_mode": {
    "name": "ipython",
    "version": 3
   },
   "file_extension": ".py",
   "mimetype": "text/x-python",
   "name": "python",
   "nbconvert_exporter": "python",
   "pygments_lexer": "ipython3",
   "version": "3.11.6"
  }
 },
 "nbformat": 4,
 "nbformat_minor": 5
}
