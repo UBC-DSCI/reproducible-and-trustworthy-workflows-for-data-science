{
 "cells": [
  {
   "cell_type": "markdown",
   "metadata": {},
   "source": [
    "# Reproducible reports"
   ]
  },
  {
   "cell_type": "markdown",
   "metadata": {},
   "source": [
    "## Topic learning objectives\n",
    "\n",
    "By the end of this topic, students should be able to:\n",
    "\n",
    "1. Discuss the advantages and disadvantages of using literate code documents (e.g.,\n",
    "Quarto, Jupyter, R Markdown) for writing analytic reports compared to What You See Is\n",
    "What You Get (WYSIWYG) editors (e.g., Word, Pages)\n",
    "2. Convert `.ipynb` and `.Rmd` files to Quarto `.qmd` files\n",
    "3. Execute and render literate code documents\n",
    "4. Generate tables of contents, label and number figures and tables, and format\n",
    "bibliographies in a reproducible and automatted manner"
   ]
  },
  {
   "cell_type": "markdown",
   "metadata": {},
   "source": [
    "## Reproducible reports vs What You See Is What You Get (WYSIWYG) editors\n",
    "\n",
    "Reproducible reports are reports where automation is used to update a report when changes to data or data analysis methods lead to changes in data analysis artifacts (e.g., figures, tables, inline text values). This automation is usually specified and controlled by code. In the field of data science, the most common implementations of this are: \n",
    "\n",
    "- Quarot\n",
    "- R Markdown\n",
    "- Jupyter\n",
    "- LaTeX \n",
    "\n",
    "> Note: R Markdown and Jupyter are not completely separable from LaTeX, as they both wrap LaTeX when the desired output is PDF.\n",
    "\n",
    "Most implementations of reproducible reports involve a process called rendering, where a document containing code and/or markup language used to specify the text formatting, document layout, figure and table placement and numbering, bibliography formatting, *etc*, is converted to an output more suitable for consumption (e.g., beautifully formatted PDF or html document) by some software.\n",
    "\n",
    "<img src=\"img/render-report/render-report.png\" width=700>\n",
    "\n",
    "This contrasts from What You See Is What You Get (WYSIWYG) software or editors (e.g., Microsoft Word, Google Docs, etc), where the document that is being edited looks exactly like the final document - there is no rendering process. WYSIWYG reports are typically easier to get started with and use. However, they are usually quite limited in their ability to automatically update a report when changes to data or data analysis methods lead to changes in data analysis artifacts. This makes them less reproducible, and can lead to errors when repeated manual updating of data analysis artifacts is needed when analysis is iterated on during development. \n",
    "\n",
    "<img src=\"img/word.png\" width=300>"
   ]
  },
  {
   "cell_type": "markdown",
   "metadata": {},
   "source": [
    "## Introduction to Quarto\n",
    "\n",
    "Quarto is one implementation of a reproducible reporting tool.\n",
    "It is very user friendly and has become very powerful -\n",
    "allowing a great deal of control over formatting \n",
    "with the ability to render to many different outputs. \n",
    "\n",
    "Including:\n",
    "- PDF\n",
    "- html\n",
    "- Word\n",
    "- Powerpoint presentation\n",
    "- many more!\n",
    "\n",
    "It is a mix of markdown primarily used for narrative text,\n",
    "and code chunks where code can be executed in an engine.\n",
    "It works very well with either R or Python as the coding engine.\n",
    "It has many more advanced features for customizing document \n",
    "outputs compared to Jupyter notebooks on their own, \n",
    "which is why we recommend shifting to this tool when the audience\n",
    "of your analysis moves beyond you and your data science team.\n",
    "\n",
    "Quarto also can very easily convert between \n",
    "different kinds of reproducible report documents,\n",
    "making it easy to shift from working in an Jupyter notebook\n",
    "to this different reproducible report tool.\n",
    "For example, \n",
    "\n",
    "```\n",
    "quarto convert your_notebook.ipynb\n",
    "```\n",
    "\n",
    "There is a wonderful online guide for getting to know Quarto,\n",
    "we link to it below. \n",
    "In these notes, we will generally introduce this tool,\n",
    "and demonstrate how to: \n",
    "\n",
    "- Create document sections and a table of contents.\n",
    "- Add citations and a bibliography.\n",
    "- Format figures and figure captions, as well as automatically number them and cross reference them in the narrative text.\n",
    "- Format tables and table descriptions, as well as automatically number them and cross reference them in the narrative text.\n",
    "- Execute code inline in the report narrative, so that the text will be automatically updated with the correct value when the report is rendered.\n",
    "- Set the global and local code chunk options so that no code is viewable in the rendered report, just the code outputs where needed (e.g., figures and tables).\n",
    "\n",
    "Quarto can do all this and so much more, and so if you are interested in learning more\n",
    "be sure to refer to the [Quarto Guide](https://quarto.org/docs/guide/).\n",
    "\n",
    "#### Exercise - get to know Quarto\n",
    "\n",
    "Let's get to know Quarto! Open RStudio and create a new Quarto document, choosing HTML as the output format. \n",
    "Look at the source document that is created, where is the narrative text written? Where is the code written? How does this differ from Jupyter?\n",
    "\n",
    "#### Exercise - render your first document\n",
    "\n",
    "There are two ways to render a document from the `qmd` source to the desired output. One is using a button in RStudio - the **\"Render\"** button that looks like this:\n",
    "\n",
    "<img src=\"img/render.png\" width=200>\n",
    "\n",
    "Try clicking that button and see what happens!\n",
    "\n",
    "Another way you can do this is through code! Try running this in the terminal (replacing `\"FILEPATH/FILE.qmd\"` with the file path to where you saved this Quarto document:\n",
    "\n",
    "```\n",
    "quarto render your_report.qmd --to html\n",
    "```\n",
    "\n",
    "#### Exercise - checkout the new visual markdown editor\n",
    "\n",
    "RStudio has implemented a new feature for working with Quarto to make it more similar to working with Jupyter - it is called the visual markdown editor. Checkout this feature by clicking the visual markdown editor button when you have an R Markdown file open in the editor. The button looks like this:\n",
    "\n",
    "<img src=\"img/viz-md-button.png\" width=250>"
   ]
  },
  {
   "cell_type": "code",
   "execution_count": null,
   "metadata": {},
   "outputs": [],
   "source": []
  }
 ],
 "metadata": {
  "interpreter": {
   "hash": "b319716b0346eb12085fd5197d37942b2372f733afdc46387bcecfaa2bd21dfe"
  },
  "kernelspec": {
   "display_name": "Python 3 (ipykernel)",
   "language": "python",
   "name": "python3"
  },
  "language_info": {
   "codemirror_mode": {
    "name": "ipython",
    "version": 3
   },
   "file_extension": ".py",
   "mimetype": "text/x-python",
   "name": "python",
   "nbconvert_exporter": "python",
   "pygments_lexer": "ipython3",
   "version": "3.11.6"
  }
 },
 "nbformat": 4,
 "nbformat_minor": 4
}
