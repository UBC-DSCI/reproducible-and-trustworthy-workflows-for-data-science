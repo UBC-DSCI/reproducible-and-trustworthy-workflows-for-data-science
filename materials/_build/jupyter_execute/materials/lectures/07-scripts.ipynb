{
 "cells": [
  {
   "cell_type": "markdown",
   "metadata": {
    "slideshow": {
     "slide_type": "slide"
    }
   },
   "source": [
    "# Non-interactive scripts"
   ]
  },
  {
   "cell_type": "markdown",
   "metadata": {
    "slideshow": {
     "slide_type": "slide"
    }
   },
   "source": [
    "## Topic learning objectives\n",
    "\n",
    "By the end of this topic, students should be able to:\n",
    "\n",
    "1. Explain when it is optimal to work in a read-eval-print-loop (REPL) framework and\n",
    "when it is optimal to shift to using non-interactive scripts.\n",
    "2. Be able to create simple scripts in R that can take input and be executed\n",
    "from the command line.\n",
    "3. Decide when to move from using command line arguments to pass variables into a\n",
    "script to passing variables in via a configuration file, and create scripts that can read\n",
    "configuration files."
   ]
  },
  {
   "cell_type": "markdown",
   "metadata": {
    "slideshow": {
     "slide_type": "slide"
    }
   },
   "source": [
    "#### Read-eval-print-loop (REPL) framework (*i.e.,* interactive mode) versus Scripts\n",
    "\n",
    "- Up until now, we have primarily been using R and Python in an Read-eval-print-loop (REPL) framework (*i.e.,* interactive mode)\n",
    "- Read-eval-print-loop (REPL) framework (*i.e.,* interactive mode) is when we run our code in the console in R/Python, or in cells/chunks in the RStudio/Juptyer notebooks\n",
    "- A Read-eval-print-loop (REPL) framework (*i.e.,* interactive mode) is very useful for:\n",
    "    - solving small problems\n",
    "    - developing code that will be knit to an analytic report\n",
    "    - developing code that will be run as a script (i.e., in \"batch\" mode)"
   ]
  },
  {
   "cell_type": "markdown",
   "metadata": {
    "slideshow": {
     "slide_type": "slide"
    }
   },
   "source": [
    "## What is a script?\n",
    "\n",
    "An R/Python script is simply a plain text file containing (almost) the same commands that you would enter into R/Python's console or in cells/chunks in the RStudio/Juptyer notebooks. We often run these from top to bottom from the command line/unix shell."
   ]
  },
  {
   "cell_type": "markdown",
   "metadata": {
    "slideshow": {
     "slide_type": "slide"
    }
   },
   "source": [
    "#### Why write scripts?\n",
    "\n",
    "- Efficiency!\n",
    "- Automation!\n",
    "- Reusable!\n",
    "- Record of what you have done!\n",
    "\n",
    "**It also makes your report files a lot cleaner!!!**"
   ]
  },
  {
   "cell_type": "markdown",
   "metadata": {
    "slideshow": {
     "slide_type": "slide"
    }
   },
   "source": [
    "## Scripts in R"
   ]
  },
  {
   "cell_type": "markdown",
   "metadata": {
    "slideshow": {
     "slide_type": "fragment"
    }
   },
   "source": [
    "Let's start with a small, simple example to demonstrate how we write and run scripts in R (it is very similar in Python and we will get to this later in the lesson).\n",
    "\n",
    "Our script will be called `print_mean_hp.R`, and it will calculate the mean horsepower of the cars from the built-in R data frame `mtcars`. \n",
    "\n",
    "We will develop this script inside RStudio, make sure it works, and then run it from the command line/terminal/Git bash.\n",
    "\n",
    "##### Our first R script:\n",
    "\n",
    "```\n",
    "# author: Tiffany Timbers\n",
    "# date: 2020-01-15\n",
    "#\n",
    "# This script calculates the mean horsepower of the cars from the built-in \n",
    "# R data frame `mtcars`. This script takes no arguments.\n",
    "#\n",
    "# Usage: Rscript print_mean_hp.R\n",
    "\n",
    "mean_hp <- mean(mtcars$hp)\n",
    "print(mean_hp)\n",
    "```\n"
   ]
  },
  {
   "cell_type": "markdown",
   "metadata": {
    "slideshow": {
     "slide_type": "slide"
    }
   },
   "source": [
    "##### Running our first R script\n",
    "\n",
    "To run our R script, we need to open the command line/terminal/Git bash, and either navigate to the directory that houses the script OR point to it when we call it. We will do the former.\n",
    "\n",
    "Then to run the R script, we use the `Rscript` command, followed by the name/path to the file:\n",
    "\n",
    "```\n",
    "Rscript print_mean_hp.R\n",
    "```\n",
    "\n",
    "The output should be:\n",
    "\n",
    "```\n",
    "[1] 146.6875\n",
    "```"
   ]
  },
  {
   "cell_type": "markdown",
   "metadata": {},
   "source": [
    "#### A couple notes about scripts\n",
    "\n",
    "- If you want something to be output to the command line/terminal/Git bash, you **should** explicitly ask for it to be print. *This is not an absolute requirement in R, but it is in Python!*\n",
    "- Similar with figures, they need to be saved! You will never see a figure created in a script unless you write it to a file.\n",
    "- From a reproducibility perspective, if we want input from the user, usually we will design the scripts to take command line arguments, and not use keyboard/user prompts.\n"
   ]
  },
  {
   "cell_type": "markdown",
   "metadata": {
    "slideshow": {
     "slide_type": "slide"
    }
   },
   "source": [
    "### Script structure and organization\n",
    "\n",
    "Although not necessary in R or Python, it is still good practice and advised to organize the code in your script into related sections. This practice keeps your code readable and organized. Below we outline how we typically organize R scripts:\n",
    "\n",
    "##### Example R script organization:\n",
    "```\n",
    "# documentation comments\n",
    "\n",
    "# import libraries/packages\n",
    "\n",
    "# parse/define command line arguments here\n",
    "\n",
    "# define main function\n",
    "main <- function(){\n",
    "    # code for \"guts\" of script goes here\n",
    "}\n",
    "\n",
    "# code for other functions & tests goes here\n",
    "\n",
    "# call main function\n",
    "main() # pass any command line args to main here\n",
    "```\n",
    "\n"
   ]
  },
  {
   "cell_type": "markdown",
   "metadata": {
    "slideshow": {
     "slide_type": "slide"
    }
   },
   "source": [
    "## Scripts in R:"
   ]
  },
  {
   "cell_type": "markdown",
   "metadata": {
    "slideshow": {
     "slide_type": "fragment"
    }
   },
   "source": [
    "Here we write a script called `quick_titanic_fare_mean.R` which reads in the [titanic dataset](https://raw.githubusercontent.com/ttimbers/rscript-demo/main/data/titanic.csv) (*original source: <https://biostat.app.vumc.org/wiki/Main/DataSets>*) and calculates the  mean for the fare (ticket price) variable.\n",
    "\n",
    "```\n",
    "Our script has two functions, a function we defined to calculate the standard error of the mean (such a function does not exist in R) and a `main` function which runs the \"body\" of our code.\n",
    "# author: Tiffany Timbers\n",
    "# date: 2020-01-15\n",
    "#\n",
    "# This script calculates the mean for the fare (ticket price)\n",
    "# from titanic.csv. This script takes no arguments.\n",
    "#\n",
    "# Usage: quick_titanic_fare_mean.R\n",
    "\n",
    "library(tidyverse)\n",
    "\n",
    "main <- function() {\n",
    "data <- read_csv('data/titanic.csv')\n",
    "  out <- data %>%\n",
    "         pull(fare) %>%\n",
    "         mean(na.rm = TRUE)\n",
    "  print(out)\n",
    "}\n",
    "\n",
    "main()\n",
    "```"
   ]
  },
  {
   "cell_type": "markdown",
   "metadata": {},
   "source": [
    "### Saving things from scripts\n",
    "\n",
    "Above we just printed the mean to the terminal. \n",
    "That is was done because the purpose of that script \n",
    "was to have a very simple illustration of how to create and run scripts in R.\n",
    "However, in practice, we typically want to save our analysis artifacts (figures, tables, values, etc)\n",
    "to disc so that we can load them into other files \n",
    "(e.g., our final reports to communicate our analysis findings).\n",
    "\n",
    "Below we show an example of how we would use `readr::write_csv` \n",
    "to save the mean value we calculated to a `.csv` file:\n",
    "\n",
    "```\n",
    "# author: Tiffany Timbers\n",
    "# date: 2020-01-15\n",
    "#\n",
    "# This script calculates the mean horsepower of the cars from the built-in \n",
    "# R data frame `mtcars` and saves it to `results/mean_hp_col.csv`. \n",
    "# This script takes no arguments.\n",
    "#\n",
    "# Usage: Rscript print_mean_hp.R\n",
    "\n",
    "library(readr)\n",
    "\n",
    "main <- function() {\n",
    "  mean_hp <- mean(mtcars$hp)\n",
    "  mean_hp <- data.frame(value = mean_hp)\n",
    "  write_csv(mean_hp, \"results/mean_hp_col.csv\")\n",
    "}\n",
    "\n",
    "main()\n",
    "```\n",
    "\n",
    "> Note: in this script we are saving the file to the results directory.\n",
    "> There needs to be a results directory created before this script would work."
   ]
  },
  {
   "cell_type": "markdown",
   "metadata": {},
   "source": [
    "### Using command line arguments in R\n",
    "Let's make our script more flexible, and let us specify what column variable we want to calculate the mean for when we call the script.\n",
    "\n",
    "To do this, we use the `docopt` R package. This will allow us to collect the text we enter at the command line when we call the script, and make it available to us when we run the script. \n",
    "\n",
    "When we run `docopt` it takes the text we entered at the command line and gives it to us as a named list of the text provided after the script name. The names of the items in the list come from the documentation. Whitespace at the command line is what is used to parse the text into separate items in the vector.\n",
    "\n",
    "\n",
    "```\n",
    "# author: Tiffany Timbers\n",
    "# date: 2020-01-15\n",
    "\n",
    "\"This script calculates the mean for a specified column\n",
    "from titanic.csv.\n",
    "\n",
    "Usage: quick_titanic_col_mean.R <var>\n",
    "\" -> doc\n",
    "\n",
    "\n",
    "library(tidyverse)\n",
    "library(docopt)\n",
    "\n",
    "opt <- docopt(doc)\n",
    "\n",
    "main <- function(var) {\n",
    "\n",
    "  # read in data\n",
    "  data <- read_csv('data/titanic.csv')\n",
    "\n",
    "  # print out statistic of variable of interest\n",
    "  out <- data |>\n",
    "    pull(!!var) |>\n",
    "    mean(na.rm = TRUE)\n",
    "  print(out)\n",
    "}\n",
    "\n",
    "main(opt$var)\n",
    "```\n",
    "\n",
    "> Note: we use `!!` in front of `opt$col` because all command line arguments are passed into R\n",
    "> as strings, and are thus quoted. However, `pull` is a function from the `tidyverse` that expects \n",
    "> an unquoted column name of a data frame. `!!` does this unquoting.\n",
    "> This is similar to `{{` that we saw before with functions \n",
    "> (which quotes and unquotes values when they are passed into functions). \n",
    "> However here we use `!!` as we have no indirection and just need to perform unquoting.\n",
    "\n",
    "And we would run a script like this from the command line as follows: \n",
    "\n",
    "```\n",
    "Rscript src/quick_titanic_col_mean.R fare\n",
    "```"
   ]
  },
  {
   "cell_type": "markdown",
   "metadata": {},
   "source": [
    "Let's make our script even more flexible, and let us specify that dataset as well (we could then use it more generally on other files, such as the Gapminder `.csv`'s we saw in Block 1).\n",
    "\n",
    "\n",
    "```\n",
    "# author: Tiffany Timbers\n",
    "# date: 2020-01-15\n",
    "\n",
    "\"This script calculates the mean for a specified column\n",
    "from titanic.csv.\n",
    "\n",
    "Usage: quick_titanic_col_mean.R <file_path> <var>\n",
    "\" -> doc\n",
    "\n",
    "\n",
    "library(tidyverse)\n",
    "library(docopt)\n",
    "\n",
    "opt <- docopt(doc)\n",
    "\n",
    "main <- function(file_path, var) {\n",
    "\n",
    "  # read in data\n",
    "  data <- read_csv(file_path)\n",
    "\n",
    "  # print out statistic of variable of interest\n",
    "  out <- data |>\n",
    "    pull(!!var) |>\n",
    "    mean(na.rm = TRUE)\n",
    "  print(out)\n",
    "}\n",
    "\n",
    "main(opt$file_path, opt$var)\n",
    "```\n",
    "\n",
    "Now we would run a script like this from the command line as follows: \n",
    "\n",
    "```\n",
    "Rscript src/quick_csv_col_mean.R data/titanic.csv fare\n",
    "```"
   ]
  },
  {
   "cell_type": "markdown",
   "metadata": {
    "slideshow": {
     "slide_type": "slide"
    }
   },
   "source": [
    "### Positional arguments vs options\n",
    "\n",
    "In the examples above, we used `docopt` to specify positional arguments. This means that the order matters! If we change the order of the values of the arguments at the command line, our script will likely throw an error, because it will try to perform the wrong operations on the wrong values. \n",
    "\n",
    "Another downside to positional arguments, is that without good documentation, they can be less readable. And certainly the call to the script to is less readable. We can instead give the arguments names using `--ARGUMENT_NAME` syntax. We call these \"options\". Below is the same script but specified using options as opposed to positional arguments:\n",
    "\n",
    "```\n",
    "# author: Tiffany Timbers\r",
    "# date: 2020-01-15\r",
    "\r",
    "\"This script calculates the mean for a specified column\r",
    "from titanic.csv.\r",
    "\r",
    "Usage: quick_csv_col_mean.R --file_path=<file_path> --var=<var>\r",
    "\r",
    "Options:\r",
    "--file_path=<file_path>   Path to the data file\r",
    "--var=<var>               Unquoted column name of the numerical vector for which to calculate the mean\r",
    "\" -> doc\r",
    "\r",
    "\r",
    "library(tidyverse)\r",
    "library(docopt)\r",
    "\r",
    "opt <- docopt(doc)\r",
    "\r",
    "main <- function(file_path, var) {\r",
    "  \r",
    "  # read in data\r",
    "  data <- read_csv(file_path)\r",
    "  \r",
    "  # print out statistic of variable of interest\r",
    "  out <- data |>\r",
    "    pull(!!var) |>\r",
    "    mean(na.rm = TRUE)\r",
    "  print(out)\r",
    "}\r",
    "\r",
    "main(opt$file_path, opt$var)\n",
    "```"
   ]
  },
  {
   "cell_type": "markdown",
   "metadata": {},
   "source": [
    "And we would run a script like this that uses options like this: \n",
    "\n",
    "```\n",
    "Rscript src/quick_csv_col_mean.R --file_path=data/titanic.csv --col=fare\n",
    "```\n",
    "\n",
    "or like this: \n",
    "\n",
    "```\n",
    "Rscript src/quick_csv_col_mean.R --col=fare --file_path=data/titanic.csv\n",
    "```\n",
    "\n",
    "because we gave the arguments names, and thus their position no longer matters!"
   ]
  },
  {
   "cell_type": "markdown",
   "metadata": {
    "slideshow": {
     "slide_type": "skip"
    }
   },
   "source": [
    "#### Some tips for RStudio IDE:\n",
    "\n",
    "- To indent a block of text, highlight and use tab\n",
    "- To fix indenting in general to R code standards, use Command/Cntrl + I \n",
    "- To get multiple cursors, hold alt/option and highlight lines using cursor\n",
    "- To get multiple cursors to the beginning of the line, use control A\n",
    "- To get multiple cursors to the end of the line, use control E"
   ]
  },
  {
   "cell_type": "markdown",
   "metadata": {},
   "source": [
    "## Scripts in Python\n",
    "\n",
    "##### Example Python script organization:\n",
    "```\n",
    "# documentation comments\n",
    "\n",
    "# import libraries/packages\n",
    "\n",
    "# parse/define command line arguments here\n",
    "\n",
    "# define main function\n",
    "def main():\n",
    "    # code for \"guts\" of script goes here\n",
    "\n",
    "# code for other functions & tests goes here\n",
    "\n",
    "# call main function\n",
    "if __name__ == \"__main__\":\n",
    "    main() # pass any command line args to main here\n",
    "```"
   ]
  },
  {
   "cell_type": "markdown",
   "metadata": {},
   "source": [
    "*You can see that R and Python scripts should have roughly the same style. There is the difference of `if __name__ == \"__main__\":` in Python scripts, and R does not really have an equivalent. The benefit of some control flow around `main`, as is done in Python, is so that you could import or source the other functions in the script without running the `main` function.*\n",
    "\n",
    "*It is still worthwhile however to have a main function in your R scripts, as it helps with organization and readability.* "
   ]
  },
  {
   "cell_type": "markdown",
   "metadata": {},
   "source": [
    "### Using command line arguments in Python\n",
    "\n",
    "Although `docopt` for Python exists, it is not currently being supported by an active development community. \n",
    "Thus, we will use the [`click`](https://click.palletsprojects.com/en/8.1.x/) Python package instead. It is widely used, has a healthy and active development community,\n",
    "and excellent functionality.\n",
    "\n",
    "Below is an example of using `click` for a simple Python script:\n",
    "\n",
    "```\n",
    "import click\n",
    "\n",
    "@click.command()\n",
    "@click.argument('num1', type=int)\n",
    "@click.argument('num2', type=int)\n",
    "def main(num1, num2):\n",
    "    \"\"\"Simple program that adds two numbers.\"\"\"\n",
    "    result = num1 + num2\n",
    "    click.echo(f\"The sum of {num1} and {num2} is {result}\")\n",
    "\n",
    "if __name__ == '__main__':\n",
    "    main()\n",
    "```\n",
    "\n",
    "Running this script via:\n",
    "\n",
    "```\n",
    "python sum.py 5 7\n",
    "```\n",
    "\n",
    "Would result in:\n",
    "\n",
    "```\n",
    "The sum of 5 and 7 is 12\n",
    "```\n",
    "\n",
    "> Note that we do not need to pass the variables into `main()`. The `click` decorators take care of that for us! How nice!!!"
   ]
  },
  {
   "cell_type": "markdown",
   "metadata": {},
   "source": [
    "### Positional arguments vs options in Python\n",
    "\n",
    "If we instead wanted to use options in the script above, we swap the `argument` method for the `option` method and add `--` to the prefix of our options:\n",
    "\n",
    "```\n",
    "import click\n",
    "\n",
    "@click.command()\n",
    "@click.option('--num1', type=int)\n",
    "@click.option('--num2', type=int)\n",
    "def main(num1, num2):\n",
    "    \"\"\"Simple program that adds two numbers.\"\"\"\n",
    "    result = num1 + num2\n",
    "    click.echo(f\"The sum of {num1} and {num2} is {result}\")\n",
    "\n",
    "if __name__ == '__main__':\n",
    "    main()\n",
    "```\n",
    "\n",
    "Running this script, we now add the names of the options as shown below via:\n",
    "\n",
    "```\n",
    "python sum.py --num1=5 --num2=7\n",
    "```\n",
    "\n",
    "Would result in:\n",
    "\n",
    "```\n",
    "The sum of 5 and 7 is 12\n",
    "```\n"
   ]
  },
  {
   "cell_type": "markdown",
   "metadata": {},
   "source": [
    "## Saving objects from scripts\n",
    "\n",
    "### Tables\n",
    "As mentioned already, it is important you save results from your scripts so that you can import \n",
    "them into your reports (or other other data products).\n",
    "For data frame objects that will be presented as tables, writing the objects to a `.csv` file \n",
    "through `readr` (in R) or `pandas` (in Python) is great.\n",
    "\n",
    "### Figures\n",
    "For figures, saving images as `.png` is also a good choice. Although the downstream usage of the figure can sometimes change this recommendation. For a brief but more thorough discussion of this topic, see the [\"Saving the visualization\" chapter](https://datasciencebook.ca/viz.html#saving-the-visualization) from *Data Science: An Introduction* by Timbers, Campbell & Lee (2020).\n",
    "\n",
    "### Model objects\n",
    "\n",
    "Model objects that are trained/fit in one script, and then need to be used again later in another script can and should be saved as binary files. In R, the format is `.RDS` and we use the functions `saveRDS()` and `readRDS()` to do this. In python, the format is `.pickle` and we use the functions `pickle.dump()` and `pickle.load()` from the `pickle` package.\n",
    "\n",
    "#### example of saving a model using `saveRDS()`\n",
    "```\n",
    "saveRDS(final_knn_model, \"final_knn_model.rds\")\n",
    "```\n",
    "\n",
    "#### example of loading a saved model using `readRDS()`\n",
    "```\n",
    "final_knn_model <- readRDS(\"final_knn_model.rds\")\n",
    "```\n",
    "\n",
    "#### example of saving a model using `pickle.dump()`\n",
    "\n",
    "##### for very simple objects (like preprocessor)\n",
    "\n",
    "```\n",
    "import pickle\n",
    "pickle.dump(knn_preprocessor, open(\"knn_preprocessor.pickle\", \"wb\"))\n",
    "```\n",
    "\n",
    "##### for more complex objects (like a fit model)\n",
    "\n",
    "```\n",
    "import pickle\n",
    "with open(\"knn_fit.pickle\", 'wb') as f:\n",
    "    pickle.dump(knn_fit, f)\n",
    "```\n",
    "\n",
    "#### example of loading a saved model using `pickle.load()`\n",
    "\n",
    "##### for very simple objects (like preprocessor)\n",
    "\n",
    "```\n",
    "import pickle\n",
    "knn_preprocessor = pickle.load(open(\"knn_preprocessor.pickle\", \"rb\"))\n",
    "```\n",
    "\n",
    "##### for more complex objects (like a fit model)\n",
    "\n",
    "```\n",
    "import pickle\n",
    "with open(\"knn_fit.pickle\", 'rb') as f:\n",
    "        knn_fit = pickle.load(f)\n",
    "```"
   ]
  },
  {
   "cell_type": "code",
   "execution_count": null,
   "metadata": {},
   "outputs": [],
   "source": []
  }
 ],
 "metadata": {
  "anaconda-cloud": {},
  "celltoolbar": "Slideshow",
  "kernelspec": {
   "display_name": "Python 3 (ipykernel)",
   "language": "python",
   "name": "python3"
  },
  "language_info": {
   "codemirror_mode": {
    "name": "ipython",
    "version": 3
   },
   "file_extension": ".py",
   "mimetype": "text/x-python",
   "name": "python",
   "nbconvert_exporter": "python",
   "pygments_lexer": "ipython3",
   "version": "3.11.6"
  }
 },
 "nbformat": 4,
 "nbformat_minor": 4
}