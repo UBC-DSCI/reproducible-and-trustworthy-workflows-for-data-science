{
 "cells": [
  {
   "cell_type": "markdown",
   "metadata": {
    "Collapsed": "false",
    "slideshow": {
     "slide_type": "slide"
    }
   },
   "source": [
    "# Introduction to containerization"
   ]
  },
  {
   "cell_type": "markdown",
   "metadata": {
    "Collapsed": "false",
    "slideshow": {
     "slide_type": "fragment"
    }
   },
   "source": [
    "## Topic learning objectives\n",
    "\n",
    "By the end of this topic, students should be able to:\n",
    "\n",
    "1. Explain what containers are, and why they can be useful for reproducible data\n",
    "analyses\n",
    "2. Discuss the advantages and limitations of containerization (e.g., Docker) in the\n",
    "context of reproducible data analyses\n",
    "3. Compare and contrast the difference between running software/scripts in a virtual\n",
    "environment, a virtual machine and a container\n",
    "4. Evaluate, choose and justify an appropriate environment management solution based\n",
    "on the data analysis project’s complexity, expected usage and longevity."
   ]
  },
  {
   "cell_type": "markdown",
   "metadata": {
    "Collapsed": "false",
    "slideshow": {
     "slide_type": "slide"
    }
   },
   "source": [
    "## Introduction to containerization\n",
    "\n",
    "### Documenting and loading dependencies\n",
    "\n",
    "You've made some beautiful data analysis pipeline/project using make, R, and/or Python. It runs on your machine, but how easily can you, or someone else, get it working on theirs? The answer usually is, it depends...\n",
    "\n",
    "What does it depend on?\n",
    "\n",
    "\n",
    "\n"
   ]
  },
  {
   "cell_type": "markdown",
   "metadata": {
    "Collapsed": "false",
    "slideshow": {
     "slide_type": "fragment"
    }
   },
   "source": [
    "1. Does your `README` and your scripts make it blatantly obvious what programming languages and packages need to run your data analysis pipeline/project? \n",
    "    "
   ]
  },
  {
   "cell_type": "markdown",
   "metadata": {
    "Collapsed": "false",
    "slideshow": {
     "slide_type": "fragment"
    }
   },
   "source": [
    "2. Do you also document the version numbers of the programming languages and packages you used? This can have big consequences when it comes to reproducibility... (*e.g.*,the [change to random number generation](https://blog.revolutionanalytics.com/2019/05/whats-new-in-r-360.html) in R in 2019?)\n",
    "\n",
    "3. Did you document what other software (beyond the the programming languages and packages used) and operating system dependencies are needed to run your data analysis pipeline/project?\n",
    "\n",
    "*Virtual environments can be tremendously helpful with #1 & #2, however, they may or may not be helpful to manage #3...* __*Enter containerization as a possible solution!*__"
   ]
  },
  {
   "cell_type": "markdown",
   "metadata": {
    "Collapsed": "false",
    "slideshow": {
     "slide_type": "slide"
    }
   },
   "source": [
    "### What is a container?\n",
    "\n",
    "Containers are another way to generate (and share!) isolated computational environments. They differ from virtual environments (which we discussed previously) in that they are even more isolated from the computers operating system, as well as they can be used share many other types of software, applications and operating system dependencies. \n",
    "\n",
    "Before we can fully define containers, however, we need to define **virtualization**. Virtualization is a process that allows us to divide the the elements of a single computer into several virtual elements. These elements can include computer hardware platforms, storage devices, and computer network resources, and even operating system user spaces (e.g., graphical tools, utilities, and programming languages). \n",
    "\n",
    "Containers virtualize operating system user spaces so that they can isolate the processes they contain, as well as control the processes’ access to computer resources (e.g., CPUs, memory and desk space). What this means in practice, is that an operating system user space can be carved up into multiple containers running the same, or different processes, in isolation. Below we show the schematic of a container whose virtual user space contains the:\n",
    "- R programming language, the Bioconductor package manager, and two Bioconductor packages\n",
    "- Galaxy workflow software and two toolboxes that can be used with it\n",
    "- Python programming language, iPython interpreter and Jupyter notebook package\n",
    "\n",
    "<img src=\"img/13742_2016_article_135_f7.jpeg\" width=250>\n",
    "\n",
    "**Schematic of a container for genomics research.** Source: <https://doi.org/10.1186/s13742-016-0135-4>\n",
    "\n",
    "\n",
    "#### Exercise - running a simple container\n",
    "\n",
    "To further illustrate what a container looks like, and feels like, \n",
    "we can use Docker (containerization software) to run one and explore. \n",
    "First we will run an linux (debian-flavoured) container that has R installed. \n",
    "To run this type:\n",
    "\n",
    "```\n",
    "docker run --rm -it rocker/r-ver:4.3.2\n",
    "```\n",
    "\n",
    "When you successfully launch the container, R should have started. \n",
    "Check the version of R - is it the same as your computer's version of R? \n",
    "Use `getwd()` and `list.files()` to explore the containers filesystem from R. \n",
    "Does this look like your computer's filesystem or something else?\n",
    "\n",
    "Type `q()` to quit R and exit the container.\n",
    "\n",
    "#### Exercise - running a container with RStudio as a web app\n",
    "\n",
    "Next, try to use Docker to run a container \n",
    "that contains the RStudio server web-application installed:\n",
    "\n",
    "```\n",
    "docker run --rm -p 8787:8787 -e PASSWORD=\"apassword\" rocker/rstudio:4.3.2\n",
    "```\n",
    "\n",
    "Then visit a web browser on your computer and type: <http://localhost:8787>\n",
    "\n",
    "If it worked, then you should be at an RStudio Sign In page. \n",
    "To sign in, use the following credentials:\n",
    "\n",
    "- **username:** rstudio\n",
    "- **password:** apassword\n",
    "\n",
    "The RStudio server web app being run by the container \n",
    "should look something like this: \n",
    "\n",
    "<img src=\"img/rstudio-container-web-app.png\" width=600>\n",
    "\n",
    "Type `Cntrl` + `C` in the terminal where you launched the container\n",
    "to quit R and RStudio and exit the container."
   ]
  },
  {
   "cell_type": "markdown",
   "metadata": {},
   "source": [
    "#### Exercise - running a container with Jupyter as a web app\n",
    "\n",
    "Next, try to use Docker to run a container that contains the Jupyter web-application installed:\n",
    "\n",
    "```\n",
    "docker run --rm -p 8888:8888  jupyter/minimal-notebook:notebook-7.0.6\n",
    "```\n",
    "\n",
    "In the terminal, look for a URL that starts with \n",
    "`http://127.0.0.1:8888/lab?token=` \n",
    "(for an example, see the highlighted text in the terminal below).\n",
    "Copy and paste that URL into your browser.\n",
    "\n",
    "<img src=\"img/jupyter-container-web-app-launch-url.png\" width=600>\n",
    "\n",
    "The Jupyter web-application being run by the container should look something like this: \n",
    "\n",
    "<img src=\"img/jupyter-container-web-app.png\" width=600>\n",
    "\n",
    "Type `Cntrl` + `C` in the terminal where you launched the container\n",
    "to quit Jupyter and exit the container."
   ]
  },
  {
   "cell_type": "markdown",
   "metadata": {},
   "source": [
    "## Contrasting containers with virtual machines\n",
    "\n",
    "Virtual machines are another technology that can be used to generate (and share) isolated computational environments. Virtual machines emulate the functionality an entire computer on a another physical computer. With virtual machine the virtualization occurs at the layer of software that sits between the computer's hardware and the operating system(s). This software is called a hypervisor. For example, on a Mac laptop, you could install a program called [Oracle Virtual Box](https://www.virtualbox.org/) to run a virtual machine whose operating system was Windows 10, as the screen shot below shows:\n",
    "\n",
    "<img src=\"https://www.virtualbox.org/raw-attachment/wiki/Screenshots/Windows_8.1_on_OSX.png\">\n",
    "\n",
    "\n",
    "**A screenshot of a Mac OS computer running a Windows virtual machine.** Source: <https://www.virtualbox.org/wiki/Screenshots>\n",
    "\n",
    "Below, we share an illustration that compares where virtualization happens in containers compared to virtual machines. This difference, leads to containers being more light-weight and portable compared to virtual machines, and also less isolated.\n",
    "\n",
    "<img src=\"img/container_v_vm.png\" width=600>\n",
    "\n",
    "*Source: https://www.docker.com/resources/what-container*\n",
    "\n",
    "\n",
    "**Key take home:** - Containerization software shares the host's operating system, whereas virtual machines have a completely separate, additional operating system. This can make containers lighter (smaller in terms of size) and more resource and time-efficient than using a virtual machine.*"
   ]
  },
  {
   "cell_type": "markdown",
   "metadata": {
    "Collapsed": "false",
    "slideshow": {
     "slide_type": "slide"
    }
   },
   "source": [
    "## Contrasting common computational environment virtualization strategies\n",
    "\n",
    "| Feature | Virtual environment | Container | Virtual machine |\n",
    "|---------|---------------------|-----------|-----------------|\n",
    "| Virtualization level | Application | Operating system user-space | Hardware |\n",
    "| Isolation | Programming languages, packages | Programming languages, packages, **other software, operating system dependencies, filesystems, networks** | Programming languages, packages, other software, operating system dependencies, filesystems, networks, **operating systems** |\n",
    "| Size | Extremely light-weight | light-weight | heavy-weight |\n"
   ]
  },
  {
   "cell_type": "markdown",
   "metadata": {
    "Collapsed": "false",
    "slideshow": {
     "slide_type": "slide"
    }
   },
   "source": [
    "## Virtualization strategy advantages and disadvantages for reproducibility\n",
    "\n",
    "Let's collaboratively generate a list of advantages and disadvantages of each virtualization strategy in the context of reproducibility:\n",
    "\n",
    "\n",
    "### Virtual environment\n",
    "\n",
    "#### Advantages\n",
    "- Extremely small size\n",
    "- Porous (less isolated) - makes it easy to pair the virtualized computational environment with files on your computer\n",
    "- Specify these with a single text file\n",
    "\n",
    "#### Disadvantages\n",
    "- Not always possible to capture and share operating system dependencies, and other software your analysis depends upon\n",
    "- Computational environment is not fully isolated, and so silent missed dependencies\n"
   ]
  },
  {
   "cell_type": "markdown",
   "metadata": {},
   "source": [
    "### Containers\n",
    "\n",
    "#### Advantages\n",
    "- Somewhat light-weight in size (manageable for easy sharing - there are tools and software to facilitate this)\n",
    "- Possible to capture and share operating system dependencies, and other software your analysis depends upon\n",
    "- Computational environment is fully isolated, and errors will occur if dependencies are missing\n",
    "- Specify these with a single text file\n",
    "- Can share volumes and ports (advantage compared to virtual machines)\n",
    "\n",
    "#### Disadvantages\n",
    "- Possible security issues - running software on your computer that you may allow to be less isolated (i.e., mount volumes, expose ports)\n",
    "- Takes some effort to share volumes and ports (disadvantage compared to virtual environments)\n"
   ]
  },
  {
   "cell_type": "markdown",
   "metadata": {},
   "source": [
    "### Virtual machine\n",
    "\n",
    "#### Advantages\n",
    "- High security, because these are much more isolated (filesystem, ports, etc)\n",
    "- Can share an entirely different operating system (might not so useful in the context of reproducibility however...)\n",
    "\n",
    "#### Disadvantages\n",
    "- Very big in size, which can make it prohibitive to share them\n",
    "- Takes great effort to share volumes and ports - which makes it hard to give access to data on your computer\n"
   ]
  },
  {
   "cell_type": "markdown",
   "metadata": {
    "Collapsed": "false",
    "slideshow": {
     "slide_type": "slide"
    }
   },
   "source": [
    "## Container useage workflow\n",
    "\n",
    "A schematic of Container useage workflow from a [blog post](https://blog.octo.com/en/docker-registry-first-steps/) by Arnaud Mazin:\n",
    "\n",
    "<img src=\"img/docker-stages.png\" width=600>\n",
    "\n",
    "*Source: [OctoTalks](https://blog.octo.com/en/docker-registry-first-steps/)*"
   ]
  },
  {
   "cell_type": "markdown",
   "metadata": {
    "Collapsed": "false",
    "slideshow": {
     "slide_type": "slide"
    }
   },
   "source": [
    "## Image vs container?\n",
    "\n",
    "Analogy: The program Chrome is like a Docker image, whereas a Chrome window is like a Docker container.\n",
    "\n",
    "<img src=\"img/instance_analogy.png\" width=\"600\">"
   ]
  },
  {
   "cell_type": "markdown",
   "metadata": {},
   "source": [
    "You can list the container **images** on your computer that you pulled using Docker via: `docker images`. You should see a list like this when you do this:\n",
    "\n",
    "```\n",
    "$ docker images\n",
    "REPOSITORY                 TAG                    IMAGE ID       CREATED        SIZE\n",
    "rocker/rstudio             4.3.2                  bc76e0dbd6db   9 days ago     1.87GB\n",
    "rocker/r-ver               4.3.2                  c9569cbc2eb0   9 days ago     744MB\n",
    "continuumio/miniconda3     23.9.0-0               55e8b7e3206b   3 weeks ago    457MB\n",
    "jupyter/minimal-notebook   notebook-7.0.6         e04c3bedc133   3 weeks ago    1.45GB\n",
    "hello-world                latest                 b038788ddb22   6 months ago   9.14kB\n",
    "```\n",
    "\n",
    "You can list the states of containers that have been started by Docker on your computer (and not yet removed) via: `docker ps -a`:\n",
    "\n",
    "```\n",
    "CONTAINER ID   IMAGE                  COMMAND   CREATED          STATUS          PORTS                                       NAMES\n",
    "9160100c7d4b   rocker/r-ver:4.3.2     \"R\"       5 seconds ago    Up 4 seconds                                                friendly_merkle\n",
    "0d0871c90313   rocker/rstudio:4.3.2   \"/init\"   33 minutes ago   Up 33 minutes   0.0.0.0:8787->8787/tcp, :::8787->8787/tcp   exciting_kepler\n",
    "```"
   ]
  },
  {
   "cell_type": "markdown",
   "metadata": {},
   "source": [
    "## What is a container registry\n",
    "\n",
    "A container registry is a remote repository, or collection of repositories, \n",
    "used to share container images. \n",
    "This is similar to remote version control repositories for sharing code. \n",
    "Instead of code however, \n",
    "it is container images that are pushed and pulled to/from there. \n",
    "For this course we will focus on the widely-used DockerHub container registry: \n",
    "<https://hub.docker.com/>.\n",
    "\n",
    "However, there are many container registries that can be used, including:\n",
    "- <https://github.com/> \n",
    "(yes! GitHub now also hosts container images in addition to code!)\n",
    "- <https://quay.io/>\n",
    "- <https://aws.amazon.com/ecr/> (yes! Amazon now also hosts container images too!)\n",
    "\n",
    "#### Demonstration\n",
    "\n",
    "Let's visit the repositories for the two container images that we used in the exercise earlier in class:\n",
    "\n",
    "- [rocker/rstudio](https://hub.docker.com/r/rocker/rstudio)\n",
    "- [jupyter/minimal-notebook](https://hub.docker.com/r/jupyter/minimal-notebook)\n",
    "\n",
    "Question: how did we get the images for the exercise earlier in class? \n",
    "We were just prompted to type `docker run...`\n",
    "\n",
    "Answer: `docker run ...` will first look for images you have locally, \n",
    "and run those if they exist. \n",
    "If they do not exist, it then attempts to pull the image from DockerHub."
   ]
  },
  {
   "cell_type": "markdown",
   "metadata": {},
   "source": [
    "## How do we specify a container image?\n",
    "\n",
    "Container images are specified from plain text files! In the case of the Docker containerization software, we call these `Dockerfiles`. We will explain these in more detail later, however for now it is useful to look at one to get a general idea of their structure:\n",
    "\n",
    "Example `Dockerfile`:\n",
    "\n",
    "```\n",
    "FROM continuumio/miniconda3\n",
    "\n",
    "# Install Jupyter, JupterLab, R & the IRkernel\n",
    "RUN conda install -y --quiet \\\n",
    "    jupyter \\\n",
    "    jupyterlab=3.* \\\n",
    "    r-base=4.1.* \\\n",
    "    r-irkernel\n",
    "\n",
    "# Install JupyterLab Git Extension\n",
    "RUN pip install jupyterlab-git\n",
    "\n",
    "# Create working directory for mounting volumes\n",
    "RUN mkdir -p /opt/notebooks\n",
    "\n",
    "# Make port 8888 available for JupyterLab\n",
    "EXPOSE 8888\n",
    "\n",
    "# Install Git, the nano-tiny text editor and less (needed for R help)\n",
    "RUN apt-get update && \\\n",
    "    apt-get install --yes \\\n",
    "    git \\\n",
    "    nano-tiny \\\n",
    "    less\n",
    "\n",
    "# Copy JupyterLab start-up script into container\n",
    "COPY start-notebook.sh /usr/local/bin/\n",
    "\n",
    "# Change permission of startup script and execute it\n",
    "RUN chmod +x /usr/local/bin/start-notebook.sh\n",
    "ENTRYPOINT [\"/usr/local/bin/start-notebook.sh\"]\n",
    "\n",
    "# Switch to staring in directory where volumes will be mounted\n",
    "WORKDIR \"/opt/notebooks\"\n",
    "```\n",
    "\n",
    "The commands in all capitals are Docker commands. `Dockerfile`s typically start with a `FROM` command that specifies which base image the new image should be built off. Docker images are built in layers - this helps make them more light-weight. The `FROM` command is usually followed by `RUN` commands that usually install new software, or execute configuration commands. Other commands in this example copy in needed configuration files, expose ports, specify the working directory, and specify programs to execute at start-up.\n",
    "\n",
    "#### Demonstration of container images being built from layers\n",
    "\n",
    "Let's take a look at the `Dockerfile` for the `jupyter/docker-stacks` `r-notebook` container image:\n",
    "- [Dockerfile](https://github.com/jupyter/docker-stacks/blob/master/r-notebook/Dockerfile)\n",
    "\n",
    "*Question: What images does it build off?*"
   ]
  }
 ],
 "metadata": {
  "anaconda-cloud": {},
  "celltoolbar": "Slideshow",
  "kernelspec": {
   "display_name": "Python 3 (ipykernel)",
   "language": "python",
   "name": "python3"
  },
  "language_info": {
   "codemirror_mode": {
    "name": "ipython",
    "version": 3
   },
   "file_extension": ".py",
   "mimetype": "text/x-python",
   "name": "python",
   "nbconvert_exporter": "python",
   "pygments_lexer": "ipython3",
   "version": "3.11.6"
  }
 },
 "nbformat": 4,
 "nbformat_minor": 4
}