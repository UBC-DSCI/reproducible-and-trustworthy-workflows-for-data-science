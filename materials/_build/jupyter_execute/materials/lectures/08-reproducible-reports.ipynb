{
 "cells": [
  {
   "cell_type": "markdown",
   "metadata": {},
   "source": [
    "# Reproducible reports"
   ]
  },
  {
   "cell_type": "markdown",
   "metadata": {},
   "source": [
    "## Topic learning objectives\n",
    "\n",
    "By the end of this topic, students should be able to:\n",
    "\n",
    "1. Discuss the advantages and disadvantages of using literate code documents (e.g.,\n",
    "Quarto, Jupyter, R Markdown) for writing analytic reports compared to What You See Is\n",
    "What You Get (WYSIWYG) editors (e.g., Word, Pages)\n",
    "2. Convert `.ipynb` and `.Rmd` files to Quarto `.qmd` files\n",
    "3. Execute and render literate code documents\n",
    "4. Generate tables of contents, label and number figures and tables, and format\n",
    "bibliographies in a reproducible and automatted manner"
   ]
  },
  {
   "cell_type": "markdown",
   "metadata": {},
   "source": [
    "## Reproducible reports vs What You See Is What You Get (WYSIWYG) editors\n",
    "\n",
    "Reproducible reports are reports where automation is used to update a report when changes to data or data analysis methods lead to changes in data analysis artifacts (e.g., figures, tables, inline text values). This automation is usually specified and controlled by code. In the field of data science, the most common implementations of this are: \n",
    "\n",
    "- Quarot\n",
    "- R Markdown\n",
    "- Jupyter\n",
    "- LaTeX \n",
    "\n",
    "> Note: R Markdown and Jupyter are not completely separable from LaTeX, as they both wrap LaTeX when the desired output is PDF.\n",
    "\n",
    "Most implementations of reproducible reports involve a process called rendering, where a document containing code and/or markup language used to specify the text formatting, document layout, figure and table placement and numbering, bibliography formatting, *etc*, is converted to an output more suitable for consumption (e.g., beautifully formatted PDF or html document) by some software.\n",
    "\n",
    "<img src=\"img/render-report/render-report.png\" width=700>\n",
    "\n",
    "This contrasts from What You See Is What You Get (WYSIWYG) software or editors (e.g., Microsoft Word, Google Docs, etc), where the document that is being edited looks exactly like the final document - there is no rendering process. WYSIWYG reports are typically easier to get started with and use. However, they are usually quite limited in their ability to automatically update a report when changes to data or data analysis methods lead to changes in data analysis artifacts. This makes them less reproducible, and can lead to errors when repeated manual updating of data analysis artifacts is needed when analysis is iterated on during development. \n",
    "\n",
    "<img src=\"img/word.png\" width=300>"
   ]
  }
 ],
 "metadata": {
  "interpreter": {
   "hash": "b319716b0346eb12085fd5197d37942b2372f733afdc46387bcecfaa2bd21dfe"
  },
  "kernelspec": {
   "display_name": "Python 3 (ipykernel)",
   "language": "python",
   "name": "python3"
  },
  "language_info": {
   "codemirror_mode": {
    "name": "ipython",
    "version": 3
   },
   "file_extension": ".py",
   "mimetype": "text/x-python",
   "name": "python",
   "nbconvert_exporter": "python",
   "pygments_lexer": "ipython3",
   "version": "3.11.6"
  }
 },
 "nbformat": 4,
 "nbformat_minor": 4
}