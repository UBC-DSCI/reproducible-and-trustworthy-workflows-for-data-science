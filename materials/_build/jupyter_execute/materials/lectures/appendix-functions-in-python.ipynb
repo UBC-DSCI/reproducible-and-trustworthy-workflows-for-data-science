{
 "cells": [
  {
   "cell_type": "markdown",
   "id": "8d666414-56b6-4e00-accb-202e29b6de40",
   "metadata": {},
   "source": [
    "# Appendix - Defining functions in Python:"
   ]
  },
  {
   "cell_type": "markdown",
   "id": "be11dbb9-da7f-4458-b595-a07833d6a376",
   "metadata": {},
   "source": [
    "In this course, we will get to practice writing functions (and then testing them) in the Python programming language. We will only cover it here briefly. To learn more about functions in Python, we refer you to the [Module 6: Functions Fundamentals and Best Practices\n",
    "](https://prog-learn.mds.ubc.ca/en/module6) from the Programming in Python for Data Science course.\n",
    "\n",
    "Functions in Python are defined using the reserved word `def`. A colon follows the function arguments to indicate where the function body should starte. White space, in particular indentation, is used to indicate which code belongs in the function body and which does not (unindented code following the function is not part of the function body). A general form for fucntion definition is shown below:\n",
    "\n",
    "```\n",
    "def function_name(…function arguments…):\n",
    "    …function body…\n",
    "```\n",
    "\n",
    "Here's a working example:"
   ]
  },
  {
   "cell_type": "code",
   "execution_count": 1,
   "id": "1b89b936-629f-41ce-a850-b65bdd648484",
   "metadata": {
    "slideshow": {
     "slide_type": "fragment"
    }
   },
   "outputs": [
    {
     "data": {
      "text/plain": [
       "5"
      ]
     },
     "execution_count": 1,
     "metadata": {},
     "output_type": "execute_result"
    }
   ],
   "source": [
    "def add_two_numbers(x, y):\n",
    "    return x + y\n",
    "\n",
    "add_two_numbers(1, 4)"
   ]
  },
  {
   "cell_type": "markdown",
   "id": "e0afba65-6e27-46ea-835f-c81eaa67e210",
   "metadata": {
    "slideshow": {
     "slide_type": "fragment"
    }
   },
   "source": [
    "Note that functions in Python are objects.\n",
    "\n",
    "### Default function arguments\n",
    "\n",
    "Default values can be specified in the function definition:"
   ]
  },
  {
   "cell_type": "code",
   "execution_count": 2,
   "id": "09dad929-0ac3-473b-b76b-85fe720b0331",
   "metadata": {},
   "outputs": [],
   "source": [
    "def math_two_numbers(x, y, operation = \"add\"):\n",
    "    if (operation == \"add\"):\n",
    "        return x + y\n",
    "    else:\n",
    "        return x - y"
   ]
  },
  {
   "cell_type": "code",
   "execution_count": 3,
   "id": "7e93830e-2e59-422d-8805-a065461f4c52",
   "metadata": {},
   "outputs": [
    {
     "data": {
      "text/plain": [
       "5"
      ]
     },
     "execution_count": 3,
     "metadata": {},
     "output_type": "execute_result"
    }
   ],
   "source": [
    "math_two_numbers (1, 4)"
   ]
  },
  {
   "cell_type": "code",
   "execution_count": 4,
   "id": "b518b70d-bed3-4808-bfb9-a3ddd15fd375",
   "metadata": {},
   "outputs": [
    {
     "data": {
      "text/plain": [
       "-3"
      ]
     },
     "execution_count": 4,
     "metadata": {},
     "output_type": "execute_result"
    }
   ],
   "source": [
    "math_two_numbers (1, 4, \"subtract\")"
   ]
  },
  {
   "cell_type": "markdown",
   "id": "ab672b4e-c918-484e-9b48-7ea06d25af15",
   "metadata": {},
   "source": [
    "## Function documentation\n",
    "\n",
    "Function documentation is extremely useful at both the time of function creation/development, as well as at the time of function usage by the user. At the time of creation/development, it is useful for clearly delineating and communication the planned function's specifications. At the time of usage, it is often the primary documentation a user will refer to in order to understand how to use the function. If a function is not well documented, it will not be well understood or widely used.\n",
    "\n",
    "### Function documentation in Python\n",
    "\n",
    "In Python, we write function documentation using docstrings. These come after the function definition and are denoted by three apostrophes (`''' ... '''`). There are many ways to write and format the content of the docstrings. For the purpose of this course, we will adopt the numpy style docstrings as they are easy to read and following by many data scientists.\n",
    "\n",
    "Example numpy style docstrings for math_two_numbers function:"
   ]
  },
  {
   "cell_type": "code",
   "execution_count": 5,
   "id": "d21484a7-4ab8-4bf7-8c5d-2ae769c5c10d",
   "metadata": {},
   "outputs": [],
   "source": [
    "def math_two_numbers(x, y, operation = \"add\"):\n",
    "    '''\n",
    "    Perform a mathematical operation (addition or subtraction) on two numbers.\n",
    "\n",
    "    Parameters\n",
    "    ----------\n",
    "    x : float or int\n",
    "        The first number to use in the operation.\n",
    "    y : float or int\n",
    "        The second number to use in the operation.\n",
    "    operation : str, optional\n",
    "        The operation to perform on the two numbers. \n",
    "        Can be 'add' for addition (default) or 'sub' for subtraction.\n",
    "\n",
    "    Returns\n",
    "    -------\n",
    "    float or int\n",
    "        The result of the mathematical operation performed on `x` and `y`.\n",
    "\n",
    "    Examples\n",
    "    --------\n",
    "    >>> math_two_numbers(4, 5)\n",
    "    9\n",
    "\n",
    "    >>> math_two_numbers(10, 3, operation=\"sub\")\n",
    "    7\n",
    "    '''\n",
    "    if (operation == \"add\"):\n",
    "        return x + y\n",
    "    else:\n",
    "        return x - y"
   ]
  },
  {
   "cell_type": "markdown",
   "id": "6c1bba22-be61-40e7-a7cd-d3b3f6c85180",
   "metadata": {},
   "source": [
    "Once we define a function with docstrings, \n",
    "we (and other users) can get it as as part of the help documentation\n",
    "via `help(math_two_numbers)` or `?math_two_numbers`:"
   ]
  },
  {
   "cell_type": "code",
   "execution_count": 6,
   "id": "4e0b8fde-dbfe-4ab6-a71a-1c5b28a11091",
   "metadata": {},
   "outputs": [
    {
     "name": "stdout",
     "output_type": "stream",
     "text": [
      "Help on function math_two_numbers in module __main__:\n",
      "\n",
      "math_two_numbers(x, y, operation='add')\n",
      "    Perform a mathematical operation (addition or subtraction) on two numbers.\n",
      "    \n",
      "    Parameters\n",
      "    ----------\n",
      "    x : float or int\n",
      "        The first number to use in the operation.\n",
      "    y : float or int\n",
      "        The second number to use in the operation.\n",
      "    operation : str, optional\n",
      "        The operation to perform on the two numbers. \n",
      "        Can be 'add' for addition (default) or 'sub' for subtraction.\n",
      "    \n",
      "    Returns\n",
      "    -------\n",
      "    float or int\n",
      "        The result of the mathematical operation performed on `x` and `y`.\n",
      "    \n",
      "    Examples\n",
      "    --------\n",
      "    >>> math_two_numbers(4, 5)\n",
      "    9\n",
      "    \n",
      "    >>> math_two_numbers(10, 3, operation=\"sub\")\n",
      "    7\n",
      "\n"
     ]
    }
   ],
   "source": [
    "help(math_two_numbers)"
   ]
  },
  {
   "cell_type": "code",
   "execution_count": null,
   "id": "329768ec-6913-4918-9d0b-42d822ce7c5c",
   "metadata": {},
   "outputs": [],
   "source": []
  }
 ],
 "metadata": {
  "kernelspec": {
   "display_name": "Python 3 (ipykernel)",
   "language": "python",
   "name": "python3"
  },
  "language_info": {
   "codemirror_mode": {
    "name": "ipython",
    "version": 3
   },
   "file_extension": ".py",
   "mimetype": "text/x-python",
   "name": "python",
   "nbconvert_exporter": "python",
   "pygments_lexer": "ipython3",
   "version": "3.11.6"
  }
 },
 "nbformat": 4,
 "nbformat_minor": 5
}