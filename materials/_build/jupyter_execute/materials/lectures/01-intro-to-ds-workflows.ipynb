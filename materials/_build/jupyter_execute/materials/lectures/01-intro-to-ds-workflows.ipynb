{
 "cells": [
  {
   "cell_type": "markdown",
   "metadata": {
    "slideshow": {
     "slide_type": "slide"
    }
   },
   "source": [
    "# How do reproducible and trustworthy workflows impact data science?"
   ]
  },
  {
   "cell_type": "markdown",
   "metadata": {
    "slideshow": {
     "slide_type": "slide"
    },
    "tags": []
   },
   "source": [
    "## Topic learning objectives\n",
    "\n",
    "By the end of this topic, students should be able to:\n",
    "\n",
    "1. Define data science, and the related terms reproducibile and auditable analysis\n",
    "2. Give examples of workflows that are considered reproducible and trustworthy in the context of a data analysis\n",
    "3. Explain why data analysis benefit from reproducibile and auditable workflows\n",
    "4. Provide real-life examples of how a failure in reproducible and trustworthy workflows has negatively impacted the outcome of a data analysis project\n",
    "5. List three useful tools for facilitating organization and collaboration in complex data analysis projects\n",
    "6. Describe the data analysis cycle\n",
    "7. Explain how to mechanistically start a data analysis project\n",
    "8. State and refine a data analysis question\n",
    "9. List other potential sources of untrustworthiness in a data analysis (e.g., data source, mapping question to analysis, interpretation of results), and discuss how a data analysis that employs reproducible and trustworthy workflows can still be flawed"
   ]
  },
  {
   "cell_type": "markdown",
   "metadata": {
    "slideshow": {
     "slide_type": "slide"
    }
   },
   "source": [
    "## Data science\n",
    "\n",
    "*the study, development and practice of __reproducible and auditable processes__ to obtain __insight from data.__*\n",
    "\n",
    "From this definition, we must also define reproducible and auditable analysis:"
   ]
  },
  {
   "cell_type": "markdown",
   "metadata": {
    "slideshow": {
     "slide_type": "slide"
    }
   },
   "source": [
    "#### Reproducible analysis:\n",
    "*reaching the same result given the same input, computational methods and conditions $^1$.*\n",
    "\n",
    "- input = data\n",
    "- computational methods = computer code\n",
    "- conditions = computational environment (e.g., programming language & it's dependencies)"
   ]
  },
  {
   "cell_type": "markdown",
   "metadata": {
    "slideshow": {
     "slide_type": "slide"
    }
   },
   "source": [
    "#### Auditable/transparent analysis,\n",
    "*a readable record of the steps used to carry out the analysis as well as a record of how the analysis methods evolved $^2$.*\n",
    "\n",
    "1. [National Academies of Sciences, 2019](https://www.nap.edu/catalog/25303/reproducibility-and-replicability-in-science)\n",
    "2. [Parker, 2017](https://peerj.com/preprints/3210/) and [Ram, 2013](https://scfbm.biomedcentral.com/articles/10.1186/1751-0473-8-7)"
   ]
  },
  {
   "cell_type": "markdown",
   "metadata": {
    "slideshow": {
     "slide_type": "slide"
    }
   },
   "source": [
    "#### Why adopt this definition of data science?\n",
    "\n",
    "We believe that data science work should both bring insight and employ reproducible and auditable methods so that trustworthy results and data products can be created.\n",
    "\n",
    "Data products can be built via other methods, but we lack confidence in how the results or products were created.\n",
    "\n",
    "We believe this stems from non-reproducible and non-auditable analyses:\n",
    "\n",
    "1. lacking evidence that the results or product could be regenerated given the same input computational methods, and conditions\n",
    "\n",
    "2. lacking evidence of the steps taken during creation\n",
    "\n",
    "3. having an incomplete record of how and why analysis decisions were made"
   ]
  },
  {
   "cell_type": "markdown",
   "metadata": {
    "slideshow": {
     "slide_type": "slide"
    }
   },
   "source": [
    "### What makes trustworthy data science?\n",
    "\n",
    "Some possible criteria:\n",
    "\n",
    "1. It should be reproducible and auditable\n",
    "\n",
    "2. It should be correct \n",
    "\n",
    "3. It should be fair, equitable and honest"
   ]
  },
  {
   "cell_type": "markdown",
   "metadata": {
    "slideshow": {
     "slide_type": "fragment"
    }
   },
   "source": [
    "There are many ways a data science can be untrustworthy... In this course we will focus on workflows that can help build trust. I highly recommend taking a course in data science ethics to help round out your education in how to do this. Further training in statistics and machine learning will also help with making sure your analysis is correct."
   ]
  },
  {
   "cell_type": "markdown",
   "metadata": {
    "slideshow": {
     "slide_type": "slide"
    }
   },
   "source": [
    "### Is this really important?\n",
    "\n",
    "Yes! There are both small and big ways this can impact your work.\n",
    "\n",
    "Let's talk about some of these by sharing data-related workflows from the trenches: \n",
    "\n",
    "1. In the next 10 minutes, I want you to think and write down a non-reproducible or non-auditable workflow you have used before at work, on a personal project, or in course work, that negatively impacted your work somehow (make sure to include this in the story). Here's an example:\n",
    "\n",
    "    *As a Masters student, I started to use R to do my statistical analysis. I obtained the results I needed from running my code in the R console and copying the results into the word document that was my manuscript. Six months later we were working on revisions requested by the reviewers and I could not remember which version of the code I ran to get my results. I eventually figured it out through much trial and error, but the process was inefficient and very stressful.*\n",
    "    \n",
    "    *--Tiffany Timbers*\n",
    "\n",
    "\n",
    "2. When prompted, paste your story in the Google doc (link to be shared in class)\n",
    "\n",
    "\n",
    "3. Finally, we will take 10 minutes to read at least 3 other stories from the trenches that have been shared."
   ]
  },
  {
   "cell_type": "markdown",
   "metadata": {
    "slideshow": {
     "slide_type": "slide"
    }
   },
   "source": [
    "#### An example with large impact\n",
    "\n",
    "[*RETRACTED ARTICLE: Safety and efficacy of favipiravir versus hydroxychloroquine in management of COVID-19: A randomised controlled trial*](https://www.nature.com/articles/s41598-021-98683-5)\n",
    "\n",
    "<img src=\"img/covid-19-retraction.png\" width=500>\n",
    "\n",
    "- [A research paper was published in March 2021](https://www.nature.com/articles/s41598-021-85227-0) that claimed that a drug, Favipiravir, was a safe and effective alternative to another drug, hydroxychloroquine (a medication commonly used to prevent or treat malaria), in mild or moderate COVID-19 infected patients.\n",
    "\n",
    "- In September, 2021 the paper we retracted by the editors - in part due to reproducibility issues:\n",
    "\n",
    "\n",
    "*\"After concerns were brought to the Editors' attention after publication, the raw data underlying the study were requested. The authors provided several versions of their dataset. Post-publication peer review confirmed that none of these versions fully recapitulates the results presented in the cohort background comparisons, casting doubt on the reliability of the data. Additional concerns were raised about the randomisation procedure, as the equal distribution of male and female patients is unlikely unless sex is a parameter considered during randomisation. However, based on the clarification provided by the authors, sex was not considered during this process. The Editors therefore no longer have confidence in the results and conclusions presented.\"*\n",
    "\n",
    "The problem doesn't just stop once the article is retracted... Between the time the article was published and retracted, the article was cited 17 times!\n",
    "\n",
    "<img src=\"img/covid-retraction-citations.png\" width=700>"
   ]
  },
  {
   "cell_type": "markdown",
   "metadata": {},
   "source": [
    "### How big is this problem?\n",
    "\n",
    "Searching the [Retraction Watch Database](http://retractiondatabase.org/) for \"Results Not Reproducible\" we find 635 records that match!\n",
    "\n",
    "<img src=\"img/retraction-watch.png\" width=800>"
   ]
  },
  {
   "cell_type": "markdown",
   "metadata": {},
   "source": [
    "### Does this just impact academia?\n",
    "\n",
    "No! The use of non-reproducible tools can impact government and industry as well! Consider this case: \n",
    "\n",
    "<img src=\"img/bbc.png\" width=500>\n",
    "\n",
    "Source: https://www.bbc.com/news/uk-scotland-edinburgh-east-fife-53893101"
   ]
  },
  {
   "cell_type": "markdown",
   "metadata": {},
   "source": [
    "What went wrong?\n",
    "\n",
    "An audit found that the wrong spreadsheet matrix was copied over, and the calculation for only 4 air changes per hour, instead of the required 10 per hour, was done. This error was missed several times by human review of the spreadsheet.\n",
    "\n",
    "How could this have been prevented via using reproducible tools? \n",
    "\n",
    "If code instead of a spreadsheet was used for calculations, then unit tests could have been written to check the calculations. Also, the code could be abstracted to a well named function, or a function with well named arguments, that could have been more easily detected than a hidden formula in a spreadsheet."
   ]
  },
  {
   "cell_type": "markdown",
   "metadata": {
    "slideshow": {
     "slide_type": "slide"
    }
   },
   "source": [
    "## More reasons to worry about workflows?"
   ]
  },
  {
   "cell_type": "markdown",
   "metadata": {
    "slideshow": {
     "slide_type": "slide"
    }
   },
   "source": [
    "#### Reason 1:\n",
    "\n",
    "It makes it easier to collaborate with your most imporant collaborator - YOU in 6 months!"
   ]
  },
  {
   "cell_type": "markdown",
   "metadata": {
    "slideshow": {
     "slide_type": "fragment"
    }
   },
   "source": [
    "<img src=\"img/2011.11.15_life_of_a_swe.png\" width=500>"
   ]
  },
  {
   "cell_type": "markdown",
   "metadata": {
    "slideshow": {
     "slide_type": "skip"
    }
   },
   "source": [
    "*Source: http://www.bonkersworld.net/building-software/*"
   ]
  },
  {
   "cell_type": "markdown",
   "metadata": {
    "slideshow": {
     "slide_type": "slide"
    }
   },
   "source": [
    "#### Reason 2:\n",
    "\n",
    "It makes others think you know what you are doing..."
   ]
  },
  {
   "cell_type": "markdown",
   "metadata": {
    "slideshow": {
     "slide_type": "fragment"
    }
   },
   "source": [
    "<img src=\"img/business_suit.gif\" width=400>"
   ]
  },
  {
   "cell_type": "markdown",
   "metadata": {
    "slideshow": {
     "slide_type": "notes"
    }
   },
   "source": [
    "*Source: https://giphy.com/*"
   ]
  },
  {
   "cell_type": "markdown",
   "metadata": {
    "slideshow": {
     "slide_type": "slide"
    }
   },
   "source": [
    "## Workflows & complex projects"
   ]
  },
  {
   "cell_type": "markdown",
   "metadata": {
    "slideshow": {
     "slide_type": "slide"
    }
   },
   "source": [
    "### What are complex projects?\n",
    "\n",
    "I define complex projects as one that has __*at least one*__ of the following:"
   ]
  },
  {
   "cell_type": "markdown",
   "metadata": {
    "slideshow": {
     "slide_type": "fragment"
    }
   },
   "source": [
    "- two, or more, people directly working on the analysis"
   ]
  },
  {
   "cell_type": "markdown",
   "metadata": {
    "slideshow": {
     "slide_type": "fragment"
    }
   },
   "source": [
    "- projects that involve two or more coding documents"
   ]
  },
  {
   "cell_type": "markdown",
   "metadata": {
    "slideshow": {
     "slide_type": "fragment"
    }
   },
   "source": [
    "- projects that involve analysis of medium/large data "
   ]
  },
  {
   "cell_type": "markdown",
   "metadata": {
    "slideshow": {
     "slide_type": "fragment"
    }
   },
   "source": [
    "- projects where you are working on a remote machine"
   ]
  },
  {
   "cell_type": "markdown",
   "metadata": {
    "slideshow": {
     "slide_type": "fragment"
    }
   },
   "source": [
    "- projects that have many software or environment dependencies, or ones that are difficult or take a long time to install"
   ]
  },
  {
   "cell_type": "markdown",
   "metadata": {
    "slideshow": {
     "slide_type": "fragment"
    }
   },
   "source": [
    "*As a project accumulates more of these features it grows further in complexity.*"
   ]
  },
  {
   "cell_type": "markdown",
   "metadata": {
    "slideshow": {
     "slide_type": "slide"
    }
   },
   "source": [
    "#### Complex projects without intentional Data Science workflows...\n",
    "\n",
    "<img src =\"https://upload.wikimedia.org/wikipedia/en/a/a3/Escher%27s_Relativity.jpg\" width =\"450\">\n",
    "\n",
    "-- *Relativity by Maurits Cornelis Escher*"
   ]
  },
  {
   "cell_type": "markdown",
   "metadata": {
    "slideshow": {
     "slide_type": "slide"
    }
   },
   "source": [
    "#### Concrete examples of problems that can occur in complex analyses"
   ]
  },
  {
   "cell_type": "markdown",
   "metadata": {
    "slideshow": {
     "slide_type": "fragment"
    }
   },
   "source": [
    "- An interesting result that you cannot recreate 😞"
   ]
  },
  {
   "cell_type": "markdown",
   "metadata": {
    "slideshow": {
     "slide_type": "fragment"
    }
   },
   "source": [
    "- Your email inbox is full of information related to the project that only you have access too 😫"
   ]
  },
  {
   "cell_type": "markdown",
   "metadata": {
    "slideshow": {
     "slide_type": "fragment"
    }
   },
   "source": [
    "- A small change to the analysis code requires re-running the entire thing, *and takes hours...* 😧"
   ]
  },
  {
   "cell_type": "markdown",
   "metadata": {
    "slideshow": {
     "slide_type": "fragment"
    }
   },
   "source": [
    "- Activation time to becoming productive after taking a break from the project is hours to days 😴"
   ]
  },
  {
   "cell_type": "markdown",
   "metadata": {
    "slideshow": {
     "slide_type": "fragment"
    }
   },
   "source": [
    "- Code that can only be run on one machine, *and you don't know why...* 😵"
   ]
  },
  {
   "cell_type": "markdown",
   "metadata": {
    "slideshow": {
     "slide_type": "slide"
    }
   },
   "source": [
    "### How can we avoid such problems and chaos?"
   ]
  },
  {
   "cell_type": "markdown",
   "metadata": {
    "slideshow": {
     "slide_type": "slide"
    }
   },
   "source": [
    "## Workflow features to mitigate chaos\n",
    "\n",
    "1. Version Control (*Git & GitHub*)\n",
    "\n",
    "2. Executable analysis scripts & pipelines (*Python/R scripts & Make*)\n",
    "\n",
    "3. Defined & shippable dependencies (*Docker*)\n",
    "\n",
    "*All of these features are a subset of those recommended by Hilary Parker in her 2016 [Opinionated Analysis Development](https://peerj.com/preprints/3210/) paper*\n"
   ]
  },
  {
   "cell_type": "markdown",
   "metadata": {
    "slideshow": {
     "slide_type": "slide"
    }
   },
   "source": [
    "### 1. Version Control \n",
    "\n",
    "- Version control is a tool which archives changes to file(s) over time. \n",
    "\n",
    "- These changes are archived in a way that you can later revisit different time points in the project.\n",
    "\n",
    "<img src=\"http://swcarpentry.github.io/git-novice/fig/play-changes.svg\">\n",
    "\n",
    "*source: http://swcarpentry.github.io/git-novice/*\n"
   ]
  },
  {
   "cell_type": "markdown",
   "metadata": {
    "slideshow": {
     "slide_type": "slide"
    }
   },
   "source": [
    "- Many version control tools also have features that facilitate collaboration.\n",
    "\n",
    "- Git + GitHub are two of the most common softwares for version control (*and so this is where I draw my examples from*)\n",
    "\n",
    "<img src=\"http://faisalweb.com/wp-content/uploads/2017/07/git.jpg\" width=600>"
   ]
  },
  {
   "cell_type": "markdown",
   "metadata": {
    "slideshow": {
     "slide_type": "slide"
    }
   },
   "source": [
    "#### Example problem solved by version control\n",
    "\n",
    "**Problem:** An extremely interesting result that you cannot recreate 😞\n",
    "\n",
    "\n",
    "**Solution**: Version the code **and** the output of the analysis \n"
   ]
  },
  {
   "cell_type": "markdown",
   "metadata": {
    "slideshow": {
     "slide_type": "slide"
    }
   },
   "source": [
    "#### Going back in time via commits\n",
    "\n",
    "<img src=\"img/releases.png\" width=800>"
   ]
  },
  {
   "cell_type": "markdown",
   "metadata": {
    "slideshow": {
     "slide_type": "slide"
    }
   },
   "source": [
    "#### Going back in time via commits\n",
    "\n",
    "<img src=\"img/commits_eg.png\" width=800>"
   ]
  },
  {
   "cell_type": "markdown",
   "metadata": {
    "slideshow": {
     "slide_type": "slide"
    }
   },
   "source": [
    "#### Going back in time via commits\n",
    "\n",
    "<img src=\"img/commit-visit.png\" width=800>"
   ]
  },
  {
   "cell_type": "markdown",
   "metadata": {
    "slideshow": {
     "slide_type": "slide"
    }
   },
   "source": [
    "#### Going back in time via releases\n",
    "\n",
    "<img src=\"img/commits.png\" width=800>"
   ]
  },
  {
   "cell_type": "markdown",
   "metadata": {
    "slideshow": {
     "slide_type": "slide"
    }
   },
   "source": [
    "#### Going back in time via releases\n",
    "\n",
    "<img src=\"img/release_eg.png\" width=800>"
   ]
  },
  {
   "cell_type": "markdown",
   "metadata": {
    "slideshow": {
     "slide_type": "slide"
    }
   },
   "source": [
    "#### Going back in time via releases\n",
    "\n",
    "<img src=\"img/release-visit.png\" width=800>"
   ]
  },
  {
   "cell_type": "markdown",
   "metadata": {
    "slideshow": {
     "slide_type": "slide"
    }
   },
   "source": [
    "#### Example problem solved by version control\n",
    "\n",
    "\n",
    "**Problem:** Your email inbox is full of information related to the project that only you have access too 😫\n",
    "\n",
    "\n",
    "**Solution**: Use GitHub Issues for communications related to the project"
   ]
  },
  {
   "cell_type": "markdown",
   "metadata": {
    "slideshow": {
     "slide_type": "slide"
    }
   },
   "source": [
    "#### GitHub Issues for project-related communications\n",
    "\n",
    "<img src=\"img/issue_thread.png\" width=800>"
   ]
  },
  {
   "cell_type": "markdown",
   "metadata": {
    "slideshow": {
     "slide_type": "slide"
    }
   },
   "source": [
    "#### GitHub Issues for project-related communications\n",
    "\n",
    "<img src=\"img/inbox-notification.png\" width=800>"
   ]
  },
  {
   "cell_type": "markdown",
   "metadata": {
    "slideshow": {
     "slide_type": "slide"
    }
   },
   "source": [
    "#### GitHub Issues for project-related communications\n",
    "<img src=\"img/open_issues.png\" >\n"
   ]
  },
  {
   "cell_type": "markdown",
   "metadata": {
    "slideshow": {
     "slide_type": "slide"
    }
   },
   "source": [
    "source: https://github.com/LerouxLab/Celegans_wild_isolate_behaviour/issues"
   ]
  },
  {
   "cell_type": "markdown",
   "metadata": {
    "slideshow": {
     "slide_type": "slide"
    }
   },
   "source": [
    "#### Version control contributes to better communication & team work\n",
    "\n",
    "- All collaborators/team members know where to find the latest (or earlier) version of the analysis (code and output)\n",
    "\n",
    "- All collaborators/team members have access to all communications associated with the analysis"
   ]
  },
  {
   "cell_type": "markdown",
   "metadata": {
    "slideshow": {
     "slide_type": "slide"
    }
   },
   "source": [
    "### 2. Executable analysis scripts & pipelines\n",
    "\n",
    "- As analysis grows in length and complexity, one literate code document generally is not enough\n",
    "\n",
    "- To improve code report readability (and code reproducibility and modularity) it is better to abstract at least parts of the code away (e.g, to scripts)\n",
    "\n",
    "- These scripts save figures and tables that will be imported into the final report\n",
    "\n",
    "<img src=\"img/scripts.png\" width=800>"
   ]
  },
  {
   "cell_type": "markdown",
   "metadata": {
    "slideshow": {
     "slide_type": "slide"
    }
   },
   "source": [
    "#### Example problem solved by executable analysis scripts & pipelines\n",
    "\n",
    "**Problem:** Activation time to becoming productive after taking a break from the project is hours to days 😴\n",
    "\n",
    "**Solution:** Record the order scripts need to be run in, and their arguments in one \"driver\" script/pipeline file."
   ]
  },
  {
   "cell_type": "markdown",
   "metadata": {
    "slideshow": {
     "slide_type": "slide"
    }
   },
   "source": [
    "#### Create a recipe for your analysis\n",
    "\n",
    "<img src=\"img/pipeline.png\" width=800>"
   ]
  },
  {
   "cell_type": "markdown",
   "metadata": {
    "slideshow": {
     "slide_type": "slide"
    }
   },
   "source": [
    "#### Example problem solved by executable analysis scripts & pipelines\n",
    "**Problem:** A small change to the analysis code requires re-running the entire thing, *and takes hours...* 😧\n",
    "\n",
    "**Solution:** Use a smart dependency tree tool to only re-run the parts that needs to be updated."
   ]
  },
  {
   "cell_type": "markdown",
   "metadata": {
    "slideshow": {
     "slide_type": "slide"
    }
   },
   "source": [
    "#### Make - one possible smart dependency tree tool"
   ]
  },
  {
   "cell_type": "markdown",
   "metadata": {
    "slideshow": {
     "slide_type": "fragment"
    }
   },
   "source": [
    "- special file called a Makefile that contains the recipe for your analysis\n"
   ]
  },
  {
   "cell_type": "markdown",
   "metadata": {
    "slideshow": {
     "slide_type": "fragment"
    }
   },
   "source": [
    "- Makefiles are \"smart\" and after changes, only run the parts of the analysis that has changed (as well as the parts that depend on the parts that changed)"
   ]
  },
  {
   "cell_type": "markdown",
   "metadata": {
    "slideshow": {
     "slide_type": "slide"
    }
   },
   "source": [
    "- Each block of code in a Makefile is called a rule, it looks something like this:\n",
    "```\n",
    "file_to_create.png : data_it_depends_on.dat script_it_depends_on.py\n",
    "\tpython script_it_depends_on.py data_it_depends_on.dat file_to_create.png\n",
    "```"
   ]
  },
  {
   "cell_type": "markdown",
   "metadata": {
    "slideshow": {
     "slide_type": "fragment"
    }
   },
   "source": [
    "- Makefiles are made of many rules, typically one rule for each time you run an analysis script"
   ]
  },
  {
   "cell_type": "markdown",
   "metadata": {
    "slideshow": {
     "slide_type": "fragment"
    }
   },
   "source": [
    "*Make is not the only smart dependency tree tool - Apache Airflow, Prefect, `snakemake` & `targets` are also great options!*"
   ]
  },
  {
   "cell_type": "markdown",
   "metadata": {
    "slideshow": {
     "slide_type": "slide"
    }
   },
   "source": [
    "#### Example Makefile:\n",
    "```\n",
    "# run all analysis\n",
    "all: doc/count_report.md\n",
    "\n",
    "# make dat files\n",
    "results/isles.dat: data/isles.txt src/wordcount.py\n",
    "\tpython src/wordcount.py data/isles.txt results/isles.dat\n",
    "results/abyss.dat: data/abyss.txt src/wordcount.py\n",
    "\tpython src/wordcount.py data/abyss.txt results/abyss.dat\n",
    "\n",
    "#create figures\n",
    "results/figure/isles.png: results/isles.dat src/plotcount.py\n",
    "\tpython src/plotcount.py results/isles.dat results/figure/isles.png\n",
    "results/figure/abyss.png: results/abyss.dat src/plotcount.py\n",
    "\tpython src/plotcount.py results/abyss.dat results/figure/abyss.png\n",
    "\n",
    "# render report\n",
    "doc/count_report.md: doc/count_report.Rmd results/figure/isles.png results/figure/abyss.png results/figure/last.png results/figure/sierra.png\n",
    "\tRscript -e \"rmarkdown::render('doc/count_report.Rmd')\"\n",
    "```"
   ]
  },
  {
   "cell_type": "markdown",
   "metadata": {
    "slideshow": {
     "slide_type": "slide"
    }
   },
   "source": [
    "### Makefile dependency tree\n",
    "\n",
    "<img src=\"img/Makefile.png\" width=800>"
   ]
  },
  {
   "cell_type": "markdown",
   "metadata": {
    "slideshow": {
     "slide_type": "slide"
    }
   },
   "source": [
    "#### Executable analysis scripts & pipelines contribute to better collaboration\n",
    "\n",
    "- Can be used by others to run/replicate the analysis\n",
    "- Makes it easier to understand the landscape of the project and for others to contribute \n",
    "- Reduces *some* of the challenges/frustrations of working with larger data sets"
   ]
  },
  {
   "cell_type": "markdown",
   "metadata": {
    "slideshow": {
     "slide_type": "slide"
    }
   },
   "source": [
    "### 3. Defined & shippable dependencies\n",
    "Dependencies are other things one need to install to run your code, and includes:\n",
    "- programming languages (e.g., R, Python, Julia, etc)\n",
    "- packages from programming languates (e.g., tidyverse, scikit-learn)\n",
    "- other tools you rely on (e.g., Make)\n",
    "- legacy code (e.g., perl scripts, fortran, etc)\n",
    "\n",
    "***Dependencies include versions as well as names!***"
   ]
  },
  {
   "cell_type": "markdown",
   "metadata": {
    "slideshow": {
     "slide_type": "slide"
    }
   },
   "source": [
    "#### Example problem solved by defined & shippable dependencies\n",
    "**Problem:** Code that can only be run on one machine, *you don't know why...* 😵\n",
    "\n",
    "**Problem:** Long install times when setting up a remote machine for analysis 🙄\n",
    " \n",
    "**One possible solution:** Containerizing your software and environmental dependencies"
   ]
  },
  {
   "cell_type": "markdown",
   "metadata": {
    "slideshow": {
     "slide_type": "slide"
    }
   },
   "source": [
    "#### What are containers?\n",
    "- Containers are *like* a light-weight virtual machine, they allow you to share:\n",
    " - Python/R versions\n",
    " - package versions\n",
    " - other tools you rely on (e.g., Make)\n",
    " - legacy code (e.g., perl scripts, fortran, etc)\n",
    "- The most popular tool for this is Docker\n",
    "- Containers can be shared on [DockerHub](https://hub.docker.com/) (similar to how code can be shared on GitHub)"
   ]
  },
  {
   "cell_type": "markdown",
   "metadata": {
    "slideshow": {
     "slide_type": "slide"
    }
   },
   "source": [
    "#### What are containers?\n",
    "\n",
    "<img src=\"https://media.springernature.com/full/springer-static/image/art%3A10.1186%2Fs13742-016-0135-4/MediaObjects/13742_2016_135_Fig7_HTML.gif?as=webp\" width=300>\n",
    "\n",
    "\n",
    "source: [Tools and techniques for computational reproducibility](https://gigascience.biomedcentral.com/articles/10.1186/s13742-016-0135-4) by Stephen R. Piccolo & Michael B. Frampton "
   ]
  },
  {
   "cell_type": "markdown",
   "metadata": {
    "slideshow": {
     "slide_type": "slide"
    }
   },
   "source": [
    "<img src=\"img/dockerfile.png\" width=800>"
   ]
  },
  {
   "cell_type": "markdown",
   "metadata": {
    "slideshow": {
     "slide_type": "slide"
    }
   },
   "source": [
    "<img src=\"img/docker-hub-eg.png\" width=800>"
   ]
  },
  {
   "cell_type": "markdown",
   "metadata": {
    "slideshow": {
     "slide_type": "slide"
    }
   },
   "source": [
    "#### Instructions needed to run analysis on *almost* any machine:\n",
    "1. Install [Docker](https://docs.docker.com/v17.12/install/) \n",
    "2. Clone or download [this GitHub repository](https://github.com/ttimbers/data_analysis_pipeline_eg)\n",
    "3. From the root of the cloned repository, type: \n",
    "```\n",
    "docker run --rm -v $(pwd):/home/rstudio/data_analysis_eg \\\n",
    "ttimbers/data_analysis_pipeline_eg make -C /home/rstudio/data_analysis_eg all\n",
    "```"
   ]
  },
  {
   "cell_type": "markdown",
   "metadata": {
    "slideshow": {
     "slide_type": "slide"
    }
   },
   "source": [
    "#### Defined & shippable dependencies contribute to democratization of Data Science\n",
    "If you take care of packaging dependencies in a Docker container and distribute the container on DockerHub, you can add one line to your run instructions to your analysis to take away any installation pain your collaborators may face.\n"
   ]
  },
  {
   "cell_type": "markdown",
   "metadata": {
    "slideshow": {
     "slide_type": "slide"
    }
   },
   "source": [
    "### When to add these workflow features:\n",
    "1. Version Control  \n",
    " - **ALWAYS**\n",
    "2. Executable analysis scripts & pipelines \n",
    " - **When you start hiding code chunks/cells in your Rmd/Jupter notebook**\n",
    "3. Defined & shippable dependencies \n",
    " - **When doing remote computing or when you have tricky dependencies**"
   ]
  },
  {
   "cell_type": "markdown",
   "metadata": {
    "slideshow": {
     "slide_type": "slide"
    }
   },
   "source": [
    "<img src=\"img/2011.11.15_life_of_a_swe.png\" width=600>"
   ]
  },
  {
   "cell_type": "markdown",
   "metadata": {
    "slideshow": {
     "slide_type": "slide"
    }
   },
   "source": [
    "<img src=\"img/imp_life_ds.png\" width=600>"
   ]
  },
  {
   "cell_type": "markdown",
   "metadata": {
    "slideshow": {
     "slide_type": "slide"
    }
   },
   "source": [
    "## Life cycle of a data analysis project"
   ]
  },
  {
   "cell_type": "markdown",
   "metadata": {
    "slideshow": {
     "slide_type": "slide"
    }
   },
   "source": [
    "![alt tag](img/data-science-workflow.png)\n",
    "*Source: [R for Data Science](http://r4ds.had.co.nz/introduction.html) by Grolemund & Wickham*"
   ]
  },
  {
   "cell_type": "markdown",
   "metadata": {
    "slideshow": {
     "slide_type": "slide"
    }
   },
   "source": [
    "<img src=\"img/art_of_ds_cycle.png\" width=400>"
   ]
  },
  {
   "cell_type": "markdown",
   "metadata": {
    "slideshow": {
     "slide_type": "notes"
    }
   },
   "source": [
    "*Source: [Art of Data Science](https://leanpub.com/artofdatascience) by Peng & Matsui*"
   ]
  },
  {
   "cell_type": "markdown",
   "metadata": {},
   "source": [
    "## Revisiting the definition of data science & what is the question?\n",
    "\n",
    "(we need to talk about this for your project)\n",
    "\n",
    "*the study, development and practice of reproducible and auditable processes to obtain **insight from data**.*\n",
    "\n",
    "For the latter part of this definition, it is critical that you match the correct data science methods to the type of statistical question you are asking.\n",
    "\n",
    "<img src=\"http://jtleek.com/ads2020/images/week1/questions.png\" width=600>"
   ]
  },
  {
   "cell_type": "markdown",
   "metadata": {},
   "source": [
    "#### 1. Descriptive\n",
    "\n",
    "One that seeks to summarize a characteristic of a set of data. No interpretation of the result itself as the result is a fact, an attribute of the data set you are working with.\n",
    "\n",
    "\n",
    "Examples:\n",
    "\n",
    "- What is the frequency of viral illnesses in a set of data collected from a group of individuals?\n",
    "\n",
    "- How many people live in each US state?"
   ]
  },
  {
   "cell_type": "markdown",
   "metadata": {},
   "source": [
    "#### 2. Exploratory\n",
    "\n",
    "One in which you analyze the data to see if there are patterns, trends, or relationships between variables looking for patterns that would support proposing a hypothesis to test in a future study.\n",
    "\n",
    "Examples:\n",
    "\n",
    "- Do diets rich in certain foods have differing frequencies of viral illnesses **in a set of data** collected from a group of individuals? \n",
    "\n",
    "- Does air pollution correlate with life expectancy **in a set of data** collected from groups of individuals from several regions in the United States?  "
   ]
  },
  {
   "cell_type": "markdown",
   "metadata": {},
   "source": [
    "#### 3. Inferential\n",
    "\n",
    "One in which you analyze the data to see if there are patterns, trends, or relationships between variables in a representative sample. We want to quantify how much the patterns, trends, or relationships between variables is applicable to all individuals units in the population.\n",
    "\n",
    "Examples:\n",
    "\n",
    "- Is eating at least 5 servings a day of fresh fruit and vegetables is associated with fewer viral illnesses per year?\n",
    "\n",
    "- Is the gestational length of first born babies the same as that of non-first borns?"
   ]
  },
  {
   "cell_type": "markdown",
   "metadata": {},
   "source": [
    "#### 4. Predictive\n",
    "\n",
    "One where you are trying to predict measurements or labels for individuals (people or things). Less interested in what causes the predicted outcome, just what predicts it.\n",
    "\n",
    "Examples: \n",
    "\n",
    "- How many viral illnesses will someone have next year?\n",
    "\n",
    "- What political party will someone vote for in the next US election?"
   ]
  },
  {
   "cell_type": "markdown",
   "metadata": {},
   "source": [
    "#### 5. Causal\n",
    "\n",
    "Asks about whether changing one factor will change another factor, on average, in a population. Sometimes the underlying design of the data collection, by default, allows for the question that you ask to be causal (e.g., randomized experiment or trial)\n",
    "\n",
    "Examples:\n",
    "\n",
    "- Does eating at least 5 servings a day of fresh fruit and vegetables cause fewer viral illnesses per year?\n",
    "\n",
    "- Does smoking lead to cancer?"
   ]
  },
  {
   "cell_type": "markdown",
   "metadata": {},
   "source": [
    "#### 6. Mechanistic\n",
    "\n",
    "One that tries to explain the underlying mechanism of the observed patterns, trends, or relationship (how does it happen?)\n",
    "\n",
    "Examples:\n",
    "\n",
    "- How do changes in diet lead to a reduction in the number of viral illnesses?\n",
    "\n",
    "- How does how airplane wing design changes air flow over a wing, leading to decreased drag?\n"
   ]
  },
  {
   "cell_type": "markdown",
   "metadata": {},
   "source": [
    "#### Challenge #1\n",
    "\n",
    "What kind of statistical question is this?\n",
    "\n",
    "*Is a yet undiagnosed patient's breast cancer tumor malignant or benign?* "
   ]
  },
  {
   "cell_type": "markdown",
   "metadata": {},
   "source": [
    "#### Challenge #2\n",
    "\n",
    "What kind of statistical question is this?\n",
    "\n",
    "*Is inhalation of marijuana associated with lung cancer?* \n"
   ]
  },
  {
   "cell_type": "markdown",
   "metadata": {},
   "source": [
    "#### Challenge #2\n",
    "\n",
    "What kind of statistical question is this?\n",
    "\n",
    "*Does a truncation of the BRCA2 gene cause cancer?* \n"
   ]
  },
  {
   "cell_type": "markdown",
   "metadata": {},
   "source": [
    "#### Challenge #4\n",
    "\n",
    "What kind of statistical question is this?\n",
    "\n",
    "*Are there sub-types of ovarian tumors?*\n"
   ]
  },
  {
   "cell_type": "markdown",
   "metadata": {},
   "source": [
    "### So you know the type of question, now what?\n",
    "\n",
    "This helps narrow down the possibilities \n",
    "of the kind of analysis you might want to do!\n",
    "\n",
    "For example, if you have the question: **\"How many viral illnesses will someone have next year?\"**\n",
    "and you identify that it is **predictive.**\n",
    "You could narrow down that some kind of statistical or machine learning model \n",
    "might help you answer that.\n",
    "\n",
    "Then you need to go a step deeper and look at the data that you have, \n",
    "and see which kind of statistical \n",
    "or machine learning model is most suitable for your data.\n",
    "\n",
    "<img src=\"https://scikit-learn.org/stable/_static/ml_map.png\" width=700>\n",
    "\n",
    "Source: [scikit-learn algorithm cheat sheet](https://scikit-learn.org/stable/tutorial/machine_learning_map/index.html)\n"
   ]
  },
  {
   "cell_type": "markdown",
   "metadata": {},
   "source": [
    "#### General statistical workflow:\n",
    "\n",
    "1. Identify the kind of question\n",
    "\n",
    "2. Identify or collect the data, and then look at the data\n",
    "\n",
    "3. Identify a suitable statistical method for your question and data\n",
    "\n",
    "4. Create a visualization\n",
    "\n",
    "5. Apply your statistical method\n",
    "\n",
    "6. (maybe create another visualization)\n",
    "\n",
    "7. Interpret and communicate your assumptions and results\n",
    "\n",
    "*Note 1: in your project you might swap 1 & 2 as we are restricting ourselves to existing, public data sets.*\n",
    "\n",
    "*Note 2: Sometimes you will consider #3 with or before #2, in particular when you are running an experiment or collecting the data.*"
   ]
  },
  {
   "cell_type": "markdown",
   "metadata": {},
   "source": [
    "## Wrap up\n",
    "\n",
    "- We define data science as *the study, development and practice of __reproducible and auditable processes__ to obtain __insight from data.__*\n",
    "\n",
    "- Both bolded parts of the definition are important! This course will primarily focus on the first part, but you will get the opportunity to practice the second part in your group projects for this course.\n",
    "\n",
    "- Many ways a data analysis can be untrustworthy... just because a data analysis is reproducible and auditable, doesn't mean it is fully trustworthy. But a data analysis is not trustworthy if it cannot be reproduced or studied...\n"
   ]
  },
  {
   "cell_type": "markdown",
   "metadata": {
    "slideshow": {
     "slide_type": "slide"
    }
   },
   "source": [
    "### What's next?\n",
    "\n",
    "- Version control for transparency and collaboration!"
   ]
  }
 ],
 "metadata": {
  "anaconda-cloud": {},
  "celltoolbar": "Slideshow",
  "kernelspec": {
   "display_name": "Python 3",
   "language": "python",
   "name": "python3"
  },
  "language_info": {
   "codemirror_mode": {
    "name": "ipython",
    "version": 3
   },
   "file_extension": ".py",
   "mimetype": "text/x-python",
   "name": "python",
   "nbconvert_exporter": "python",
   "pygments_lexer": "ipython3",
   "version": "3.9.10"
  }
 },
 "nbformat": 4,
 "nbformat_minor": 4
}