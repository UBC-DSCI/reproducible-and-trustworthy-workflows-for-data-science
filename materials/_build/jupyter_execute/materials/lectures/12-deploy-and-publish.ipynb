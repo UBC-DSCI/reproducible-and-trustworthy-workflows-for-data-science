{
 "cells": [
  {
   "cell_type": "markdown",
   "metadata": {},
   "source": [
    "# Deploying and publishing packages"
   ]
  },
  {
   "cell_type": "markdown",
   "metadata": {},
   "source": [
    "## Topic learning objectives\n",
    "\n",
    "By the end of this topic, students should be able to:\n",
    "\n",
    "1. Define continuous deployment and argue the costs and benefits of continuous deployment\n",
    "2. Explain semantic versioning, and define what constitutes patch, minor, major and breaking changes\n",
    "3. Use continuous deployment (e.g., GitHub Actions) to automate deployment of software packages, or components of software packages (e.g., documentation)\n",
    "4. Publish software packages to development and production package repositories (e.g., GitHub and CRAN)"
   ]
  },
  {
   "cell_type": "markdown",
   "metadata": {
    "tags": []
   },
   "source": [
    "## Continous Deployment (CD)\n",
    "\n",
    "Defined as the practice of automating the deployment of software that has successfully run through your test-suite.\n",
    "\n",
    "For example, upon merging a pull request to master, an automation process builds the Python package and publishes to PyPI without further human intervention. \n",
    "\n",
    "### Why use CD?\n",
    "\n",
    "- little to no effort in deploying new version of the software allows new features to be rolled out quickly and frequently\n",
    "- also allows for quick implementation and release of bug fixes\n",
    "- deployment can be done by many contributors, not just one or two people with a high level of Software Engineering expertise\n",
    "\n",
    "### Why use CD?\n",
    "\n",
    "Perhaps this story is more convincing:\n",
    "\n",
    "*The company, let’s call them ABC Corp, had 16 instances of the same software, each as a different white label hosted on separate Linux machines in their data center. What I ended up watching (for 3 hours) was how the client remotely connected to each machine individually and did a “capistrano deploy”. For those unfamiliar, Capistrano is essentially a scripting tool which allows for remote execution of various tasks. The deployment process involved running multiple commands on each machine and then doing manual testing to make sure it worked.*\n",
    "\n",
    "*The best part was that this developer and one other were the only two in the whole company who knew how to run the deployment, meaning they were forbidden from going on vacation at the same time. And if one of them was sick, the other had the responsibility all for themselves. This deployment process was done once every two weeks.*\n",
    "\n",
    "[*Source*](https://levelup.gitconnected.com/heres-why-continuous-integration-and-deployment-is-so-important-to-the-software-development-c0caeead5881)*: Tylor Borgeson*"
   ]
  },
  {
   "cell_type": "markdown",
   "metadata": {},
   "source": [
    "Infrequent & manual deployment makes me feel like this when it comes time to do it:\n",
    "\n",
    "![](https://media.giphy.com/media/bEVKYB487Lqxy/giphy.gif)\n",
    "\n",
    "*and so it can become a viscious cycle of delaying deployment because its hard, and then making it harder to do deployment because a lot of changes have been made since the last deployment...*\n",
    "\n",
    "So to avoid this, we are going to do continuous deployment when we can! And where we can't, we will automate as much as we can up until the point where we need to manually step in."
   ]
  },
  {
   "cell_type": "markdown",
   "metadata": {},
   "source": [
    "## Examples of CD being used for data science\n",
    "\n",
    "- [Python packages](https://py-pkgs.org/08-ci-cd#setting-up-continuous-deployment) (but not R, more on this later...)\n",
    "\n",
    "- Package documentation (e.g., [`pkgdown` websites](https://pkgdown.r-lib.org/) for R, [ReadtheDocs](https://py-pkgs.org/06-documentation#hosting-documentation-online) websites for Python)\n",
    "\n",
    "- Books and websites (e.g., [`jupyter-book`](https://jupyterbook.org/intro.html), [`bookdown`](https://bookdown.org/), [`distill` websites](https://pkgs.rstudio.com/distill/index.html), etc)"
   ]
  },
  {
   "cell_type": "markdown",
   "metadata": {},
   "source": [
    "## Conditionals for when to run the job\n",
    "\n",
    "We only want our `cd` job to run if certain conditions are true, these are:\n",
    "\n",
    "1. if the `ci` job passes\n",
    "\n",
    "2. if this is a commit to the `main` branch\n",
    "\n",
    "We can accomplish this in our `cd` job be writing a conditional using the `needs` and `if` keywords at the top of the job, right after we set the permissions:\n",
    "\n",
    "```\n",
    "cd:\n",
    "    permissions:\n",
    "      id-token: write\n",
    "      contents: write\n",
    "\n",
    "    # Only run this job if the \"ci\" job passes\n",
    "    needs: ci\n",
    "\n",
    "    # Only run this job if new work is pushed to \"main\"\n",
    "    if: github.event_name == 'push' && github.ref == 'refs/heads/main'\n",
    "```"
   ]
  },
  {
   "cell_type": "markdown",
   "metadata": {
    "slideshow": {
     "slide_type": "slide"
    }
   },
   "source": [
    "### Exercise: read the `cd` job of [`ci-cd.yml`](https://github.com/py-pkgs/py-pkgs-cookiecutter/blob/main/%7B%7B%20cookiecutter.__package_slug%20%7D%7D/.github/workflows/ci-cd.yml)\n",
    "\n",
    "To make sure we understand what is happening in our workflow that performs CD, let's convert each **step** to a human-readable explanation:\n",
    "\n",
    "1. Sets up Python on the runner\n",
    "\n",
    "2. Checkout our repository files from GitHub and put them on the runner\n",
    "\n",
    "3. ...\n",
    "\n",
    "4. ...\n",
    "\n",
    "5. ...\n",
    "\n",
    "6. ...\n",
    "\n",
    "7. ...\n",
    "\n",
    "> Note: I filled in the steps we went over last class, so you can just fill in the new stuff"
   ]
  },
  {
   "cell_type": "markdown",
   "metadata": {},
   "source": [
    "### How can we automate version bumping?\n",
    "\n",
    "Let's look at the first step that works towards accomplishing this:\n",
    "\n",
    "```\n",
    "      - name: Use Python Semantic Release to prepare release\n",
    "        id: release\n",
    "        uses: python-semantic-release/python-semantic-release@v8.3.0\n",
    "        with:\n",
    "          github_token: ${{ secrets.GITHUB_TOKEN }}\n",
    "```\n",
    "\n",
    "[Python semantic-release](https://python-semantic-release.readthedocs.io/en/latest/) is a Python tool which parses commit messages looking for keywords to indicate how to bump the version. It bumps the version in the `pyproject.toml` file.\n",
    "\n",
    "To understand how it works so that we can use it, we need to understand **semantic versioning** and how to write **conventional commit** messages.\n",
    "\n",
    "Let's unpack each of these on its own."
   ]
  },
  {
   "cell_type": "markdown",
   "metadata": {},
   "source": [
    "## Semantic versioning\n",
    "\n",
    "- When we make changes and publish new versions of our packages, we should tag these with a version number so that we and others can view and use older versions of the package if needed. \n",
    "\n",
    "- These version numbers should also communicate something about how the underlying code has changed from one version to the next. \n",
    "\n",
    "- Semantic versioning is an agreed upon \"code\" by developers that gives meaning to version number changes, so developers and users can make meaningful predictions about how code changes between versions from looking solely at the version numbers.\n",
    "\n",
    "- Semantic versioning assumes version 1.0.0 defines the API, and the changes going forward use that as a starting reference."
   ]
  },
  {
   "cell_type": "markdown",
   "metadata": {},
   "source": [
    "## Semantic versioning\n",
    "\n",
    "Given a version number `MAJOR.MINOR.PATCH` (e.g., `2.3.1`), increment the:\n",
    "\n",
    "- MAJOR version when you make incompatible API changes (often called breaking changes 💥) \n",
    "\n",
    "- MINOR version when you add functionality in a backwards compatible manner ✨↩️\n",
    "\n",
    "- PATCH version when you make backwards compatible bug fixes 🐞\n",
    "\n",
    "*Source: https://semver.org/*"
   ]
  },
  {
   "cell_type": "markdown",
   "metadata": {},
   "source": [
    "### Semantic versioning case study\n",
    "\n",
    "**Case 1:** In June 2009, Python bumped versions from 3.0.1, some changes in the new release included:\n",
    "- Addition of an ordered dictionary type\n",
    "- A pure Python reference implementation of the import statement\n",
    "- New syntax for nested with statements\n",
    "\n",
    "**Case 2:** In Dec 2017, Python bumped versions from 3.6.3, some changes in the new release included:\n",
    "\n",
    "- Fixed several issues in printing tracebacks (`PyTraceBack_Print()`).\n",
    "- Fix the interactive interpreter looping endlessly when no memory.\n",
    "- Fixed an assertion failure in Python parser in case of a bad `unicodedata.normalize()`\n",
    "\n",
    "**Case 3:** In Feb 2008, Python bumped versions from 2.7.17, some changes in the new release included:\n",
    "- `print` became a function\n",
    "- integer division resulted in creation of a float, instead of an integer\n",
    "- Some well-known APIs no longer returned lists (e.g., `dict.keys`, `dict.values`, `map`)\n",
    "\n",
    "### Exercise: name that semantic version release\n",
    "\n",
    "Reading the three cases posted above, think about whether each should be a major, minor or patch version bump. Answer the chat when prompted."
   ]
  },
  {
   "cell_type": "markdown",
   "metadata": {
    "slideshow": {
     "slide_type": "slide"
    }
   },
   "source": [
    "## Conventional commit messages\n",
    "\n",
    "[Python Semantic Release](https://python-semantic-release.readthedocs.io/en/latest/) by default uses a parser that works on the conventional (or Angular) commit message style, which is:\n",
    "\n",
    "```\n",
    "<type>(optional scope): succinct description of the change\n",
    "\n",
    "(optional body: the motivation for the change and contrast this with previous behavior)\n",
    "\n",
    "(optional footer: note BREAKING CHANGES here, as well as any issues to be closed)\n",
    "```\n"
   ]
  },
  {
   "cell_type": "markdown",
   "metadata": {
    "slideshow": {
     "slide_type": "fragment"
    }
   },
   "source": [
    "How to affect semantic versioning with conventional commit messages:\n",
    "- a commit with the type `fix` leads to a patch version bump\n",
    "- a commit with the type `feat` leads to a minor version bump\n",
    "- a commit with a body or footer that starts with `BREAKING CHANGE:` - these can be of any type (Note: currently Python Semantic release is broken for detecting these on commits with Windows line endings, wich the GitHub pen tool commits also use. The workaround fix is to use `!` after `feat`, for example: `feat!: This describes the new feature and breaking changes` in addition to `BREAKING CHANGES: ...` in the footer.)"
   ]
  },
  {
   "cell_type": "markdown",
   "metadata": {
    "slideshow": {
     "slide_type": "notes"
    }
   },
   "source": [
    "> Note - commit types other than `fix` and `feat` are allowed. Recommeneded ones include `docs`, `style`, `refactor`, `test`, `ci` and [others](https://github.com/angular/angular/blob/master/CONTRIBUTING.md#type). However, only `fix` and `feat` result in version bumps using Python Semantic Release."
   ]
  },
  {
   "cell_type": "markdown",
   "metadata": {
    "slideshow": {
     "slide_type": "slide"
    }
   },
   "source": [
    "### An example of a conventional commit message\n",
    "\n",
    "```\n",
    "git commit -m \"feat(function_x): added the ability to initialize a project even if a pyproject.toml file exists\"\n",
    "```"
   ]
  },
  {
   "cell_type": "markdown",
   "metadata": {
    "slideshow": {
     "slide_type": "fragment"
    }
   },
   "source": [
    "What kind of version bump would this result in?"
   ]
  },
  {
   "cell_type": "markdown",
   "metadata": {
    "slideshow": {
     "slide_type": "slide"
    }
   },
   "source": [
    "### Another example of a conventional commit message\n",
    "\n",
    "```\n",
    "git commit -m \"feat!: change to use of `%>%` to add new layers to ggplot objects\n",
    "\n",
    "BREAKING CHANGE: `+` operator will no longer work for adding new layers to ggplot objects after this release\"\n",
    "```"
   ]
  },
  {
   "cell_type": "markdown",
   "metadata": {
    "slideshow": {
     "slide_type": "fragment"
    }
   },
   "source": [
    "What kind of version bump would this result in?"
   ]
  },
  {
   "cell_type": "markdown",
   "metadata": {
    "jp-MarkdownHeadingCollapsed": true,
    "slideshow": {
     "slide_type": "slide"
    }
   },
   "source": [
    "### Some practical notes for usage in your packages:\n",
    "\n",
    "1. You must add the following to the tool section of your `pyproject.toml` file for this to work (note: the `pypkgs-cookiecutter` adds this table if you choose to add `ci-cd` when you set it up):\n",
    "\n",
    "    ```\n",
    "    [tool.semantic_release]\n",
    "    version_toml = [\n",
    "        \"pyproject.toml:tool.poetry.version\",\n",
    "    ]                                                    # version location\n",
    "    branch = \"main\"                                      # branch to make releases of\n",
    "    changelog_file = \"CHANGELOG.md\"                      # changelog file\n",
    "    build_command = \"pip install poetry && poetry build\" # build dists\n",
    "    ```\n",
    "    \n",
    "2. Versions will **not** be bumped if conventional commits are not used."
   ]
  },
  {
   "cell_type": "markdown",
   "metadata": {
    "slideshow": {
     "slide_type": "slide"
    }
   },
   "source": [
    "### Some practical notes for usage in your packages:\n",
    "\n",
    "\n",
    "1. Automated version bumping can only work (as currently implemented in our cookiecutter) with versions in the `pyproject.toml` metadata (line 3). If you add a version elsewhere, it will not get bumped unless you specify the location the the `[tool.semantic_release]` table in `pyproject.toml`.\n",
    "\n",
    "2. If you have been working with main branch protection, you will need to change something to use `ci.yml` work for continuous deployment. The reason for this, is that this workflow (which bumps versions and deploy the package) is triggered to run **after** the pull request is merged to main. Therefore, when we bump the versions in the `pyproject.toml` file we need to push these changes to the main branch - however this is problematic given that we have set-up main branch protection!\n",
    "\n",
    "What are we to do about #2?\n",
    "\n",
    "#### Solution 1: \n",
    "\n",
    "Remove main branch protection. This is not the most idealistic solution, however it is a simple and practical one.\n",
    "\n",
    "#### Possible solution 2: \n",
    "\n",
    "(I say possible because this has yet to be formally documented by PSR, and is still just reported in an issue: <https://github.com/python-semantic-release/python-semantic-release/issues/311>. I have tested it and it works for me, see example here: <https://github.com/ttimbers/pycounts_tt_2024/blob/main/.github/workflows/ci-cd.yml>)\n",
    "\n",
    "1. Create a new GitHub PAT (see [these docs](https://docs.github.com/en/authentication/keeping-your-account-and-data-secure/creating-a-personal-access-token)) with the [repo](https://docs.github.com/en/developers/apps/building-oauth-apps/scopes-for-oauth-apps#available-scopes) scope.\n",
    "\n",
    "2. Under **\"Secrets\"**, click on **\"Settings and variables\"** > **\"Actions\"**, and then under **\"Repository secrets\"** click **\"New repository secret\"** to create a new repository secret named `RELEASE_TOKEN` and the new GitHub PAT with repo scope as its value.\n",
    "\n",
    "3. Edit the to `cd` job steps shown below (from `ci-cd.yml`) use this token:\n",
    "\n",
    "```\n",
    "...\n",
    "    - uses: actions/checkout@v3\n",
    "      with:\n",
    "        fetch-depth: 0\n",
    "        token: ${{ secrets.RELEASE_TOKEN }}\n",
    "...\n",
    "\n",
    "    - name: Use Python Semantic Release to prepare release\n",
    "      id: release\n",
    "      uses: python-semantic-release/python-semantic-release@v8.3.0\n",
    "      with:\n",
    "        github_token: ${{ secrets.RELEASE_TOKEN }}\n",
    "...\n",
    "```"
   ]
  },
  {
   "cell_type": "markdown",
   "metadata": {
    "slideshow": {
     "slide_type": "slide"
    }
   },
   "source": [
    "### Demo of Continous Deployment!\n",
    "\n",
    "- <https://github.com/ttimbers/pycounts_tt_2024>"
   ]
  },
  {
   "cell_type": "markdown",
   "metadata": {},
   "source": [
    "### What about CD with R packages\n",
    "\n",
    "- This is not a common practice (yet!). One reason for this could be that CRAN has a policy where they only want to see updates every 1-2 months.\n",
    "\n",
    "- Semantic versioning is used in Tidyverse R packages, but creating versions is done manually"
   ]
  },
  {
   "cell_type": "markdown",
   "metadata": {},
   "source": [
    "## Publishing your R package\n",
    "\n",
    "### Level 1: publishing on GitHub\n",
    "\n",
    "For this course, we will only publish your package on GitHub, not CRAN. For this to work, you need to push your package code to GitHub and provide users these instructions to download, build and install your package:\n",
    "\n",
    "```\n",
    "# install.packages(\"devtools\")\n",
    "devtools::install_github(\"ttimbers/convertempr\")\n",
    "```\n",
    "\n",
    "This is where almost all R packages start out publishing, and continue publishing development versions between releases."
   ]
  },
  {
   "cell_type": "markdown",
   "metadata": {},
   "source": [
    "## Level 2: publishing on CRAN\n",
    "\n",
    "- CRAN (founded in 1997) stands for the \"Comprehensive R Archive Network\"\n",
    "\n",
    "- it is a collection of sites which host identical copies of:\n",
    "    - R distribution(s)\n",
    "    - the contributed extensions (*i.e.,* packages)\n",
    "    - documentation for R\n",
    "    - binaries (i.e., packages)\n",
    "- as of 2012, there were 85 official ‘daily’ mirrors\n",
    "\n",
    " *Source: Hornik, K (2012). The Comprehensive R Archive Network. Wiley interdisciplinary reviews. Computational statistics. 4(4): 394-398. [doi:10.1002/wics.1212](https://onlinelibrary-wiley-com.ezproxy.library.ubc.ca/doi/full/10.1002/wics.1212)*\n",
    " \n",
    "> ### Binary vs source distributions, what's the difference?\n",
    "> \n",
    "> Binary distributions are pre-compiled (computer readable), whereas source distributions have to be compiled before they are installed.\n",
    "> \n",
    "> Precompiled binaries are often different for each operating system (e.g., Windows vs Mac)\n",
    "\n",
    "### Number of packages hosted by CRAN over history\n",
    "\n",
    "<img src=\"https://www.researchgate.net/publication/333159083/figure/fig1/AS:759374838517760@1558060478678/Number-of-R-packages-contributed-to-the-Comprehensive-R-Archive-Network-CRAN-as-a.png\" width=800>\n",
    "\n",
    "*Source: [\"Reproducibility and Replicability in a Fast-Paced Methodological World\"](https://journals.sagepub.com/doi/10.1177/2515245919847421) by Sacha Epskamp*"
   ]
  },
  {
   "cell_type": "markdown",
   "metadata": {},
   "source": [
    "### What does it mean to be a CRAN package:\n",
    "\n",
    "**A stamp of authenticity:**\n",
    "- passed quality control of the `check` utility\n",
    "\n",
    "**Ease of installation:**\n",
    "- can be installed by users via `install.packages` (it's actually the default!)\n",
    "- binaries available for Windows & Mac OS's\n",
    "\n",
    "**Discoverability:**\n",
    "- listed as a package on CRAN \n",
    "\n",
    "**HOWEVER** - CRAN makes no assertions about the package's usability, or the efficiency and correctness of the computations it performs"
   ]
  },
  {
   "cell_type": "markdown",
   "metadata": {},
   "source": [
    "### How to submit a package to CRAN\n",
    "\n",
    "1. Pick a version number.\n",
    "2. Run and document `R CMD check`.\n",
    "3. Check that you’re aligned with CRAN policies.\n",
    "4. Update README.md and NEWS.md.\n",
    "5. Submit the package to CRAN.\n",
    "6. Prepare for the next version by updating version numbers.\n",
    "7. Publicise the new version.\n",
    "\n",
    "*Source: [Chapter 18 Releasing a package](https://r-pkgs.org/release.html) - R packages book by Hadley Wickham & Jenny Bryan*\n",
    "\n",
    "### Notes on submitting to CRAN\n",
    "\n",
    "- CRAN is staffed by volunteers, all of whom have other full-time jobs\n",
    "- A typical week has over 100 submissions and only three volunteers to process them all. \n",
    "- The less work you make for them the more likely you are to have a pleasant submission experience... \n",
    "\n",
    "### Notes on submitting to CRAN (cont'd)\n",
    "\n",
    "Technical things:\n",
    "\n",
    "- Your package must pass `R CMD check` with the current development version of R (R-devel)\n",
    "- it must work on at least two platforms (CRAN uses the following 4 platforms: Windows, Mac OS X, Linux and Solaris) - use GitHub Actions to ensure this before submitting to CRAN!\n",
    "\n",
    "*If you decide to submit a package to CRAN follow the detailed instructions in [Chapter 18 Releasing a package](https://r-pkgs.org/release.html) fromt the R packages book by Hadley Wickham & Jenny Bryan to do so. If you submit your package to rOpenSci, they will help you get everything in order for submission to CRAN as well!*\n",
    "\n",
    "CRAN policies: <https://cran.r-project.org/web/packages/policies.html>\n",
    "\n",
    "Most common problems (from the R packages book):\n",
    "\n",
    "- The maintainer’s e-mail address must be stable, if they can’t get in touch with you they will remove your package from CRAN. \n",
    "\n",
    "- You must have clearly identified the copyright holders in DESCRIPTION: if you have included external source code, you must ensure that the license is compatible.\n",
    "\n",
    "- Do not make external changes without explicit user permission. Don’t write to the file system, change options, install packages, quit R, send information over the internet, open external software, etc.\n",
    "\n",
    "- Do not submit updates too frequently. The policy suggests a new version once every 1-2 months at most.\n",
    "\n",
    "### If your submission fails:\n",
    "\n",
    "Read section 18.6.1 \"On failure\" from  [Chapter 18 Releasing a package](https://r-pkgs.org/release.html) - R packages book by Hadley Wickham & Jenny Bryan*\n",
    "\n",
    "TL;DR - Breathe, don't argue, fix what is needed and re-submit."
   ]
  },
  {
   "cell_type": "markdown",
   "metadata": {},
   "source": [
    "## Publishing your Python package\n",
    "\n",
    "### Level 1: GitHub\n",
    "\n",
    "Packages can be installed from GitHub via `pip`:\n",
    "\n",
    "```\n",
    "pip install git+https://github.com/USERNAME/REPOSITORY.git\n",
    "```\n",
    "\n",
    "### Level 2: PyPI\n",
    "\n",
    "Packages can be installed from `PyPI` via:\n",
    "\n",
    "```\n",
    "pip install PACKAGE_NAME\n",
    "```\n",
    "\n",
    "- should be pronounced like \"pie pea eye\"\n",
    "- also known as the Cheese Shop (a reference to the Monty Python's Flying Circus sketch \"Cheese Shop\")\n",
    "\n",
    "> Because level 2 is so easy, it is the most commonly used method."
   ]
  },
  {
   "cell_type": "code",
   "execution_count": 1,
   "metadata": {},
   "outputs": [
    {
     "data": {
      "image/jpeg": "[encoded data removed]",
      "text/html": [
       "\n",
       "        <iframe\n",
       "            width=\"400\"\n",
       "            height=\"300\"\n",
       "            src=\"https://www.youtube.com/embed/zB8pbUW5n1g\"\n",
       "            frameborder=\"0\"\n",
       "            allowfullscreen\n",
       "            \n",
       "        ></iframe>\n",
       "        "
      ],
      "text/plain": [
       "<IPython.lib.display.YouTubeVideo at 0x1063cbbf0>"
      ]
     },
     "execution_count": 1,
     "metadata": {},
     "output_type": "execute_result"
    }
   ],
   "source": [
    "from IPython.display import YouTubeVideo\n",
    "YouTubeVideo('zB8pbUW5n1g')"
   ]
  },
  {
   "cell_type": "markdown",
   "metadata": {},
   "source": [
    "Don't get the joke? I didn't either without historical context. When PyPI was first launched it didn't have many Python packages on it - similar to a cheese shop with no cheese 😆"
   ]
  },
  {
   "cell_type": "markdown",
   "metadata": {},
   "source": [
    "### the Cheese Shop (er, PyPI)\n",
    "\n",
    "- PyPI (founded in 2002) stands for the \"Python Package Index\"\n",
    "\n",
    "-  hosts Python packages of two different forms:\n",
    "    - sdists (source distributions)\n",
    "    - precompiled \"wheels (binaries)\n",
    "- heavily cached and distributed\n",
    "- currently contains > 9000 projects\n",
    "\n",
    "### Number of packages hosted by PyPI over history\n",
    "\n",
    "<img src=\"https://www.researchgate.net/profile/Marat_Valiev2/publication/328595587/figure/fig1/AS:687258193633280@1540866530197/Number-of-new-PyPI-packages-per-month.png\" width=800>\n",
    "\n",
    "*Source: [\"Ecosystem-level determinants of sustained activity in open-source projects: a case study of the PyPI ecosystem\"](https://dl.acm.org/doi/10.1145/3236024.3236062) by  Marat Valiev, Bogdan Vasilescu & James Herbsleb*\n",
    "\n",
    "### What does it mean to be a PyPI package:\n",
    "\n",
    "**Ease of installation:**\n",
    "- can be installed by users via `pip install` (it's actually the default!)\n",
    "- universal binaries available for packages that are written solely in Python\n",
    "\n",
    "**Discoverability:**\n",
    "- listed as a package on PyPI\n",
    "\n",
    "HOWEVER, there is no required check for your package is required to pass... As long as you can bundle it as something that PyPI recognizes as an sdist or wheels then it can go on PyPI... This allows the process to be fully automated, but QC is lower than it is for CRAN.\n",
    "\n",
    "### How to submit a package to PyPI\n",
    "\n",
    "See the [\"How to package a Python\"](https://py-pkgs.org/03-how-to-package-a-python#) chapter of the *Python Packages* book.\n",
    "\n",
    "\n",
    "### Points for discussion \n",
    "\n",
    "- Is one model better or worse? \n",
    "\n",
    "- Importance & complimentarity of organizations like rOpenSci & pyOpenSci with CRAN and PyPI, respecitively"
   ]
  },
  {
   "cell_type": "markdown",
   "metadata": {},
   "source": [
    "## Peer review facilitates package publishing\n",
    "\n",
    "### [rOpenSci](https://ropensci.org/) \n",
    "\n",
    "#### aims and goals:\n",
    "\n",
    "rOpenSci fosters a culture that values open and reproducible research using shared data and reusable software.\n",
    "\n",
    "We do this by:\n",
    "- Creating technical infrastructure in the form of carefully vetted, staff- and community-contributed R software tools that lower barriers to working with scientific data sources on the web\n",
    "\n",
    "- Creating social infrastructure through a welcoming and diverse community\n",
    "\n",
    "- Making the right data, tools and best practices more discoverable\n",
    "\n",
    "- Building capacity of software users and developers and fostering a sense of pride in their work\n",
    "\n",
    "- Promoting advocacy for a culture of data sharing and reusable software.\n",
    "\n",
    "*Source: <https://ropensci.org/about/>*\n"
   ]
  },
  {
   "cell_type": "markdown",
   "metadata": {},
   "source": [
    "### rOpenSci's open peer review process\n",
    "\n",
    "- Authors submit complete R packages to rOpenSci.\n",
    "\n",
    "- Editors check that packages fit into rOpenSci's scope, run a series of automated tests to ensure a baseline of code quality and completeness, and then assign two independent reviewers.\n",
    "\n",
    "- Reviewers comment on usability, quality, and style of software code as well as documentation. \n",
    "\n",
    "- Authors make changes in response.\n",
    "\n",
    "- Once reviewers are satisfied with the updates, the package receives a badge of approval and joins rOpenSci's suite of approved pacakges.\n",
    "\n",
    "- Happens openly, and publicly on GitHub in issues.\n",
    "\n",
    "- Process is quite iterative and fast. After reviewers post a first round of extensive reviews, authors and reviewers chat in an informal back-and-forth, only lightly moderated by an editor. \n",
    "\n",
    "*Source: <https://numfocus.org/blog/how-ropensci-uses-code-review-to-promote-reproducible-science>*"
   ]
  },
  {
   "cell_type": "markdown",
   "metadata": {},
   "source": [
    "###  rOpenSci's Guidance and Standards\n",
    "\n",
    "What aspects of a package are reviewed? \n",
    "\n",
    "- high-level best practices:\n",
    "    - is the code reusable (e.g. follow the DRY principle)?\n",
    "    - are sufficient edge cases tested?\n",
    "    - etc\n",
    "    \n",
    "- low-level standards:\n",
    "    - are naming conventions for functions followed?\n",
    "    - did they make the best choices of dependencies for the package's intended tasks?\n",
    "    - etc\n",
    "    \n",
    "*Source: <https://numfocus.org/blog/how-ropensci-uses-code-review-to-promote-reproducible-science>*\n",
    "\n",
    "###  rOpenSci's Review Guidebook\n",
    "\n",
    "- <https://devguide.ropensci.org/>\n",
    "\n",
    "### rOpenSci-reviewed packages:\n",
    "\n",
    "- <https://ropensci.org/packages/>\n",
    "\n",
    "### Let's look at an rOpenSci review!\n",
    "\n",
    "All packages currently under review: <https://github.com/ropensci/software-review/issues>\n",
    "\n",
    "- [Review of tidypmc](https://github.com/ropensci/software-review/issues/290)\n",
    "\n",
    "\n",
    "### What do you get for having your package reviewed by rOpenSci?\n",
    "\n",
    "- valuable feedback from the knowledgeable editors and reviewers\n",
    "- help with package maintenance and submission of your package to CRAN\n",
    "- promotion of your package on their website, blog and social media\n",
    "- packages that have a short accompanying paper can be automatically submitted to [JOSS](https://joss.theoj.org/) and fast-tracked for publication."
   ]
  },
  {
   "cell_type": "markdown",
   "metadata": {},
   "source": [
    "## [pyOpenSci](https://www.pyopensci.org/)\n",
    "\n",
    "- A new organization, modelled after rOpenSci\n",
    "- scope is Python packages\n",
    "- First package submitted to pyOpenSci was in May 2019"
   ]
  },
  {
   "cell_type": "markdown",
   "metadata": {},
   "source": [
    "### Semantic versioning case study - answers\n",
    "\n",
    "In 2008, Python bumped versions from 2.7.17 to 3.0.0. Some changes in the 3.0.0 release included:\n",
    "- `print` became a function\n",
    "- integer division resulted in creation of a float, instead of an integer\n",
    "- Some well-known APIs no longer returned lists (e.g., `dict.keys`, `dict.values`, `map`)\n",
    "- and many more (see [here](https://docs.python.org/3.0/whatsnew/3.0.html) if interested)\n",
    "\n",
    "[*Source*](https://docs.python.org/3.0/whatsnew/3.0.html)\n",
    "\n",
    "In 2009, Python bumped versions from 3.0.1 to 3.1.0. Some changes in the 3.1.0 release included:\n",
    "- Addition of an ordered dictionary type\n",
    "- A pure Python reference implementation of the import statement\n",
    "- New syntax for nested with statements\n",
    "\n",
    "[*Source*](https://www.python.org/download/releases/3.1/)\n",
    "\n",
    "In 2017, Python bumped versions from 3.6.3 to 3.6.4. Some changes in the 3.6.4 release included:\n",
    "\n",
    "- Fixed several issues in printing tracebacks (`PyTraceBack_Print()`).\n",
    "- Fix the interactive interpreter looping endlessly when no memory.\n",
    "- Fixed an assertion failure in Python parser in case of a bad `unicodedata.normalize()`\n",
    "\n",
    "[*Source*](https://docs.python.org/3.6/whatsnew/changelog.html#python-3-6-4-final)"
   ]
  },
  {
   "cell_type": "code",
   "execution_count": null,
   "metadata": {
    "tags": [
     "hide-input"
    ]
   },
   "outputs": [],
   "source": []
  }
 ],
 "metadata": {
  "interpreter": {
   "hash": "b319716b0346eb12085fd5197d37942b2372f733afdc46387bcecfaa2bd21dfe"
  },
  "kernelspec": {
   "display_name": "Python 3 (ipykernel)",
   "language": "python",
   "name": "python3"
  },
  "language_info": {
   "codemirror_mode": {
    "name": "ipython",
    "version": 3
   },
   "file_extension": ".py",
   "mimetype": "text/x-python",
   "name": "python",
   "nbconvert_exporter": "python",
   "pygments_lexer": "ipython3",
   "version": "3.12.6"
  },
  "toc-showcode": true,
  "toc-showtags": false
 },
 "nbformat": 4,
 "nbformat_minor": 4
}