{
 "cells": [
  {
   "cell_type": "markdown",
   "metadata": {
    "slideshow": {
     "slide_type": "slide"
    }
   },
   "source": [
    "# How do reproducible and trustworthy workflows impact data science?"
   ]
  },
  {
   "cell_type": "markdown",
   "metadata": {
    "slideshow": {
     "slide_type": "slide"
    },
    "tags": []
   },
   "source": [
    "## Topic learning objectives\n",
    "\n",
    "By the end of this topic, students should be able to:\n",
    "\n",
    "1. Define data science, and the related terms reproducibile and audible analysis\n",
    "2. Give examples of workflows that are considered reproducible and trustworthy in the context of a data analysis\n",
    "3. Explain why data analysis benefit from reproducibile and audible workflows\n",
    "4. Provide real-life examples of how a failure in reproducible and trustworthy workflows has negatively impacted the outcome of a data analysis project"
   ]
  },
  {
   "cell_type": "markdown",
   "metadata": {
    "slideshow": {
     "slide_type": "slide"
    }
   },
   "source": [
    "## Data science\n",
    "\n",
    "*the study, development and practice of __reproducible and auditable processes__ to obtain __insight from data.__*\n",
    "\n",
    "From this definition, we must also define reproducible and auditable analysis:"
   ]
  },
  {
   "cell_type": "markdown",
   "metadata": {
    "slideshow": {
     "slide_type": "slide"
    }
   },
   "source": [
    "#### Reproducible analysis:\n",
    "*reaching the same result given the same input, computational methods and conditions $^1$.*\n",
    "\n",
    "- input = data\n",
    "- computational methods = computer code\n",
    "- conditions = computational environment (e.g., programming language & it's dependencies)"
   ]
  },
  {
   "cell_type": "markdown",
   "metadata": {
    "slideshow": {
     "slide_type": "slide"
    }
   },
   "source": [
    "#### Auditable/transparent analysis,\n",
    "*a readable record of the steps used to carry out the analysis as well as a record of how the analysis methods evolved $^2$.*\n",
    "\n",
    "1. [National Academies of Sciences, 2019](https://www.nap.edu/catalog/25303/reproducibility-and-replicability-in-science)\n",
    "2. [Parker, 2017](https://peerj.com/preprints/3210/) and [Ram, 2013](https://scfbm.biomedcentral.com/articles/10.1186/1751-0473-8-7)"
   ]
  },
  {
   "cell_type": "markdown",
   "metadata": {
    "slideshow": {
     "slide_type": "slide"
    }
   },
   "source": [
    "#### Why adopt this definition of data science?\n",
    "\n",
    "- It is important that insights from data science are trustworthy!\n",
    "\n",
    "To quote [Russel Hardin](https://as.nyu.edu/faculty/russell-hardin.html), \n",
    "\"Trust involves giving discretion to another to affect one’s interests.\"\n",
    "Data science insights are very often used to make important, \n",
    "real-life decisions that impact people and the environment\n",
    "(e.g., loan/credit approval, access to certain medical treatments,\n",
    "job applicant interview selection, criminal justice sentencing recommendations, etc). \n",
    "**It is important that such analyses be trustworthy!**\n",
    "\n",
    "- Reproducible and auditable methods are one of the expectations for trustworthy data science!\n",
    "\n",
    "Don Tapscott, one of the authors of *The Naked Corporation*, \n",
    "describes trust as: \"honest, considerate, accountable, and transparent\".\n",
    "Accountability and transparency are not sufficienct for trust, \n",
    "but they are necessary.\n",
    "\n"
   ]
  },
  {
   "cell_type": "markdown",
   "metadata": {},
   "source": [
    "#### We cannot trust non-reproducible and non-auditable analyses because they:\n",
    "\n",
    "1. lack evidence that the results could be regenerated (*is the analysis is reliable?*)\n",
    "\n",
    "2. we don't know enough details of how they were created (*is the analysis correct?*)\n",
    "  \n",
    "3. there is an insufficient record of how and why analysis decisions were made (*was a complete analysis performed?*)"
   ]
  },
  {
   "cell_type": "markdown",
   "metadata": {
    "slideshow": {
     "slide_type": "slide"
    }
   },
   "source": [
    "### What makes trustworthy data science?\n",
    "\n",
    "Some possible criteria:\n",
    "\n",
    "1. It should be reproducible and auditable\n",
    "\n",
    "2. It should be correct (in the context of both statistics and software)\n",
    "\n",
    "3. It should be complete\n",
    "\n",
    "4. It should be fair, equitable and honest"
   ]
  },
  {
   "cell_type": "markdown",
   "metadata": {
    "slideshow": {
     "slide_type": "fragment"
    }
   },
   "source": [
    "> There are many ways a data science can be untrustworthy... In this course we will focus on workflows that can help build trust. More training in data science ethics will be needed to help round out your education in how to do this. Further training in statistics and machine learning will also help with making sure your analysis is correct."
   ]
  },
  {
   "cell_type": "markdown",
   "metadata": {
    "slideshow": {
     "slide_type": "slide"
    }
   },
   "source": [
    "**Is this really important?**\n",
    "\n",
    "Yes! There are both small and big ways this can impact your work."
   ]
  },
  {
   "cell_type": "markdown",
   "metadata": {
    "slideshow": {
     "slide_type": "slide"
    }
   },
   "source": [
    "### An example with large impact\n",
    "\n",
    "[*RETRACTED ARTICLE: Safety and efficacy of favipiravir versus hydroxychloroquine in management of COVID-19: A randomised controlled trial*](https://www.nature.com/articles/s41598-021-98683-5)\n",
    "\n",
    "<img src=\"img/covid-19-retraction.png\" width=500>\n",
    "\n",
    "- [A research paper was published in March 2021](https://www.nature.com/articles/s41598-021-85227-0) that claimed that a drug, Favipiravir, was a safe and effective alternative to another drug, hydroxychloroquine (a medication commonly used to prevent or treat malaria), in mild or moderate COVID-19 infected patients.\n",
    "\n",
    "- In September, 2021 the paper we retracted by the editors - in part due to reproducibility issues:\n",
    "\n",
    "\n",
    "*\"After concerns were brought to the Editors' attention after publication, the raw data underlying the study were requested. The authors provided several versions of their dataset. Post-publication peer review confirmed that none of these versions fully recapitulates the results presented in the cohort background comparisons, casting doubt on the reliability of the data. Additional concerns were raised about the randomisation procedure, as the equal distribution of male and female patients is unlikely unless sex is a parameter considered during randomisation. However, based on the clarification provided by the authors, sex was not considered during this process. The Editors therefore no longer have confidence in the results and conclusions presented.\"*\n",
    "\n",
    "The problem doesn't just stop once the article is retracted... Between the time the article was published and retracted, the article was cited 17 times!\n",
    "\n",
    "<img src=\"img/covid-retraction-citations.png\" width=700>"
   ]
  },
  {
   "cell_type": "markdown",
   "metadata": {},
   "source": [
    "#### How big is this problem?\n",
    "\n",
    "Searching the [Retraction Watch Database](http://retractiondatabase.org/) for \"Results Not Reproducible\" we find 635 records that match!\n",
    "\n",
    "<img src=\"img/retraction-watch.png\" width=800>"
   ]
  },
  {
   "cell_type": "markdown",
   "metadata": {},
   "source": [
    "#### Does this just impact academia?\n",
    "\n",
    "No! The use of non-reproducible tools can impact government and industry as well! Consider this case: \n",
    "\n",
    "<img src=\"img/bbc.png\" width=500>\n",
    "\n",
    "Source: https://www.bbc.com/news/uk-scotland-edinburgh-east-fife-53893101"
   ]
  },
  {
   "cell_type": "markdown",
   "metadata": {},
   "source": [
    "What went wrong?\n",
    "\n",
    "An audit found that the wrong spreadsheet matrix was copied over, and the calculation for only 4 air changes per hour, instead of the required 10 per hour, was done. This error was missed several times by human review of the spreadsheet.\n",
    "\n",
    "How could this have been prevented via using reproducible tools? \n",
    "\n",
    "If code instead of a spreadsheet was used for calculations, then unit tests could have been written to check the calculations. Also, the code could be abstracted to a well named function, or a function with well named arguments, that could have been more easily detected than a hidden formula in a spreadsheet."
   ]
  },
  {
   "cell_type": "markdown",
   "metadata": {},
   "source": [
    "### Examples with relatable impact\n",
    "\n",
    "Let's talk about some of these by sharing data-related workflows from the trenches: \n",
    "\n",
    "#### Part 1:\n",
    "\n",
    "1. Think and write down a non-reproducible, or non-auditable, workflow \n",
    "you have used before at work, on a personal project, or in course work, \n",
    "that negatively impacted your work somehow \n",
    "(make sure to include this in the story).\n",
    "\n",
    "    *As a Masters student, I started to use R to do my statistical analysis. I obtained the results I needed from running my code in the R console and copying the results into the word document that was my manuscript. Six months later we were working on revisions requested by the reviewers and I could not remember which version of the code I ran to get my results. I eventually figured it out through much trial and error, but the process was inefficient and very stressful.*\n",
    "    \n",
    "    *--Tiffany Timbers*\n",
    "\n",
    "2. When prompted, paste your story in the Google doc (link to be shared in class)\n",
    "\n",
    "\n",
    "#### Part 2:\n",
    "\n",
    "Follow the instructions below \n",
    "for each story share in the class stories from the trenches Google document.\n",
    "\n",
    "- Read the story and reflect on which of the themes listed below \n",
    "was likely the biggest cause of the reproducibility \n",
    "or transparency failure described in the story. \n",
    "\n",
    "- Label the story with the emoji \n",
    "corresponding to the chosen theme from the table below:\n",
    "\n",
    "| Reproducibility and transparency themes | Emoji label |\n",
    "|-----------------------------------------|-------------|\n",
    "| Code                                    | ⌨️ (keyboard) |\n",
    "| Computational environments              | 💻 (laptop)  |\n",
    "| Software design                         | 💾 (floppy disk) |\n",
    "| Data analysis pipeline                  | ➡️ (right arrow) |\n",
    "| Documentation                           | 📄 (page facing up)\n",
    "| Project organization                    | 🗃 (card file box)|\n",
    "| Randomness                              | 🎲 (game die) |\n",
    "| Version control                         | 📜 (scroll) |\n",
    "\n",
    "#### Part 3:\n",
    "\n",
    "Follow the instructions below \n",
    "for each story share in the class stories from the trenches Google document.\n",
    "\n",
    "- Re-read the story and reflect on what the primary cost was \n",
    "from the reproducibility or transparency failure described in the story. \n",
    "\n",
    "- Label the story with the emoji \n",
    "corresponding to the chosen cost from the table below:\n",
    "\n",
    "| Reproducibility and transparency failure cost | Emoji label |\n",
    "|-----------------------------------------------|-------------|\n",
    "| Financial                                     | 💸 (money with wings) |\n",
    "| Reputational                                  | 🎖 (military medal)  |\n",
    "| Time                                          | 🕰 (mantelpiece clock) |\n",
    "| Unfixable error                               | 💥 (collision) |\n",
    "| Work discarded.                               | 🗑️(wastebasket)|\n"
   ]
  },
  {
   "cell_type": "markdown",
   "metadata": {
    "slideshow": {
     "slide_type": "skip"
    }
   },
   "source": [
    "*Source: http://www.bonkersworld.net/building-software/*"
   ]
  },
  {
   "cell_type": "markdown",
   "metadata": {},
   "source": [
    "## Wrap up\n",
    "\n",
    "- We define data science as *the study, development and practice of __reproducible and auditable processes__ to obtain __insight from data.__*\n",
    "\n",
    "- Both bolded parts of the definition are important! This course will primarily focus on the first part, but you will get the opportunity to practice the second part in your group projects for this course.\n",
    "\n",
    "- Many ways a data analysis can be untrustworthy... just because a data analysis is reproducible and auditable, doesn't mean it is fully trustworthy. But a data analysis is not trustworthy if it cannot be reproduced or studied...\n"
   ]
  },
  {
   "cell_type": "markdown",
   "metadata": {
    "slideshow": {
     "slide_type": "slide"
    }
   },
   "source": [
    "### What's next?\n",
    "\n",
    "- Version control for transparency and collaboration!"
   ]
  }
 ],
 "metadata": {
  "anaconda-cloud": {},
  "celltoolbar": "Slideshow",
  "kernelspec": {
   "display_name": "Python 3 (ipykernel)",
   "language": "python",
   "name": "python3"
  },
  "language_info": {
   "codemirror_mode": {
    "name": "ipython",
    "version": 3
   },
   "file_extension": ".py",
   "mimetype": "text/x-python",
   "name": "python",
   "nbconvert_exporter": "python",
   "pygments_lexer": "ipython3",
   "version": "3.11.6"
  }
 },
 "nbformat": 4,
 "nbformat_minor": 4
}
