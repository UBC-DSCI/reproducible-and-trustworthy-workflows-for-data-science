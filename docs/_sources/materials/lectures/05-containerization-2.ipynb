{
 "cells": [
  {
   "cell_type": "markdown",
   "metadata": {
    "Collapsed": "false",
    "slideshow": {
     "slide_type": "slide"
    }
   },
   "source": [
    "# Using and running containers"
   ]
  },
  {
   "cell_type": "markdown",
   "metadata": {
    "Collapsed": "false",
    "slideshow": {
     "slide_type": "fragment"
    }
   },
   "source": [
    "## Topic learning objectives\n",
    "\n",
    "By the end of this topic, students should be able to:\n",
    "\n",
    "1. Use the containerization software (e.g., Docker command line and Docker compose) to run the software needed for your\n",
    "analysis\n",
    "2. Use port mapping with the containerization software to run web apps to access IDEs (e.g., Jupyter, RStudio, VSCode)\n",
    "3. Use volume mounting with the containerization software to allow the container access to local host files (e.g., analysis code and data files)\n"
   ]
  },
  {
   "cell_type": "markdown",
   "metadata": {},
   "source": [
    "## Launching containers using Docker at the command line\n",
    "\n",
    "Docker has many ways we can run containers (GUI, command line, Docker compose configuration files). Here we will learn how to use the command line interface for running container instances from container images. We will then build on this knowledge to move to using Docker compose configuration files for increased efficiency. We are opting to use command line and configuaration file tools so that we can automate and scale the running of containers. It is also more reproducible. \n",
    "\n",
    "Below we demonstrate how to launch and run containers using the [`continuumio/miniconda3` image](https://hub.docker.com/r/continuumio/miniconda3) as an example. We will slowly walk through the 4 basic steps need to run a container:"
   ]
  },
  {
   "cell_type": "markdown",
   "metadata": {
    "Collapsed": "false",
    "slideshow": {
     "slide_type": "slide"
    }
   },
   "source": [
    "#### Step 1 - launch the Docker app (for OSX & Windows only)\n",
    "\n",
    "On Mac and Windows, Docker runs in a virtual machine (called Docker Desktop). To run a Docker container, you must have this running. To do this, use launchpad/Finder/Start menu/etc to find and launch Docker Desktop.\n",
    "\n",
    "> Note: Docker might already be running, if so great, but if its not, the commands below will not work. So it is always good to check!"
   ]
  },
  {
   "cell_type": "markdown",
   "metadata": {
    "Collapsed": "false",
    "slideshow": {
     "slide_type": "slide"
    }
   },
   "source": [
    "#### Step 2 - get container image from Docker Hub\n",
    "\n",
    "To run a container instance, you need to have a container image locally. One way to get a container image locally is to pull (i.e., download) one from a container registry like Docker Hub. To do this we use the `docker pull <CONTAINER>` command. You will commonly see the container to pull written as: `container_registry/container_user/container_image:container_image_version_tag`. \n",
    "\n",
    "If you only see `container_user/container_image:container_image_version_tag` Docker will assume you are using Docker Hub as the container registry (this is the default). Sometimes the `container_image_version_tag` is ommitted, when this happens the most recent container is pulled, and has the version tag `latest`. In data analysis projects we try to avoid using this strategy because Docker is lazy and if you already have the `latest` version on your local host machine, it will not update it when you re-run `docker pull container_user/container_image` even if there is a newer version of the container image on the remote container registry.\n",
    "\n",
    "We will now pull the `miniconda3` docker image, container image verion `23.9.0-0`, made and shared by `continuumio`, and hosted on Docker Hub by runnig the following in the terminal:\n",
    "\n",
    "```\n",
    "docker pull continuumio/miniconda3:23.9.0-0\n",
    "```\n",
    "\n",
    "We can verify that it successfully pulled by typing: `docker images`. When you do that, you should see something like:\n",
    "\n",
    "```\n",
    "REPOSITORY                 TAG       IMAGE ID       CREATED         SIZE\n",
    "continuumio/miniconda3     23.9.0-0  55e8b7e3206b   3 weeks ago    457MB\n",
    "```\n",
    "\n",
    "> Note 1: You can skip this step and just got onto `docker run ...` as that command will pull the image if you do not have it locally.\n",
    ">\n",
    "> Note 2: If you ever need to delete a container image from your computer, you can run `docker rmi <IMAGE_ID>` to do so."
   ]
  },
  {
   "cell_type": "markdown",
   "metadata": {
    "Collapsed": "false",
    "slideshow": {
     "slide_type": "slide"
    }
   },
   "source": [
    "#### Step 3 - launch a container from the image and poke around!\n",
    "\n",
    "We use `docker run` to launch a container instance from a container image. By default the container instance will execute it's programmed launch behaviour and immediately stop. Thus, if we want to use the container in a more interactive way, we need to tell Docker that by adding the `-it` flag to our `docker run` command.\n",
    "\n",
    "```\n",
    "docker run -it continuumio/miniconda3:23.9.0-0`\n",
    "```\n",
    "  \n",
    "If it worked, then your command line prompt should now look something like this:\n",
    "\n",
    "```\n",
    "root@5d8e6fff1b12:/# \n",
    "```\n",
    "You can standard bash shell commands like `ls`, `cd`, `pwd` to explore the container. You can type `exit` to leave when you are done (your prompt will look normal again)!"
   ]
  },
  {
   "cell_type": "markdown",
   "metadata": {
    "Collapsed": "false",
    "slideshow": {
     "slide_type": "slide"
    }
   },
   "source": [
    "#### Step 4 - clean up your container!\n",
    "\n",
    "After you close a container it still \"hangs\" around... It has stopped running but the container instance still exists in memory (reminder - you can view any existing containers using `docker ps -a`). You can remove the container by typing `docker rm <container_id>`. After you remove the container you can prove to yourself that the container is no longer \"hanging around\" via `docker ps -a`, but that you still have the image installed (which you can see via `docker images`).\n",
    "\n",
    "> Note: to remove running containers, you will need to first stop them via `docker stop <container_id>`"
   ]
  },
  {
   "cell_type": "markdown",
   "metadata": {
    "Collapsed": "false",
    "slideshow": {
     "slide_type": "slide"
    }
   },
   "source": [
    "#### That's a lot of work...\n",
    "\n",
    "We walked through those steps slowly to that you understand how everything is working. It is not the most efficient way to work with Docker container instances however when using `docker run`. What we typically do is tell Docker to delete the container upon exit using the `--rm` flag in the run command.\n",
    "\n",
    "The command below runs a new container instance from the same image. This one command is equivalent to steps 2-4 above!\n",
    "\n",
    "```\n",
    "docker run \\\n",
    "    --rm \\\n",
    "    --it \\\n",
    "    continuumio/miniconda3:23.9.0-0\n",
    "```\n",
    "\n",
    "> *Note: we are using `\\` above to split a bash command across lines to make it more readable. You will see that throughout this chapter.*"
   ]
  },
  {
   "cell_type": "markdown",
   "metadata": {
    "slideshow": {
     "slide_type": "slide"
    }
   },
   "source": [
    "### Mounting volumes to containers\n",
    "\n",
    "Often times we want to use the software made available to us in containers on files on our computers. \n",
    "To do this, we need to explicitly tell Docker to mount a volume to the container. \n",
    "We can do this via: `-v <path_to_computer_directory>:<absolute_path_to_container_directory>`\n",
    "\n",
    "Often, we want to mount the volume from our current directory (where we are working) and we can do that with a short-form of `/$(pwd)` in place of the path to our computer's directory.\n",
    "\n",
    "To mount our current directory to a container from the `continuumio/miniconda3` image we type the following on your laptop:\n",
    "\n",
    "```\n",
    "docker run \\\n",
    "    --rm \\\n",
    "    -it \\\n",
    "    -v /$(pwd):/home/my_mounted_volume \\\n",
    "    continuumio/miniconda3\n",
    "```\n",
    "\n",
    "Navigate to the directory where you mounted your files via: `cd /home/my_mounted_volume` and type `ls` to ensure you can see them.\n",
    "\n",
    "> Note: if you are mounting volumes to a container from a Docker image that runs a web app, be sure to read the documentation to see where you should mount that volume. Usually the web apps are only exposed to certain directories and you will only be able to access the files in the mounted volume if you mount them to the correct place. For example, in the `rocker/rstudio` image that we loaded earlier, volumes need to be mounted within `/home/rstudio/` to be able to access them via the RStudio server web app.\n",
    "\n",
    "#### Windows notes for mounting volumes:\n",
    "- Windows machines need to explicitly share drives with Docker - this should be part of your computer setup!\n",
    "- On Windows, the laptop path depends what shell you are using, here are some details:\n",
    "    - If you are going to run it in Windows terminal, then the command should be: `docker run --rm -it -v /$(pwd):<PATH_ON_CONTAINER> <IMAGE_NAME>` to share the current directory.\n",
    "    - If you are going to run it in Power Shell, then the command should be: `docker run --rm -it -v <ABSOLUTE_PATH_ON_YOUR_COMPUTER>:<PATH_ON_CONTAINER> <IMAGE_NAME>` (`pwd` and variants do not seem to work). And the path must be formatted like: `C:\\Users\\tiffany.timbers\\Documents\\project\\:/home/project`"
   ]
  },
  {
   "cell_type": "markdown",
   "metadata": {},
   "source": [
    "### Mapping ports to containers with web apps\n",
    "\n",
    "[Docker documentation on Container networking](https://docs.docker.com/config/containers/container-networking/)\n",
    "\n",
    "If we want to use a graphical user interface (GUI) with our containers, for example to be able to use the computational environment in the container in an integrated development environment (IDE) such as RStudio or JupyterLab, then we need to map the correct port from the container to a port on our computer. \n",
    "\n",
    "> Note: In computer science, ports are points where network connections start and end. They can be physical (e.g., USB ports, Ethernet ports, etc) or virtual. In the case of virtual ports, they are really a software-based addressing mechanism that identifies points to connect specific processes or types of network services. When we are discussing ports in the context of containerization, we are referring to virtual ports.\n",
    "\n",
    "To do this, we use the `-p` flag with `docker run`, specifying the port in the host (your computer) on the left-hand side, and the port on the container/Docker host on the right-hand side of `:`. For example, to run the `rocker/rstudio` container image we would type `-p 8787:8787` to map the ports as shown in the `docker run` command below:\n",
    "\n",
    "\n",
    "```\n",
    "docker run \\\n",
    "    --rm \\\n",
    "    -p 8787:8787 \\\n",
    "    -e PASSWORD=\"apassword\" \\\n",
    "    rocker/rstudio:4.3.2\n",
    "```\n",
    "\n",
    "Then to access the web app, we need to navigate a browser url to `http://localhost:<CONTAINER_PORT>`. In this case we would navigate to <http://localhost:8787> to use the RStudio server web app from the container.\n",
    "\n",
    "Note that we can only map one port on our computer (the container/Docker host) to a container at any given time. However,\n",
    "our computer (the container/Docker host) has many ports we can choose from to map. So if we wanted to run a second `rocker/rstudio` container, then we could map it to a different port as shown below:\n",
    "\n",
    "```\n",
    "docker run \\\n",
    "    --rm \\\n",
    "    -p 8788:8787 \\\n",
    "    -e PASSWORD=\"apassword\" \\\n",
    "    rocker/rstudio:4.3.2\n",
    "```\n",
    "\n",
    "When we do this, to run the app in a browser on our computer, we need to go to <http://localhost:8788> (instead of <http://localhost:8787>) to access this container as we mapped it to the `8788` port on our computer (and not `8787`).\n",
    "\n",
    "\n",
    "Another important note is that the container port is specific to the container, and the web app installed therein. So we cannot change that without changing the container image, and/or application installed therein. Where do you learn what port is exposed in a container image? The image documentation should specify this. For example, in the [`rocker/rstudio` container image documentation](https://hub.docker.com/r/rocker/rstudio) it states:\n",
    "\n",
    "<img src=\"img/rocker-rstudio-port-docs.png\" width=600>\n",
    "\n",
    "*Source: <https://hub.docker.com/r/rocker/rstudio>*"
   ]
  },
  {
   "cell_type": "markdown",
   "metadata": {},
   "source": [
    "### Specifying the image architecture/platform\n",
    "\n",
    "Newer M1 and M2 Macs use a new processor chip, called ARM,\n",
    "that is a different architecture compared to the previous\n",
    "Macs, and current Windows and Linux machines (which use Intel Processors).\n",
    "Given that containerization software virtualizes\n",
    "at the level of the operating system user space,\n",
    "these different architectures lead to building containers with different architectures.\n",
    "\n",
    "Also given that Newer M1 and M2 Macs are still the minority of computers \n",
    "in use, it is a better practice to work with container architectures that \n",
    "work for the majority of in use computers, which are those that have Intel Processors.\n",
    "To tell Docker to do this, \n",
    "we add the `--platform=linux/amd64` argument to our Docker `run` and `build` \n",
    "commands. \n",
    "\n",
    "To make this process even smoother and less error prone,\n",
    "we should also set our Docker Desktop \n",
    "to use Rosetta 2 x86/AMD64 emulation on M1/M2 Macs .\n",
    "To use this, you must:\n",
    "- make sure Rosetta 2 is installed on your Mac (instructions to install it [here](https://support.apple.com/en-ca/HT211861))\n",
    "- Select \"Use Virtualization framework\" and \"Use Rosetta for x86/amd64 emulation on Apple Silicon\" in the General settings tab of Docker Desktop.\n",
    "\n",
    "*Note 1: In computer science, emulation works to let you run run software and execute programs originally designed one computer system on another computer system. Emulation is similar to virtualization in concept, but differs from it in that it focuses on enabling software designed for entirely different architectures to be executed.*\n",
    "\n",
    "*Note 2: You must also be using macOS Ventura or later to use this feature.*\n",
    "\n",
    "*Note 3: You will still need to use the `--platform linux/amd64` command when building or running images even when using Rosetta 2 emulation, because your computer can run and build both `linux/arm64` and `linux/amd64` images. So you have to be clear which architecture you want to work with.*"
   ]
  },
  {
   "cell_type": "markdown",
   "metadata": {},
   "source": [
    "### Changing the containers default command\n",
    "\n",
    "When we launch containers, they execute the command at runtime \n",
    "that was specified in their `Dockerfile`.\n",
    "For example, in the case of the Rocker and Juypter images,\n",
    "this default behaviour is to run a web app.\n",
    "Sometimes the default container behaviour is not what we want to do.\n",
    "Instead we want to do something different,\n",
    "like run the container as a Bash shell to test out some installation commands\n",
    "(common when we are building and customizing our own containers)\n",
    "or using the container to run a script non-interactively \n",
    "(like executing a data analysis pipeline from beginning to end).\n",
    "\n",
    "To do this, we can append a new command to the end of our `docker run` commands.\n",
    "For example to open the `rocker/rstudio:4.3.2` image in an interactive bash shell,\n",
    "we would run:\n",
    "\n",
    "```\n",
    "docker run \\\n",
    "    --rm \\\n",
    "    -it \\\n",
    "    rocker/rstudio:4.3.2 \\\n",
    "    bash\n",
    "```\n",
    "\n",
    "Notice the command above does not specify the ports,\n",
    "nor does it set the password.\n",
    "This is because in this instance, \n",
    "we are not using this container to run it as a web app,\n",
    "we are just running it as a bash shell (which needs no ports, \n",
    "nor authentication)."
   ]
  },
  {
   "cell_type": "markdown",
   "metadata": {},
   "source": [
    "The general form for for running things non-interactively is this:\n",
    "\n",
    "```\n",
    "docker run \\\n",
    "    --rm \\\n",
    "    -v PATH_ON_YOUR_COMPUTER:VOLUME_ON_CONTAINER DOCKER_IMAGE PROGRAM_TO_RUN \\\n",
    "    PROGRAM_ARGUMENTS\n",
    "```\n",
    "\n",
    "What of instead running the container insteractively, we wanted to run a script? \n",
    "Let's take this R script, named `snowman.R`, shown below, \n",
    "which uses the `cowsay::say` function to print some asci art with a cute message! \n",
    "\n",
    "```\n",
    "# snowman.R\n",
    "\n",
    "library(cowsay)\n",
    "\n",
    "say(\"Snow again this week?\", \"snowman\")\n",
    "```\n",
    "\n",
    "Assuming that script is in our current working directory,\n",
    "we can mount volumes and then run the script as follows:\n",
    "\n",
    "```\n",
    "$ docker run \\\n",
    "    --rm \\\n",
    "    -v /$(pwd):/home/rstudio \\\n",
    "    ttimbers/dockerfile-practice:v0.1.0 \\\n",
    "    Rscript /home/rstudio/snowman.R\n",
    "```\n",
    "\n",
    "Which should result in:\n",
    "\n",
    "```\n",
    "----- \n",
    "Snow again this week? \n",
    " ------ \n",
    "    \\   \n",
    "     \\\n",
    "     _[_]_\n",
    "      (\")\n",
    "  >--( : )--<\n",
    "    (__:__) [nosig]\n",
    "```  \n",
    "\n",
    "Now that was a silly example, but this can be made powerful so that we can run an analysis pipeline, such as a `Makefile` non-interactively using Docker! \n",
    "\n",
    "Let's do this exercise to demonstrate:\n",
    "\n",
    "1. Clone this GitHub repository: <https://github.com/ttimbers/breast_cancer_predictor_py>\n",
    "\n",
    "2. Navigate into the root of the `breast_cancer_predictor_py` project on your computer using the command line and enter the following command to reset the project to a clean state (i.e., remove all files generated by previous runs of the analysis): \n",
    "\n",
    "```\n",
    "docker run \\\n",
    "    --rm \\\n",
    "    -v .:/home/jovyan \\\n",
    "    ttimbers/breast_cancer_predictor_py:d285fc9 \\\n",
    "    make clean\n",
    "```\n",
    "\n",
    "3. To run the analysis in its entirety, enter the following command in the terminal in the project root:\n",
    "\n",
    "```\n",
    "docker run \\\n",
    "    --rm \\\n",
    "    -v .:/home/jovyan \\\n",
    "    ttimbers/breast_cancer_predictor_py:d285fc9 \\\n",
    "    make all\n",
    "```\n",
    "\n",
    "Note: If you are on a M1/M2 Mac, don't forget to include `--platform=linux/amd64` in your run command."
   ]
  },
  {
   "cell_type": "markdown",
   "metadata": {
    "Collapsed": "false",
    "slideshow": {
     "slide_type": "slide"
    }
   },
   "source": [
    "## Docker command line commands\n",
    "\n",
    "The table below summarizes the Docker commands we have learned so far and can serve as a useful reference when we are using Docker:\n",
    "\n",
    "### Docker commands \n",
    "\n",
    "| command/flag | What it does          | \n",
    "|--------------|-----------------------|\n",
    "| `pull`       | Downloads a Docker image from Docker Hub |\n",
    "| `images`     | Tells you what container images are installed on your machine |\n",
    "| `rmi`        | Deletes a specified container image from your machine |\n",
    "| `ps -a`      | Tells you what containers are running on your machine |\n",
    "| `stop`       | Stops a specified running container |\n",
    "| `rm`         | Removes a specified stopped container |\n",
    "| `run`        | Launches a container from an image |\n",
    "| `exit`       | Exits a Docker container|\n",
    "\n",
    "### Docker `run` commands \n",
    "\n",
    "| command/flag | What it does          | \n",
    "|--------------|-----------------------|\n",
    "| `-it`        | Tells Docker to run the container interactively  |\n",
    "| `--rm`       | Makes a container ephemeral (deletes it upon exit)  |\n",
    "| `-v`         | Mounts a volume of your computer to the Docker container |\n",
    "| `-p`         | Specifies the ports to map a web app to |\n",
    "| `-e`         | Sets environment variables in the container (*e.g.*, PASSWORD=\"apassword\") |\n",
    "| `--platform` | Specifies the image architecture, commonly used on M1/M2 Macs to set it to `linux/amd64` |"
   ]
  },
  {
   "cell_type": "markdown",
   "metadata": {},
   "source": [
    "## Docker compose to launch containers\n",
    "\n",
    "It can be fiddly and error prone to type long commands into the terminal,\n",
    "or a GUI everytime you want to launch a container.\n",
    "A better approach is to use Docker compose \n",
    "to specify how you want to launch the container.\n",
    "\n",
    "Docker compose uses a YAML file, \n",
    "specifically named `docker-compose.yml`,\n",
    "to record how the container should be launched.\n",
    "This file can include details including:\n",
    "- the docker image and version to use\n",
    "- how to mount volumes\n",
    "- what ports to map\n",
    "- what environment variables to set.\n",
    "\n",
    "Here is an example of a `docker-compose.yml` file \n",
    "for use with the `rocker/rstudio` container image:\n",
    "\n",
    "```\n",
    "services:\n",
    "  analysis-env:\n",
    "    image: rocker/rstudio:4.3.2\n",
    "    ports:\n",
    "      - \"8787:8787\"\n",
    "    volumes:\n",
    "      - .:/home/rstudio/project\n",
    "    environment:\n",
    "      PASSWORD: password\n",
    "```\n",
    "\n",
    "To launch the container interactively using this file, \n",
    "you would type the `docker-compose` command shown below. \n",
    "\n",
    "```\n",
    "docker-compose up\n",
    "```\n",
    "\n",
    "If you are using a web app, as in the case of the \n",
    "`rocker/rstudio` or `jupyter/minimal-notebook` container images,\n",
    "you still need to manually navigate to the web app in your browser\n",
    "and enter the correct URL to access it.\n",
    "\n",
    "To stop and clean up the container, you would type `Cntrl + C` in the terminal where you launched the container, and then type \n",
    "\n",
    "```\n",
    "docker-compose rm\n",
    "```\n",
    "\n",
    "Let's take a look at an example `docker-compose.yml` being used in a project:\n",
    "- <https://github.com/ttimbers/breast_cancer_predictor_py>"
   ]
  },
  {
   "cell_type": "markdown",
   "metadata": {},
   "source": [
    "## Running a Docker container non-interactively using the Docker Compose\n",
    "\n",
    "We can also use Docker Compose to run containers non-interactively! \n",
    "We can do this by specifying that we want to `run` the container \n",
    "(instead of `up` to launch in interactively).\n",
    "We use the `--rm` flag with the `run` command to make the container ephemeral \n",
    "(delete it upon exit).\n",
    "Then we specify the name of the service from the `docker-compose.yml` file\n",
    "that we want to run \n",
    "(in our `docker-compose.yml` files so far we only have one service, \n",
    "the environment for running the analysis).\n",
    "And finally we add the command we want to run non-interactively \n",
    "using the container \n",
    "(in the example below we use `make` to run the data analysis pipeline script).\n",
    "\n",
    "```\n",
    "docker-compose run --rm analysis-env make all\n",
    "```"
   ]
  }
 ],
 "metadata": {
  "anaconda-cloud": {},
  "celltoolbar": "Slideshow",
  "kernelspec": {
   "display_name": "R",
   "language": "R",
   "name": "ir"
  },
  "language_info": {
   "codemirror_mode": "r",
   "file_extension": ".r",
   "mimetype": "text/x-r-source",
   "name": "R",
   "pygments_lexer": "r",
   "version": "4.3.2"
  }
 },
 "nbformat": 4,
 "nbformat_minor": 4
}
