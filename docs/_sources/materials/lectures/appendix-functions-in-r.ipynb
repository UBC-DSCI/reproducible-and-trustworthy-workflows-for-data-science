{
 "cells": [
  {
   "cell_type": "markdown",
   "id": "8d666414-56b6-4e00-accb-202e29b6de40",
   "metadata": {},
   "source": [
    "# Appendix - Defining functions\n",
    "\n",
    "## Defining functions in R:\n",
    "\n",
    "In this course, we will get to practice writing functions (and then testing them) in the R programming language. Given this has not been covered in the course pre-requisites, we will cover it here briefly. To learn more about functions in R, we refer you to the [functions chapter in the Advanced R book](https://adv-r.hadley.nz/functions.html).\n",
    "\n",
    "- Use `variable <- function(…arguments…) { …body… }` to create a function and give it a name\n",
    "\n",
    "Example:"
   ]
  },
  {
   "cell_type": "code",
   "execution_count": 2,
   "id": "4cfd6aec-a618-48d4-b4bc-f0b202fc553a",
   "metadata": {
    "slideshow": {
     "slide_type": "fragment"
    }
   },
   "outputs": [
    {
     "data": {
      "text/html": [
       "5"
      ],
      "text/latex": [
       "5"
      ],
      "text/markdown": [
       "5"
      ],
      "text/plain": [
       "[1] 5"
      ]
     },
     "metadata": {},
     "output_type": "display_data"
    }
   ],
   "source": [
    "add_two_numbers <- function(x, y) {\n",
    "  x + y\n",
    "}\n",
    "\n",
    "add_two_numbers(1, 4)"
   ]
  },
  {
   "cell_type": "markdown",
   "id": "95887806-9271-4d1a-8c88-8a0d235754cf",
   "metadata": {
    "slideshow": {
     "slide_type": "fragment"
    }
   },
   "source": [
    "- Functions in R are objects. This is referred to as “first-class functions”.\n",
    "- The last line of the function returns the object created, or listed there. To return a value early use the special word `return` (as shown below)."
   ]
  },
  {
   "cell_type": "code",
   "execution_count": 3,
   "id": "ef86623f-85ce-4ac3-82ed-74cfee50b94e",
   "metadata": {
    "slideshow": {
     "slide_type": "slide"
    }
   },
   "outputs": [],
   "source": [
    "math_two_numbers <- function(x, y, operation) {\n",
    "  if (operation == \"add\") {\n",
    "    return(x + y)\n",
    "  } \n",
    "  x - y\n",
    "}"
   ]
  },
  {
   "cell_type": "code",
   "execution_count": 4,
   "id": "b965e052-b6f5-4605-87bc-05cda55c699f",
   "metadata": {},
   "outputs": [
    {
     "data": {
      "text/html": [
       "5"
      ],
      "text/latex": [
       "5"
      ],
      "text/markdown": [
       "5"
      ],
      "text/plain": [
       "[1] 5"
      ]
     },
     "metadata": {},
     "output_type": "display_data"
    }
   ],
   "source": [
    "math_two_numbers (1, 4, \"add\")"
   ]
  },
  {
   "cell_type": "code",
   "execution_count": 5,
   "id": "7eea0c97-1a75-4340-8dfb-9e5ea41ecd3e",
   "metadata": {},
   "outputs": [
    {
     "data": {
      "text/html": [
       "-3"
      ],
      "text/latex": [
       "-3"
      ],
      "text/markdown": [
       "-3"
      ],
      "text/plain": [
       "[1] -3"
      ]
     },
     "metadata": {},
     "output_type": "display_data"
    }
   ],
   "source": [
    "math_two_numbers (1, 4, \"subtract\")"
   ]
  },
  {
   "cell_type": "markdown",
   "id": "f803a1f6-f938-4eef-b120-0f758e0a4ea2",
   "metadata": {
    "slideshow": {
     "slide_type": "slide"
    }
   },
   "source": [
    "### Default function arguments\n",
    "\n",
    "Default values can be specified in the function definition:"
   ]
  },
  {
   "cell_type": "code",
   "execution_count": 6,
   "id": "7c6a14ec-7491-4762-a4d9-d67bee3b33d4",
   "metadata": {
    "slideshow": {
     "slide_type": "fragment"
    }
   },
   "outputs": [],
   "source": [
    "math_two_numbers <- function(x, y, operation = \"add\") {\n",
    "  if (operation == \"add\") {\n",
    "    return(x + y)\n",
    "  } \n",
    "  x - y\n",
    "}"
   ]
  },
  {
   "cell_type": "code",
   "execution_count": 7,
   "id": "4f9b107c-36eb-4eb5-9956-2fa19ce6d918",
   "metadata": {},
   "outputs": [
    {
     "data": {
      "text/html": [
       "5"
      ],
      "text/latex": [
       "5"
      ],
      "text/markdown": [
       "5"
      ],
      "text/plain": [
       "[1] 5"
      ]
     },
     "metadata": {},
     "output_type": "display_data"
    }
   ],
   "source": [
    "math_two_numbers (1, 4)"
   ]
  },
  {
   "cell_type": "code",
   "execution_count": 8,
   "id": "f2208587-8463-45f1-901c-6043b5ad8b5a",
   "metadata": {},
   "outputs": [
    {
     "data": {
      "text/html": [
       "-3"
      ],
      "text/latex": [
       "-3"
      ],
      "text/markdown": [
       "-3"
      ],
      "text/plain": [
       "[1] -3"
      ]
     },
     "metadata": {},
     "output_type": "display_data"
    }
   ],
   "source": [
    "math_two_numbers (1, 4, \"subtract\")"
   ]
  },
  {
   "cell_type": "markdown",
   "id": "31970bbb-d6c9-4d05-92f5-1c149b6a3732",
   "metadata": {
    "slideshow": {
     "slide_type": "skip"
    }
   },
   "source": [
    "#### Optional - Advanced\n",
    "\n",
    "##### Extra arguments via `...`\n",
    "\n",
    "If we want our function to be able to take extra arguments that we don't specify, we must explicitly convert `...` to a list (otherwise `...` will just return the first object passed to `...`):"
   ]
  },
  {
   "cell_type": "code",
   "execution_count": 9,
   "id": "e304cf08-371b-4809-892d-ac2eeefd11a3",
   "metadata": {
    "slideshow": {
     "slide_type": "skip"
    }
   },
   "outputs": [
    {
     "name": "stdout",
     "output_type": "stream",
     "text": [
      "[[1]]\n",
      "[1] 5\n",
      "\n",
      "[[2]]\n",
      "[1] 6\n",
      "\n"
     ]
    }
   ],
   "source": [
    "add <- function(x, y, ...) {\n",
    "    print(list(...))\n",
    "}\n",
    "add(1, 3, 5, 6)"
   ]
  },
  {
   "cell_type": "markdown",
   "id": "ce88da79-a43a-4739-ad11-4b8f5f4b5164",
   "metadata": {
    "slideshow": {
     "slide_type": "slide"
    }
   },
   "source": [
    "### Lexical scoping in R\n",
    "\n",
    "R’s lexical scoping follows several rules, we will cover the following 3:\n",
    "\n",
    "- Name masking\n",
    "- Dynamic lookup\n",
    "- A fresh start"
   ]
  },
  {
   "cell_type": "markdown",
   "id": "8d7db48e-6af5-484c-a8e1-9d27ab18984f",
   "metadata": {
    "slideshow": {
     "slide_type": "slide"
    }
   },
   "source": [
    "#### Name masking\n",
    "\n",
    "Object names which are defined inside a function mask object names defined outside of that function. For example, below `x` is first defined in the global environment, and then also defined in the function environment. `x` in the function environment masks `x` in the global environment, so the value of 5 is used in `to_add + x` instead of 10:"
   ]
  },
  {
   "cell_type": "code",
   "execution_count": 10,
   "id": "cdeca3d7-a468-4d4e-90d4-21a2c7a32900",
   "metadata": {
    "slideshow": {
     "slide_type": "fragment"
    }
   },
   "outputs": [
    {
     "data": {
      "text/html": [
       "7"
      ],
      "text/latex": [
       "7"
      ],
      "text/markdown": [
       "7"
      ],
      "text/plain": [
       "[1] 7"
      ]
     },
     "metadata": {},
     "output_type": "display_data"
    }
   ],
   "source": [
    "x <- 10\n",
    "\n",
    "add_to_x <- function(to_add) {\n",
    "    x <- 5\n",
    "    to_add + x\n",
    "}\n",
    "\n",
    "add_to_x(2)"
   ]
  },
  {
   "cell_type": "markdown",
   "id": "572897bd-ee5c-4303-bf21-f058360b935d",
   "metadata": {},
   "source": [
    "If a function refers to an object name that is not defined inside the function, then R looks at the environment one level above. And if it is not found there, it again, looks another level above. This will happen all the way up the environment tree until it searches all possible environments for that session (including the global environment and loaded packages).\n",
    "\n",
    "<img src=\"img/env-lookup.png\" width=600>\n",
    "\n",
    "*__Attribution__: Derived from [Advanced R](https://adv-r.hadley.nz/) by Hadley Wickham*"
   ]
  },
  {
   "cell_type": "markdown",
   "id": "23190039-89f9-44e1-a9d1-af9acd0f7da8",
   "metadata": {},
   "source": [
    "Here `x` is not defined in the function environment, and so R then looks one-level up to the global environment to try to find `x`. In this case it does and it is then used to calculate `to_add + x`:"
   ]
  },
  {
   "cell_type": "code",
   "execution_count": 11,
   "id": "e7f46dcf-fe1d-41b6-b7cf-b1477216f8a9",
   "metadata": {},
   "outputs": [
    {
     "data": {
      "text/html": [
       "12"
      ],
      "text/latex": [
       "12"
      ],
      "text/markdown": [
       "12"
      ],
      "text/plain": [
       "[1] 12"
      ]
     },
     "metadata": {},
     "output_type": "display_data"
    }
   ],
   "source": [
    "x <- 10\n",
    "\n",
    "add_to_x <- function(to_add) {\n",
    "    to_add + x\n",
    "}\n",
    "\n",
    "add_to_x(2)"
   ]
  },
  {
   "cell_type": "markdown",
   "id": "5092b1ef-5253-4e3e-918c-49c9fa333824",
   "metadata": {
    "slideshow": {
     "slide_type": "slide"
    }
   },
   "source": [
    "#### Dynamic lookup\n",
    "\n",
    "R does not look up the values for objects it references when it is defined/created, instead it does this when the function is called. This can lead to the function returning different things depending on the values of the objects it references outside of the function's environment. \n",
    "\n",
    "For example, each time the function `add_to_x` is run, R looks up the current value of `x` and uses that to compute `to_add + x`:"
   ]
  },
  {
   "cell_type": "code",
   "execution_count": 12,
   "id": "b86afe28-a21c-434e-b789-beb6f77225d6",
   "metadata": {
    "slideshow": {
     "slide_type": "fragment"
    }
   },
   "outputs": [
    {
     "data": {
      "text/html": [
       "12"
      ],
      "text/latex": [
       "12"
      ],
      "text/markdown": [
       "12"
      ],
      "text/plain": [
       "[1] 12"
      ]
     },
     "metadata": {},
     "output_type": "display_data"
    },
    {
     "data": {
      "text/html": [
       "22"
      ],
      "text/latex": [
       "22"
      ],
      "text/markdown": [
       "22"
      ],
      "text/plain": [
       "[1] 22"
      ]
     },
     "metadata": {},
     "output_type": "display_data"
    }
   ],
   "source": [
    "add_to_x <- function(to_add) {\n",
    "    to_add + x\n",
    "}\n",
    "\n",
    "x <- 10\n",
    "add_to_x(2)\n",
    "\n",
    "x <- 20\n",
    "add_to_x(2)"
   ]
  },
  {
   "cell_type": "markdown",
   "id": "9c02ec80-502b-4fe2-809f-130a972322e7",
   "metadata": {
    "slideshow": {
     "slide_type": "slide"
    }
   },
   "source": [
    "#### A fresh start\n",
    "\n",
    "Functions in R have no memory of what happened the last time they were called. This happens because a new function environment is created, R created a new environment in which to execute it. \n",
    "\n",
    "For example, even though we update the value of `x` inside the function by adding two to it every time we execute it, it returns the same value each time, because R creates a new function environment each time we run it and that environment has no recollection of what happened the last time the function was run:"
   ]
  },
  {
   "cell_type": "code",
   "execution_count": 13,
   "id": "e75133ef-4af1-4e04-beff-32348a083678",
   "metadata": {
    "slideshow": {
     "slide_type": "fragment"
    }
   },
   "outputs": [
    {
     "data": {
      "text/html": [
       "12"
      ],
      "text/latex": [
       "12"
      ],
      "text/markdown": [
       "12"
      ],
      "text/plain": [
       "[1] 12"
      ]
     },
     "metadata": {},
     "output_type": "display_data"
    },
    {
     "data": {
      "text/html": [
       "12"
      ],
      "text/latex": [
       "12"
      ],
      "text/markdown": [
       "12"
      ],
      "text/plain": [
       "[1] 12"
      ]
     },
     "metadata": {},
     "output_type": "display_data"
    },
    {
     "data": {
      "text/html": [
       "12"
      ],
      "text/latex": [
       "12"
      ],
      "text/markdown": [
       "12"
      ],
      "text/plain": [
       "[1] 12"
      ]
     },
     "metadata": {},
     "output_type": "display_data"
    }
   ],
   "source": [
    "x <- 10\n",
    "\n",
    "add_to_x <- function(to_add) {\n",
    "    x <- to_add + x\n",
    "    x\n",
    "}\n",
    "\n",
    "add_to_x(2)\n",
    "add_to_x(2)\n",
    "add_to_x(2)"
   ]
  },
  {
   "cell_type": "markdown",
   "id": "3e51a01d-2b73-4594-9968-172d9875c10e",
   "metadata": {
    "slideshow": {
     "slide_type": "slide"
    }
   },
   "source": [
    "### Lazy evaluation\n",
    "\n",
    "In R, function arguments are lazily evaluated: they’re only evaluated if accessed.\n",
    "\n"
   ]
  },
  {
   "cell_type": "markdown",
   "id": "8553b952-096e-407d-82a5-c6a3fdb1f2e0",
   "metadata": {
    "slideshow": {
     "slide_type": "slide"
    }
   },
   "source": [
    "Knowing that, now consider the `add_one` function written in both R and Python below:\n",
    "\n",
    "```\n",
    "# R code (this would work)\n",
    "add_one <- function(x, y) {\n",
    "    x <- x + 1\n",
    "    return(x)\n",
    "} \n",
    "```\n",
    "\n",
    "```\n",
    "# Python code (this would not work)\n",
    "def add_one(x, y):\n",
    "    x = x + 1\n",
    "    return x\n",
    "```"
   ]
  },
  {
   "cell_type": "markdown",
   "id": "1c121da1-2627-4b0b-a746-3c075532882b",
   "metadata": {
    "slideshow": {
     "slide_type": "notes"
    }
   },
   "source": [
    "Why will the above `add_one` function will work in R, but the equivalent version of the function in python would break?\n",
    "\n",
    "- Python evaluates the function arguments before it evaluates the function and because it doesn't know what `y` is, it will break even though it is not used in the function.\n",
    "- R performs lazy evaluation, meaning it delays the evaluation of the function arguments until its value is needed within/inside the function. Since `y` is never referenced inside the function, R doesn't complain, or even notice it.\n"
   ]
  },
  {
   "cell_type": "markdown",
   "id": "ab1c795f-c1e7-4c20-ad03-7f77a4b46585",
   "metadata": {},
   "source": [
    "#### `add_one` in R\n",
    "\n",
    "```\n",
    "add_one <- function(x, y) {\n",
    "    x <- x + 1\n",
    "    return(x)\n",
    "} \n",
    "```\n",
    "\n",
    "This works: \n",
    "\n",
    "\n",
    "```\n",
    "add_one(2, 1)\n",
    "```\n",
    "\n",
    "```\n",
    "3\n",
    "```\n",
    "\n",
    "and so does this:\n",
    "\n",
    "\n",
    "```\n",
    "add_one(2)\n",
    "```\n",
    "\n",
    "```\n",
    "3\n",
    "```"
   ]
  },
  {
   "cell_type": "markdown",
   "id": "1cbf5fa7-2c30-438b-83af-0e7bdfdd243d",
   "metadata": {},
   "source": [
    "#### `add_one` in Python\n",
    "\n",
    "```\n",
    "def add_one(x, y):\n",
    "    x = x + 1\n",
    "    return x`\n",
    "```\n",
    "\n",
    "This works: \n",
    "\n",
    "\n",
    "```\n",
    "add_one(2, 1)\n",
    "```\n",
    "\n",
    "```\n",
    "3\n",
    "```\n",
    "\n",
    "This does not:\n",
    "\n",
    "\n",
    "```\n",
    "add_one(2)\n",
    "```\n",
    "\n",
    "```\n",
    "---------------------------------------------------------------------------\n",
    "TypeError                                 Traceback (most recent call last)\n",
    "<ipython-input-5-f2e542671748> in <module>\n",
    "----> 1 add_one(2)\n",
    "\n",
    "TypeError: add_one() missing 1 required positional argument: 'y'\n",
    "```"
   ]
  },
  {
   "cell_type": "markdown",
   "id": "e070ee27-dbb7-49df-8066-bebd255f1782",
   "metadata": {
    "slideshow": {
     "slide_type": "slide"
    }
   },
   "source": [
    "#### The power of lazy evaluation\n",
    "\n",
    "Let's you have easy to use interactive code like this:"
   ]
  },
  {
   "cell_type": "code",
   "execution_count": 14,
   "id": "88394e8c-164a-43bd-afe6-daae359d2784",
   "metadata": {
    "slideshow": {
     "slide_type": "fragment"
    }
   },
   "outputs": [
    {
     "data": {
      "text/html": [
       "<table class=\"dataframe\">\n",
       "<caption>A data.frame: 32 × 4</caption>\n",
       "<thead>\n",
       "\t<tr><th></th><th scope=col>mpg</th><th scope=col>cyl</th><th scope=col>hp</th><th scope=col>qsec</th></tr>\n",
       "\t<tr><th></th><th scope=col>&lt;dbl&gt;</th><th scope=col>&lt;dbl&gt;</th><th scope=col>&lt;dbl&gt;</th><th scope=col>&lt;dbl&gt;</th></tr>\n",
       "</thead>\n",
       "<tbody>\n",
       "\t<tr><th scope=row>Mazda RX4</th><td>21.0</td><td>6</td><td>110</td><td>16.46</td></tr>\n",
       "\t<tr><th scope=row>Mazda RX4 Wag</th><td>21.0</td><td>6</td><td>110</td><td>17.02</td></tr>\n",
       "\t<tr><th scope=row>Datsun 710</th><td>22.8</td><td>4</td><td> 93</td><td>18.61</td></tr>\n",
       "\t<tr><th scope=row>Hornet 4 Drive</th><td>21.4</td><td>6</td><td>110</td><td>19.44</td></tr>\n",
       "\t<tr><th scope=row>Hornet Sportabout</th><td>18.7</td><td>8</td><td>175</td><td>17.02</td></tr>\n",
       "\t<tr><th scope=row>⋮</th><td>⋮</td><td>⋮</td><td>⋮</td><td>⋮</td></tr>\n",
       "\t<tr><th scope=row>Lotus Europa</th><td>30.4</td><td>4</td><td>113</td><td>16.9</td></tr>\n",
       "\t<tr><th scope=row>Ford Pantera L</th><td>15.8</td><td>8</td><td>264</td><td>14.5</td></tr>\n",
       "\t<tr><th scope=row>Ferrari Dino</th><td>19.7</td><td>6</td><td>175</td><td>15.5</td></tr>\n",
       "\t<tr><th scope=row>Maserati Bora</th><td>15.0</td><td>8</td><td>335</td><td>14.6</td></tr>\n",
       "\t<tr><th scope=row>Volvo 142E</th><td>21.4</td><td>4</td><td>109</td><td>18.6</td></tr>\n",
       "</tbody>\n",
       "</table>\n"
      ],
      "text/latex": [
       "A data.frame: 32 × 4\n",
       "\\begin{tabular}{r|llll}\n",
       "  & mpg & cyl & hp & qsec\\\\\n",
       "  & <dbl> & <dbl> & <dbl> & <dbl>\\\\\n",
       "\\hline\n",
       "\tMazda RX4 & 21.0 & 6 & 110 & 16.46\\\\\n",
       "\tMazda RX4 Wag & 21.0 & 6 & 110 & 17.02\\\\\n",
       "\tDatsun 710 & 22.8 & 4 &  93 & 18.61\\\\\n",
       "\tHornet 4 Drive & 21.4 & 6 & 110 & 19.44\\\\\n",
       "\tHornet Sportabout & 18.7 & 8 & 175 & 17.02\\\\\n",
       "\t⋮ & ⋮ & ⋮ & ⋮ & ⋮\\\\\n",
       "\tLotus Europa & 30.4 & 4 & 113 & 16.9\\\\\n",
       "\tFord Pantera L & 15.8 & 8 & 264 & 14.5\\\\\n",
       "\tFerrari Dino & 19.7 & 6 & 175 & 15.5\\\\\n",
       "\tMaserati Bora & 15.0 & 8 & 335 & 14.6\\\\\n",
       "\tVolvo 142E & 21.4 & 4 & 109 & 18.6\\\\\n",
       "\\end{tabular}\n"
      ],
      "text/markdown": [
       "\n",
       "A data.frame: 32 × 4\n",
       "\n",
       "| <!--/--> | mpg &lt;dbl&gt; | cyl &lt;dbl&gt; | hp &lt;dbl&gt; | qsec &lt;dbl&gt; |\n",
       "|---|---|---|---|---|\n",
       "| Mazda RX4 | 21.0 | 6 | 110 | 16.46 |\n",
       "| Mazda RX4 Wag | 21.0 | 6 | 110 | 17.02 |\n",
       "| Datsun 710 | 22.8 | 4 |  93 | 18.61 |\n",
       "| Hornet 4 Drive | 21.4 | 6 | 110 | 19.44 |\n",
       "| Hornet Sportabout | 18.7 | 8 | 175 | 17.02 |\n",
       "| ⋮ | ⋮ | ⋮ | ⋮ | ⋮ |\n",
       "| Lotus Europa | 30.4 | 4 | 113 | 16.9 |\n",
       "| Ford Pantera L | 15.8 | 8 | 264 | 14.5 |\n",
       "| Ferrari Dino | 19.7 | 6 | 175 | 15.5 |\n",
       "| Maserati Bora | 15.0 | 8 | 335 | 14.6 |\n",
       "| Volvo 142E | 21.4 | 4 | 109 | 18.6 |\n",
       "\n"
      ],
      "text/plain": [
       "                  mpg  cyl hp  qsec \n",
       "Mazda RX4         21.0 6   110 16.46\n",
       "Mazda RX4 Wag     21.0 6   110 17.02\n",
       "Datsun 710        22.8 4    93 18.61\n",
       "Hornet 4 Drive    21.4 6   110 19.44\n",
       "Hornet Sportabout 18.7 8   175 17.02\n",
       "⋮                 ⋮    ⋮   ⋮   ⋮    \n",
       "Lotus Europa      30.4 4   113 16.9 \n",
       "Ford Pantera L    15.8 8   264 14.5 \n",
       "Ferrari Dino      19.7 6   175 15.5 \n",
       "Maserati Bora     15.0 8   335 14.6 \n",
       "Volvo 142E        21.4 4   109 18.6 "
      ]
     },
     "metadata": {},
     "output_type": "display_data"
    }
   ],
   "source": [
    "dplyr::select(mtcars, mpg, cyl, hp, qsec)"
   ]
  },
  {
   "cell_type": "markdown",
   "id": "1d9610b6-b99f-4871-83d3-270377c8c813",
   "metadata": {
    "slideshow": {
     "slide_type": "fragment"
    }
   },
   "source": [
    "Notes: \n",
    "- There's more than just lazy evaluation happening in the code above, but lazy evaluation is part of it.\n",
    "- `package::function()` is a way to use a function from an R package without loading the entire library.\n"
   ]
  },
  {
   "cell_type": "markdown",
   "id": "e5ffd01a-0d43-4e99-8474-0c448098c4ed",
   "metadata": {
    "slideshow": {
     "slide_type": "slide"
    }
   },
   "source": [
    "## Exception handling\n",
    "\n",
    "Sometimes our code is correct but we still encounter errors. This commonly occurs with functions when users attempt to use them in weird and creative ways that the developer did not intend. Developers are well advised to try to anticipate some of this user behaviour and guard against this in a way that can be of help to the user. One way to do this is to have a function fail intentionally when incorrect user input is given. \n",
    "\n",
    "Imagine we have a simple function to convert temperatures from Fahrenheit to Celsius:"
   ]
  },
  {
   "cell_type": "code",
   "execution_count": 15,
   "id": "09c1384b-6d90-470f-851e-4cfc23e71755",
   "metadata": {},
   "outputs": [],
   "source": [
    "fahr_to_celsius <- function(temp) {\n",
    "  (temp - 32) * 5/9\n",
    "}"
   ]
  },
  {
   "cell_type": "markdown",
   "id": "71415990-ed53-4297-8d11-0e650601d7b2",
   "metadata": {},
   "source": [
    "What if our user anticipates that our function can handle numbers written as strings? When this happens our users gets a somewhat cryptic error message (which is inversely correlated with their knowledge of the R programming language):"
   ]
  },
  {
   "cell_type": "markdown",
   "id": "4b870bf6-f185-438b-a599-e4e93c3c4a37",
   "metadata": {},
   "source": [
    "```\n",
    "fahr_to_celsius(\"thirty\")\n",
    "```"
   ]
  },
  {
   "cell_type": "markdown",
   "id": "615d0ba4-1a0e-4ae2-87b0-f66c43ebbe48",
   "metadata": {},
   "source": [
    "```\n",
    "Error in temp - 32: non-numeric argument to binary operator\n",
    "Traceback:\n",
    "\n",
    "1. fahr_to_celsius(\"thirty\")\n",
    "```"
   ]
  },
  {
   "cell_type": "markdown",
   "id": "86c33a0f-ed05-46de-b197-1804c8245d49",
   "metadata": {},
   "source": [
    "This error message is not as helpful as it could be! Also, if this calculation happened to take a long time, it might be nicer to check the data type before we attempt the calculation and then if the wrong data type was given, throw an purposeful error with a more helpful error message. One way we can do this simply in R is using a conditional (i.e., `if` statement) to test the type and then calling `stop` with a useful error message if the type is incorrect. \n",
    "\n",
    "For example with the `fahr_to_celsius` function, we can use `if(!is.numeric(temp))` to check whether `temp` is not numeric. And then if it is not, `stop` causes a break and the printing out of the more helpful error message \"`fahr_to_celsius` expects a vector of numeric values"
   ]
  },
  {
   "cell_type": "code",
   "execution_count": 16,
   "id": "bb472c50-a91d-4370-9911-c4afdaa43f69",
   "metadata": {
    "slideshow": {
     "slide_type": "fragment"
    }
   },
   "outputs": [],
   "source": [
    "fahr_to_celsius <- function(temp) {\n",
    "  if(!is.numeric(temp)) {    \n",
    "    stop(\"`fahr_to_celsius` expects a vector of numeric values\")\n",
    "  }\n",
    "  (temp - 32) * 5/9\n",
    "}"
   ]
  },
  {
   "cell_type": "markdown",
   "id": "513bcc0c-c9dc-4fa0-8236-f655d9735767",
   "metadata": {
    "slideshow": {
     "slide_type": "fragment"
    }
   },
   "source": [
    "```\n",
    "fahr_to_celsius(\"thirty\")\n",
    "```"
   ]
  },
  {
   "cell_type": "markdown",
   "id": "36b2ca57-1fb4-4e3a-ad0f-589574dc1523",
   "metadata": {},
   "source": [
    "```\n",
    "Error in fahr_to_celsius(\"thirty\"): `fahr_to_celsius` expects a vector of numeric values\n",
    "Traceback:\n",
    "\n",
    "1. fahr_to_celsius(\"thirty\")\n",
    "2. stop(\"`fahr_to_celsius` expects a vector of numeric values\")   # at line 3 of file <text>\n",
    "```"
   ]
  },
  {
   "cell_type": "markdown",
   "id": "938335ad-66f7-48c0-a341-340e562a6681",
   "metadata": {
    "slideshow": {
     "slide_type": "fragment"
    }
   },
   "source": [
    "If you wanted to issue a warning instead of an error, you could use `warning` in place of `stop` in the example above. However, in most cases it is better practice to throw an error than to print a warning...\n",
    "\n",
    "More advanced exception handling exists in R, and I invite interested learner to read more about it here in the [Condition Handling](http://adv-r.had.co.nz/Exceptions-Debugging.html#condition-handling) and [Defensive Programming](http://adv-r.had.co.nz/Exceptions-Debugging.html#defensive-programming) sections of Advanced R."
   ]
  },
  {
   "cell_type": "markdown",
   "id": "23209aae-a18a-4c9b-9aa8-1d1f68e4c592",
   "metadata": {},
   "source": [
    "## Programming with the `tidyverse` functions\n",
    "\n",
    "The functions from the `tidyverse` are beautiful to use interactively - with these functions, we can \"pretend\" that the data frame column names are objects in the global environment and refer to them without quotations (e.g., `\"\"`)"
   ]
  },
  {
   "cell_type": "code",
   "execution_count": 17,
   "id": "54a1b11d-52cd-4015-abc7-94bd0458c8c2",
   "metadata": {},
   "outputs": [
    {
     "name": "stderr",
     "output_type": "stream",
     "text": [
      "── \u001b[1mAttaching packages\u001b[22m ───────────────────────────────────────────────────────────────────────────────────────── tidyverse 1.3.1 ──\n",
      "\n",
      "\u001b[32m✔\u001b[39m \u001b[34mggplot2\u001b[39m 3.3.5     \u001b[32m✔\u001b[39m \u001b[34mpurrr  \u001b[39m 0.3.4\n",
      "\u001b[32m✔\u001b[39m \u001b[34mtibble \u001b[39m 3.1.6     \u001b[32m✔\u001b[39m \u001b[34mdplyr  \u001b[39m 1.0.7\n",
      "\u001b[32m✔\u001b[39m \u001b[34mtidyr  \u001b[39m 1.2.0     \u001b[32m✔\u001b[39m \u001b[34mstringr\u001b[39m 1.4.0\n",
      "\u001b[32m✔\u001b[39m \u001b[34mreadr  \u001b[39m 2.1.2     \u001b[32m✔\u001b[39m \u001b[34mforcats\u001b[39m 0.5.1\n",
      "\n",
      "── \u001b[1mConflicts\u001b[22m ──────────────────────────────────────────────────────────────────────────────────────────── tidyverse_conflicts() ──\n",
      "\u001b[31m✖\u001b[39m \u001b[34mdplyr\u001b[39m::\u001b[32mfilter()\u001b[39m masks \u001b[34mstats\u001b[39m::filter()\n",
      "\u001b[31m✖\u001b[39m \u001b[34mdplyr\u001b[39m::\u001b[32mlag()\u001b[39m    masks \u001b[34mstats\u001b[39m::lag()\n",
      "\n"
     ]
    },
    {
     "data": {
      "text/html": [
       "<table class=\"dataframe\">\n",
       "<caption>A tibble: 1 × 6</caption>\n",
       "<thead>\n",
       "\t<tr><th scope=col>country</th><th scope=col>continent</th><th scope=col>year</th><th scope=col>lifeExp</th><th scope=col>pop</th><th scope=col>gdpPercap</th></tr>\n",
       "\t<tr><th scope=col>&lt;fct&gt;</th><th scope=col>&lt;fct&gt;</th><th scope=col>&lt;int&gt;</th><th scope=col>&lt;dbl&gt;</th><th scope=col>&lt;int&gt;</th><th scope=col>&lt;dbl&gt;</th></tr>\n",
       "</thead>\n",
       "<tbody>\n",
       "\t<tr><td>Canada</td><td>Americas</td><td>1952</td><td>68.75</td><td>14785584</td><td>11367.16</td></tr>\n",
       "</tbody>\n",
       "</table>\n"
      ],
      "text/latex": [
       "A tibble: 1 × 6\n",
       "\\begin{tabular}{llllll}\n",
       " country & continent & year & lifeExp & pop & gdpPercap\\\\\n",
       " <fct> & <fct> & <int> & <dbl> & <int> & <dbl>\\\\\n",
       "\\hline\n",
       "\t Canada & Americas & 1952 & 68.75 & 14785584 & 11367.16\\\\\n",
       "\\end{tabular}\n"
      ],
      "text/markdown": [
       "\n",
       "A tibble: 1 × 6\n",
       "\n",
       "| country &lt;fct&gt; | continent &lt;fct&gt; | year &lt;int&gt; | lifeExp &lt;dbl&gt; | pop &lt;int&gt; | gdpPercap &lt;dbl&gt; |\n",
       "|---|---|---|---|---|---|\n",
       "| Canada | Americas | 1952 | 68.75 | 14785584 | 11367.16 |\n",
       "\n"
      ],
      "text/plain": [
       "  country continent year lifeExp pop      gdpPercap\n",
       "1 Canada  Americas  1952 68.75   14785584 11367.16 "
      ]
     },
     "metadata": {},
     "output_type": "display_data"
    }
   ],
   "source": [
    "library(tidyverse)\n",
    "library(gapminder)\n",
    "\n",
    "gapminder |>\n",
    "  filter(country == \"Canada\", year == 1952)"
   ]
  },
  {
   "cell_type": "markdown",
   "id": "414cf566-f40d-446e-9666-bef628049e02",
   "metadata": {},
   "source": [
    "expecially when compared with base R:"
   ]
  },
  {
   "cell_type": "code",
   "execution_count": 18,
   "id": "15108a14-7a66-428e-aae1-e1ca4203b575",
   "metadata": {},
   "outputs": [
    {
     "data": {
      "text/html": [
       "<table class=\"dataframe\">\n",
       "<caption>A tibble: 1 × 6</caption>\n",
       "<thead>\n",
       "\t<tr><th scope=col>country</th><th scope=col>continent</th><th scope=col>year</th><th scope=col>lifeExp</th><th scope=col>pop</th><th scope=col>gdpPercap</th></tr>\n",
       "\t<tr><th scope=col>&lt;fct&gt;</th><th scope=col>&lt;fct&gt;</th><th scope=col>&lt;int&gt;</th><th scope=col>&lt;dbl&gt;</th><th scope=col>&lt;int&gt;</th><th scope=col>&lt;dbl&gt;</th></tr>\n",
       "</thead>\n",
       "<tbody>\n",
       "\t<tr><td>Canada</td><td>Americas</td><td>1952</td><td>68.75</td><td>14785584</td><td>11367.16</td></tr>\n",
       "</tbody>\n",
       "</table>\n"
      ],
      "text/latex": [
       "A tibble: 1 × 6\n",
       "\\begin{tabular}{llllll}\n",
       " country & continent & year & lifeExp & pop & gdpPercap\\\\\n",
       " <fct> & <fct> & <int> & <dbl> & <int> & <dbl>\\\\\n",
       "\\hline\n",
       "\t Canada & Americas & 1952 & 68.75 & 14785584 & 11367.16\\\\\n",
       "\\end{tabular}\n"
      ],
      "text/markdown": [
       "\n",
       "A tibble: 1 × 6\n",
       "\n",
       "| country &lt;fct&gt; | continent &lt;fct&gt; | year &lt;int&gt; | lifeExp &lt;dbl&gt; | pop &lt;int&gt; | gdpPercap &lt;dbl&gt; |\n",
       "|---|---|---|---|---|---|\n",
       "| Canada | Americas | 1952 | 68.75 | 14785584 | 11367.16 |\n",
       "\n"
      ],
      "text/plain": [
       "  country continent year lifeExp pop      gdpPercap\n",
       "1 Canada  Americas  1952 68.75   14785584 11367.16 "
      ]
     },
     "metadata": {},
     "output_type": "display_data"
    }
   ],
   "source": [
    "gapminder[gapminder$country == \"Canada\" & gapminder$year == 1952, ]"
   ]
  },
  {
   "cell_type": "markdown",
   "id": "242c143e-dc48-431d-b227-d7ff43849be6",
   "metadata": {},
   "source": [
    "However, the beauty of being able to refer to data frame column names in R without quotations, leads to problems when we try to use them in a function. \n",
    "For example, \n",
    "\n",
    "```\n",
    "filter_gap <- function(col, val) {\n",
    "    filter(gapminder, col == val)\n",
    "}\n",
    "\n",
    "filter_gap(country, \"Canada\")\n",
    "```\n",
    "\n",
    "```\n",
    "Error: object 'country' not found\n",
    "Traceback:\n",
    "\n",
    "1. filter_gap(country, \"Canada\")\n",
    "2. filter(gapminder, col == val)   # at line 4 of file <text>\n",
    "3. filter.tbl_df(gapminder, col == val)\n",
    "4. filter_impl(.data, quo)\n",
    "\n",
    "```\n",
    "\n",
    "Why does `filter` work with non-quoted variable names, but our function `filter_gap` fail?\n",
    "At a very high-level, this is because `filter` is doing more behind the scenes to handle these\n",
    "unquoted column names than we see without looking at the source code. \n",
    "So to make this work for our function, we need to do a little more work too.\n",
    "\n",
    "Given that this is not a course in R programming, we will not go into the details of why this happens,\n",
    "but we will show one way of how to handle this. \n",
    "For learners intersted to learn more about why this happens,\n",
    "we recommend reading these two resources:\n",
    "\n",
    "1. [Programming with `dplyr`](https://dplyr.tidyverse.org/articles/programming.html)\n",
    "2. [Metaprogramming](https://adv-r.hadley.nz/metaprogramming.html)\n",
    "\n",
    "### Defining `tidyverse` functions by embracing column names: `{{ }}`\n",
    "\n",
    "In the newest release of the `rlang` R package, there has been the introduction of the `{{` (pronounced \"curly curly\") operator.\n",
    "This operator does the necessary work behind the scenes so that you can continue to use unquoted column names \n",
    "with the `tidyverse` functions even when you use them in functions that you write yourself. \n",
    "\n",
    "To use the `{{` operator, we \"embrace\" the unquoted column names when we refer to them inside our function body.\n",
    "An important note is that there are several ways to implement the usage of unquoted column names in R,\n",
    "and  the `{{` operator only works with the `tidyverse` functions.\n",
    "Please refer to the [Metaprogramming](https://adv-r.hadley.nz/metaprogramming.html) chapter of Advanced R \n",
    "if you need to do this with non-tidyverse functions.\n",
    "\n",
    "Here's the function we show above working when we use the `{{` operator to \"embrace\" the unquoted column names:"
   ]
  },
  {
   "cell_type": "code",
   "execution_count": 19,
   "id": "6f660292-9de8-4274-839f-2d9f6c9b898c",
   "metadata": {},
   "outputs": [],
   "source": [
    "filter_gap <- function(col, val) {\n",
    "  filter(gapminder, {{col}} == val)\n",
    "}"
   ]
  },
  {
   "cell_type": "code",
   "execution_count": 20,
   "id": "bf03514e-d940-44c9-96d2-ba55ef0488f7",
   "metadata": {},
   "outputs": [
    {
     "data": {
      "text/html": [
       "<table class=\"dataframe\">\n",
       "<caption>A tibble: 12 × 6</caption>\n",
       "<thead>\n",
       "\t<tr><th scope=col>country</th><th scope=col>continent</th><th scope=col>year</th><th scope=col>lifeExp</th><th scope=col>pop</th><th scope=col>gdpPercap</th></tr>\n",
       "\t<tr><th scope=col>&lt;fct&gt;</th><th scope=col>&lt;fct&gt;</th><th scope=col>&lt;int&gt;</th><th scope=col>&lt;dbl&gt;</th><th scope=col>&lt;int&gt;</th><th scope=col>&lt;dbl&gt;</th></tr>\n",
       "</thead>\n",
       "<tbody>\n",
       "\t<tr><td>Canada</td><td>Americas</td><td>1952</td><td>68.75</td><td>14785584</td><td>11367.16</td></tr>\n",
       "\t<tr><td>Canada</td><td>Americas</td><td>1957</td><td>69.96</td><td>17010154</td><td>12489.95</td></tr>\n",
       "\t<tr><td>Canada</td><td>Americas</td><td>1962</td><td>71.30</td><td>18985849</td><td>13462.49</td></tr>\n",
       "\t<tr><td>Canada</td><td>Americas</td><td>1967</td><td>72.13</td><td>20819767</td><td>16076.59</td></tr>\n",
       "\t<tr><td>Canada</td><td>Americas</td><td>1972</td><td>72.88</td><td>22284500</td><td>18970.57</td></tr>\n",
       "\t<tr><td>⋮</td><td>⋮</td><td>⋮</td><td>⋮</td><td>⋮</td><td>⋮</td></tr>\n",
       "\t<tr><td>Canada</td><td>Americas</td><td>1987</td><td>76.860</td><td>26549700</td><td>26626.52</td></tr>\n",
       "\t<tr><td>Canada</td><td>Americas</td><td>1992</td><td>77.950</td><td>28523502</td><td>26342.88</td></tr>\n",
       "\t<tr><td>Canada</td><td>Americas</td><td>1997</td><td>78.610</td><td>30305843</td><td>28954.93</td></tr>\n",
       "\t<tr><td>Canada</td><td>Americas</td><td>2002</td><td>79.770</td><td>31902268</td><td>33328.97</td></tr>\n",
       "\t<tr><td>Canada</td><td>Americas</td><td>2007</td><td>80.653</td><td>33390141</td><td>36319.24</td></tr>\n",
       "</tbody>\n",
       "</table>\n"
      ],
      "text/latex": [
       "A tibble: 12 × 6\n",
       "\\begin{tabular}{llllll}\n",
       " country & continent & year & lifeExp & pop & gdpPercap\\\\\n",
       " <fct> & <fct> & <int> & <dbl> & <int> & <dbl>\\\\\n",
       "\\hline\n",
       "\t Canada & Americas & 1952 & 68.75 & 14785584 & 11367.16\\\\\n",
       "\t Canada & Americas & 1957 & 69.96 & 17010154 & 12489.95\\\\\n",
       "\t Canada & Americas & 1962 & 71.30 & 18985849 & 13462.49\\\\\n",
       "\t Canada & Americas & 1967 & 72.13 & 20819767 & 16076.59\\\\\n",
       "\t Canada & Americas & 1972 & 72.88 & 22284500 & 18970.57\\\\\n",
       "\t ⋮ & ⋮ & ⋮ & ⋮ & ⋮ & ⋮\\\\\n",
       "\t Canada & Americas & 1987 & 76.860 & 26549700 & 26626.52\\\\\n",
       "\t Canada & Americas & 1992 & 77.950 & 28523502 & 26342.88\\\\\n",
       "\t Canada & Americas & 1997 & 78.610 & 30305843 & 28954.93\\\\\n",
       "\t Canada & Americas & 2002 & 79.770 & 31902268 & 33328.97\\\\\n",
       "\t Canada & Americas & 2007 & 80.653 & 33390141 & 36319.24\\\\\n",
       "\\end{tabular}\n"
      ],
      "text/markdown": [
       "\n",
       "A tibble: 12 × 6\n",
       "\n",
       "| country &lt;fct&gt; | continent &lt;fct&gt; | year &lt;int&gt; | lifeExp &lt;dbl&gt; | pop &lt;int&gt; | gdpPercap &lt;dbl&gt; |\n",
       "|---|---|---|---|---|---|\n",
       "| Canada | Americas | 1952 | 68.75 | 14785584 | 11367.16 |\n",
       "| Canada | Americas | 1957 | 69.96 | 17010154 | 12489.95 |\n",
       "| Canada | Americas | 1962 | 71.30 | 18985849 | 13462.49 |\n",
       "| Canada | Americas | 1967 | 72.13 | 20819767 | 16076.59 |\n",
       "| Canada | Americas | 1972 | 72.88 | 22284500 | 18970.57 |\n",
       "| ⋮ | ⋮ | ⋮ | ⋮ | ⋮ | ⋮ |\n",
       "| Canada | Americas | 1987 | 76.860 | 26549700 | 26626.52 |\n",
       "| Canada | Americas | 1992 | 77.950 | 28523502 | 26342.88 |\n",
       "| Canada | Americas | 1997 | 78.610 | 30305843 | 28954.93 |\n",
       "| Canada | Americas | 2002 | 79.770 | 31902268 | 33328.97 |\n",
       "| Canada | Americas | 2007 | 80.653 | 33390141 | 36319.24 |\n",
       "\n"
      ],
      "text/plain": [
       "   country continent year lifeExp pop      gdpPercap\n",
       "1  Canada  Americas  1952 68.75   14785584 11367.16 \n",
       "2  Canada  Americas  1957 69.96   17010154 12489.95 \n",
       "3  Canada  Americas  1962 71.30   18985849 13462.49 \n",
       "4  Canada  Americas  1967 72.13   20819767 16076.59 \n",
       "5  Canada  Americas  1972 72.88   22284500 18970.57 \n",
       "⋮  ⋮       ⋮         ⋮    ⋮       ⋮        ⋮        \n",
       "8  Canada  Americas  1987 76.860  26549700 26626.52 \n",
       "9  Canada  Americas  1992 77.950  28523502 26342.88 \n",
       "10 Canada  Americas  1997 78.610  30305843 28954.93 \n",
       "11 Canada  Americas  2002 79.770  31902268 33328.97 \n",
       "12 Canada  Americas  2007 80.653  33390141 36319.24 "
      ]
     },
     "metadata": {},
     "output_type": "display_data"
    }
   ],
   "source": [
    "filter_gap(country, \"Canada\")"
   ]
  },
  {
   "cell_type": "markdown",
   "id": "3539bb49-a2e3-4720-beb3-4fe1db905460",
   "metadata": {},
   "source": [
    "### The walrus operator `:=` is needed when assigning values\n",
    "For similar reasons, the walrus operator (`:=`) is needed when writing functions that create new columns using unquoted column names with the `tidyverse` functions:"
   ]
  },
  {
   "cell_type": "code",
   "execution_count": 21,
   "id": "1f49204e-90ea-498a-8589-3e2ba7b30bdb",
   "metadata": {},
   "outputs": [],
   "source": [
    "group_summary <- function(data, group, col, fun) {\n",
    "  data |>\n",
    "    group_by({{ group }}) |>\n",
    "    summarise( {{ col }} := fun({{ col }}))\n",
    "}"
   ]
  },
  {
   "cell_type": "code",
   "execution_count": 22,
   "id": "9cfe5be0-c1c5-4076-8462-c95efc0960a8",
   "metadata": {},
   "outputs": [
    {
     "data": {
      "text/html": [
       "<table class=\"dataframe\">\n",
       "<caption>A tibble: 5 × 2</caption>\n",
       "<thead>\n",
       "\t<tr><th scope=col>continent</th><th scope=col>gdpPercap</th></tr>\n",
       "\t<tr><th scope=col>&lt;fct&gt;</th><th scope=col>&lt;dbl&gt;</th></tr>\n",
       "</thead>\n",
       "<tbody>\n",
       "\t<tr><td>Africa  </td><td> 2193.755</td></tr>\n",
       "\t<tr><td>Americas</td><td> 7136.110</td></tr>\n",
       "\t<tr><td>Asia    </td><td> 7902.150</td></tr>\n",
       "\t<tr><td>Europe  </td><td>14469.476</td></tr>\n",
       "\t<tr><td>Oceania </td><td>18621.609</td></tr>\n",
       "</tbody>\n",
       "</table>\n"
      ],
      "text/latex": [
       "A tibble: 5 × 2\n",
       "\\begin{tabular}{ll}\n",
       " continent & gdpPercap\\\\\n",
       " <fct> & <dbl>\\\\\n",
       "\\hline\n",
       "\t Africa   &  2193.755\\\\\n",
       "\t Americas &  7136.110\\\\\n",
       "\t Asia     &  7902.150\\\\\n",
       "\t Europe   & 14469.476\\\\\n",
       "\t Oceania  & 18621.609\\\\\n",
       "\\end{tabular}\n"
      ],
      "text/markdown": [
       "\n",
       "A tibble: 5 × 2\n",
       "\n",
       "| continent &lt;fct&gt; | gdpPercap &lt;dbl&gt; |\n",
       "|---|---|\n",
       "| Africa   |  2193.755 |\n",
       "| Americas |  7136.110 |\n",
       "| Asia     |  7902.150 |\n",
       "| Europe   | 14469.476 |\n",
       "| Oceania  | 18621.609 |\n",
       "\n"
      ],
      "text/plain": [
       "  continent gdpPercap\n",
       "1 Africa     2193.755\n",
       "2 Americas   7136.110\n",
       "3 Asia       7902.150\n",
       "4 Europe    14469.476\n",
       "5 Oceania   18621.609"
      ]
     },
     "metadata": {},
     "output_type": "display_data"
    }
   ],
   "source": [
    "group_summary(gapminder, continent, gdpPercap, mean)"
   ]
  },
  {
   "cell_type": "markdown",
   "id": "f77cc0d1-5aba-4c93-8976-f5c8488ff656",
   "metadata": {
    "slideshow": {
     "slide_type": "slide"
    },
    "tags": []
   },
   "source": [
    "## Function documentation\n",
    "\n",
    "Function documentation is extremely useful at both the time of function creation/development, as well as at the time of function usage by the user. At the time of creation/development, it is useful for clearly delineating and communication the planned function's specifications. At the time of usage, it is often the primary documentation a user will refer to in order to understand how to use the function. If a function is not well documented, it will not be well understood or widely used.\n",
    "\n",
    "### Function documentation in R\n",
    "\n",
    "In R, we write function documentation in a style that the [`roxygen2` R package](https://roxygen2.r-lib.org/) can use to automatically generate nicely formatted documentation, accessible via R's help function, when we create R packages. This is not available to us until we package our functions in software packages, however it is a good practice to get into because it helps ensure you document the key aspects of a function for your user, and it means that when you go to create an R package to share your function, you will have already correctly formatted the function documentation - saving future you some work!"
   ]
  },
  {
   "cell_type": "code",
   "execution_count": 23,
   "id": "e6aea8c5-a539-4680-9e6e-b0de0934280a",
   "metadata": {
    "slideshow": {
     "slide_type": "fragment"
    }
   },
   "outputs": [],
   "source": [
    "#' Converts temperatures from Fahrenheit to Celsius.\n",
    "#'    \n",
    "#' @param temp a vector of temperatures in Fahrenheit\n",
    "#' \n",
    "#' @return a vector of temperatures in Celsius\n",
    "#' \n",
    "#' @examples\n",
    "#' fahr_to_celcius(-20)\n",
    "fahr_to_celsius <- function(temp) {\n",
    "    (temp - 32) * 5/9\n",
    "}"
   ]
  },
  {
   "cell_type": "markdown",
   "id": "a18dc29e-247c-4221-9346-fc7131aff1e7",
   "metadata": {},
   "source": [
    "RStudio has a nice feature to provide a `roxygen2` formatted skeleton for function documentation. To use it, you put the cursor in the function definition, and then select the menu items \"Code\" > \"Insert Roxygen Skeleton\":\n",
    "\n",
    "<img src=\"img/insert_roxygen.png\" width=600>"
   ]
  },
  {
   "cell_type": "markdown",
   "id": "36a9314f-d9ce-41ab-b81c-78e2c7a01f21",
   "metadata": {},
   "source": [
    "## Practice writing functions in R\n",
    "\n",
    "To practice writing functions in R, you can attempt this worksheet: https://github.com/UBC-DSCI/dsci-310-student/blob/main/practice/worksheet_functions_in_r.ipynb\n",
    "\n",
    "*Note: to access the automated software tests for feedback on your answers, you will want to clone or download [this GitHub repo](https://github.com/UBC-DSCI/dsci-310-student) and navigate to the `practice` directory.*"
   ]
  },
  {
   "cell_type": "markdown",
   "id": "be11dbb9-da7f-4458-b595-a07833d6a376",
   "metadata": {},
   "source": [
    "## Defining functions in Python\n",
    "\n",
    "In this course, we will get to practice writing functions (and then testing them) in the Python programming language. We will only cover it here briefly. To learn more about functions in Python, we refer you to the [Module 6: Functions Fundamentals and Best Practices\n",
    "](https://prog-learn.mds.ubc.ca/en/module6) from the Programming in Python for Data Science course.\n",
    "\n",
    "Functions in Python are defined using the reserved word `def`. A colon follows the function arguments to indicate where the function body should starte. White space, in particular indentation, is used to indicate which code belongs in the function body and which does not. A general form for fucntion definition is shown below:\n",
    "\n",
    "```\n",
    "def function_name(…function arguments…):\n",
    "    …function body…\n",
    "```\n",
    "\n",
    "Here's a working example:"
   ]
  },
  {
   "cell_type": "code",
   "execution_count": 2,
   "id": "1b89b936-629f-41ce-a850-b65bdd648484",
   "metadata": {
    "slideshow": {
     "slide_type": "fragment"
    }
   },
   "outputs": [
    {
     "data": {
      "text/html": [
       "5"
      ],
      "text/latex": [
       "5"
      ],
      "text/markdown": [
       "5"
      ],
      "text/plain": [
       "[1] 5"
      ]
     },
     "metadata": {},
     "output_type": "display_data"
    }
   ],
   "source": [
    "add_two_numbers <- function(x, y) {\n",
    "  x + y\n",
    "}\n",
    "\n",
    "add_two_numbers(1, 4)"
   ]
  },
  {
   "cell_type": "markdown",
   "id": "e0afba65-6e27-46ea-835f-c81eaa67e210",
   "metadata": {
    "slideshow": {
     "slide_type": "fragment"
    }
   },
   "source": [
    "- Functions in R are objects. This is referred to as “first-class functions”.\n",
    "- The last line of the function returns the object created, or listed there. To return a value early use the special word `return` (as shown below)."
   ]
  },
  {
   "cell_type": "code",
   "execution_count": 3,
   "id": "b5341778-f5b1-41c5-a39c-fd94977c93fb",
   "metadata": {
    "slideshow": {
     "slide_type": "slide"
    }
   },
   "outputs": [],
   "source": [
    "math_two_numbers <- function(x, y, operation) {\n",
    "  if (operation == \"add\") {\n",
    "    return(x + y)\n",
    "  } \n",
    "  x - y\n",
    "}"
   ]
  },
  {
   "cell_type": "code",
   "execution_count": 4,
   "id": "e8765c16-8022-4c88-a5b3-b727dd052ddc",
   "metadata": {},
   "outputs": [
    {
     "data": {
      "text/html": [
       "5"
      ],
      "text/latex": [
       "5"
      ],
      "text/markdown": [
       "5"
      ],
      "text/plain": [
       "[1] 5"
      ]
     },
     "metadata": {},
     "output_type": "display_data"
    }
   ],
   "source": [
    "math_two_numbers (1, 4, \"add\")"
   ]
  },
  {
   "cell_type": "code",
   "execution_count": 5,
   "id": "7847a3b6-33f8-42a6-a87b-1079b3f0283c",
   "metadata": {},
   "outputs": [
    {
     "data": {
      "text/html": [
       "-3"
      ],
      "text/latex": [
       "-3"
      ],
      "text/markdown": [
       "-3"
      ],
      "text/plain": [
       "[1] -3"
      ]
     },
     "metadata": {},
     "output_type": "display_data"
    }
   ],
   "source": [
    "math_two_numbers (1, 4, \"subtract\")"
   ]
  },
  {
   "cell_type": "markdown",
   "id": "b1b3368b-6f95-4a6b-b38b-bcd72b87beb4",
   "metadata": {
    "slideshow": {
     "slide_type": "slide"
    }
   },
   "source": [
    "### Default function arguments\n",
    "\n",
    "Default values can be specified in the function definition:"
   ]
  },
  {
   "cell_type": "code",
   "execution_count": 6,
   "id": "8a1e137b-f026-46c8-8936-9800d6ff4af0",
   "metadata": {
    "slideshow": {
     "slide_type": "fragment"
    }
   },
   "outputs": [],
   "source": [
    "math_two_numbers <- function(x, y, operation = \"add\") {\n",
    "  if (operation == \"add\") {\n",
    "    return(x + y)\n",
    "  } \n",
    "  x - y\n",
    "}"
   ]
  },
  {
   "cell_type": "code",
   "execution_count": 7,
   "id": "6f9d52ba-0777-4e29-a3cb-6f5b88d9ef07",
   "metadata": {},
   "outputs": [
    {
     "data": {
      "text/html": [
       "5"
      ],
      "text/latex": [
       "5"
      ],
      "text/markdown": [
       "5"
      ],
      "text/plain": [
       "[1] 5"
      ]
     },
     "metadata": {},
     "output_type": "display_data"
    }
   ],
   "source": [
    "math_two_numbers (1, 4)"
   ]
  },
  {
   "cell_type": "code",
   "execution_count": 8,
   "id": "e6f61410-f8f5-441b-aa90-601882b155b1",
   "metadata": {},
   "outputs": [
    {
     "data": {
      "text/html": [
       "-3"
      ],
      "text/latex": [
       "-3"
      ],
      "text/markdown": [
       "-3"
      ],
      "text/plain": [
       "[1] -3"
      ]
     },
     "metadata": {},
     "output_type": "display_data"
    }
   ],
   "source": [
    "math_two_numbers (1, 4, \"subtract\")"
   ]
  },
  {
   "cell_type": "markdown",
   "id": "7b14881b-68eb-427b-817d-005404c82644",
   "metadata": {
    "slideshow": {
     "slide_type": "skip"
    }
   },
   "source": [
    "#### Optional - Advanced\n",
    "\n",
    "##### Extra arguments via `...`\n",
    "\n",
    "If we want our function to be able to take extra arguments that we don't specify, we must explicitly convert `...` to a list (otherwise `...` will just return the first object passed to `...`):"
   ]
  }
 ],
 "metadata": {
  "kernelspec": {
   "display_name": "R",
   "language": "R",
   "name": "ir"
  },
  "language_info": {
   "codemirror_mode": "r",
   "file_extension": ".r",
   "mimetype": "text/x-r-source",
   "name": "R",
   "pygments_lexer": "r",
   "version": "4.3.2"
  }
 },
 "nbformat": 4,
 "nbformat_minor": 5
}
